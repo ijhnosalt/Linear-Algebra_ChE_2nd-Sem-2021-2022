{
  "nbformat": 4,
  "nbformat_minor": 0,
  "metadata": {
    "colab": {
      "name": "Activity_1 - Python Fundamentals",
      "provenance": [],
      "collapsed_sections": [],
      "authorship_tag": "ABX9TyOViP27852hPhFIXsRhW/bW",
      "include_colab_link": true
    },
    "kernelspec": {
      "name": "python3",
      "display_name": "Python 3"
    },
    "language_info": {
      "name": "python"
    }
  },
  "cells": [
    {
      "cell_type": "markdown",
      "metadata": {
        "id": "view-in-github",
        "colab_type": "text"
      },
      "source": [
        "<a href=\"https://colab.research.google.com/github/ijhnosalt/Linear-Algebra_ChE_2nd-Sem-2021-2022/blob/main/Activity_1_Python_Fundamentals.ipynb\" target=\"_parent\"><img src=\"https://colab.research.google.com/assets/colab-badge.svg\" alt=\"Open In Colab\"/></a>"
      ]
    },
    {
      "cell_type": "markdown",
      "source": [
        "# Welcome to Python Fundamentals\n",
        "In this module, we are going to establish or review our skills in Python programming. In this notebook we are going to cover:\n",
        "* Variables and Data Types \n",
        "* Operations\n",
        "* Input and Output Operations\n",
        "* Logic Control\n",
        "* Iterables\n",
        "* Functions"
      ],
      "metadata": {
        "id": "npzG-2-1_E_g"
      }
    },
    {
      "cell_type": "markdown",
      "source": [
        "## Variable and Data Types"
      ],
      "metadata": {
        "id": "4CEA_969AGSr"
      }
    },
    {
      "cell_type": "code",
      "source": [
        "x = 1\n",
        "i,j = 2, 13"
      ],
      "metadata": {
        "id": "Czp0sX-nAOy_"
      },
      "execution_count": null,
      "outputs": []
    },
    {
      "cell_type": "code",
      "source": [
        "type(x)"
      ],
      "metadata": {
        "colab": {
          "base_uri": "https://localhost:8080/"
        },
        "id": "avGcBa6WBFc3",
        "outputId": "f06a6761-765c-4811-f02b-95c6661dbade"
      },
      "execution_count": null,
      "outputs": [
        {
          "output_type": "execute_result",
          "data": {
            "text/plain": [
              "int"
            ]
          },
          "metadata": {},
          "execution_count": 21
        }
      ]
    },
    {
      "cell_type": "code",
      "source": [
        "y = 1.0\n",
        "type(y)"
      ],
      "metadata": {
        "id": "r51GrXKTBF-G"
      },
      "execution_count": null,
      "outputs": []
    },
    {
      "cell_type": "code",
      "source": [
        "x = float(x)\n",
        "type(x)"
      ],
      "metadata": {
        "id": "UhpmrDstBGJg"
      },
      "execution_count": null,
      "outputs": []
    },
    {
      "cell_type": "code",
      "source": [
        "s,t,u = \"0\", '1', 'one'\n",
        "type(s)"
      ],
      "metadata": {
        "id": "_6tvYUstBGbN"
      },
      "execution_count": null,
      "outputs": []
    },
    {
      "cell_type": "code",
      "source": [
        "s_int = int(s)\n",
        "s_int"
      ],
      "metadata": {
        "colab": {
          "base_uri": "https://localhost:8080/"
        },
        "id": "6ZX7MCKZCJl2",
        "outputId": "60e55a67-9237-4793-bc93-a3328a5cfd56"
      },
      "execution_count": null,
      "outputs": [
        {
          "output_type": "execute_result",
          "data": {
            "text/plain": [
              "0"
            ]
          },
          "metadata": {},
          "execution_count": 17
        }
      ]
    },
    {
      "cell_type": "markdown",
      "source": [
        "##Operations"
      ],
      "metadata": {
        "id": "PaadofN4CiHv"
      }
    },
    {
      "cell_type": "markdown",
      "source": [
        "###Arithmetic"
      ],
      "metadata": {
        "id": "r_zS1yytC9nN"
      }
    },
    {
      "cell_type": "code",
      "source": [
        "a,b,c,d = 5.0,-3.5, 8, -32"
      ],
      "metadata": {
        "id": "bsdvyPg-C_hV"
      },
      "execution_count": null,
      "outputs": []
    },
    {
      "cell_type": "code",
      "source": [
        "#Addition\n",
        "S = a+b\n",
        "S"
      ],
      "metadata": {
        "id": "csFJDsTeDjCd"
      },
      "execution_count": null,
      "outputs": []
    },
    {
      "cell_type": "code",
      "source": [
        "###Subtraction\n",
        "D = b-d\n",
        "D"
      ],
      "metadata": {
        "id": "4rEmuIRQEWKy"
      },
      "execution_count": null,
      "outputs": []
    },
    {
      "cell_type": "code",
      "source": [
        "###Multiplication\n",
        "P = a*d\n",
        "P"
      ],
      "metadata": {
        "colab": {
          "base_uri": "https://localhost:8080/"
        },
        "id": "Vz8ShYUPEg-G",
        "outputId": "f1300313-2c42-4e46-d2d2-05b2fbaf2002"
      },
      "execution_count": null,
      "outputs": [
        {
          "output_type": "execute_result",
          "data": {
            "text/plain": [
              "-160.0"
            ]
          },
          "metadata": {},
          "execution_count": 23
        }
      ]
    },
    {
      "cell_type": "code",
      "source": [
        "###Division \n",
        "Q = c/a\n",
        "Q"
      ],
      "metadata": {
        "id": "6_79QrbYEwcr"
      },
      "execution_count": null,
      "outputs": []
    },
    {
      "cell_type": "code",
      "source": [
        "###Floor Division\n",
        "Fq = a//b\n",
        "Fq"
      ],
      "metadata": {
        "id": "Tf-kaZQuE4cL"
      },
      "execution_count": null,
      "outputs": []
    },
    {
      "cell_type": "code",
      "source": [
        "###Exponentiation\n",
        "E = a**b\n",
        "E"
      ],
      "metadata": {
        "colab": {
          "base_uri": "https://localhost:8080/"
        },
        "id": "T6pIPEzQFTvv",
        "outputId": "2be5345b-5dc1-4878-96e8-702d9198c5ee"
      },
      "execution_count": null,
      "outputs": [
        {
          "output_type": "execute_result",
          "data": {
            "text/plain": [
              "0.0035777087639996636"
            ]
          },
          "metadata": {},
          "execution_count": 29
        }
      ]
    },
    {
      "cell_type": "code",
      "source": [
        "###Modulo\n",
        "mod = d%a\n",
        "mod"
      ],
      "metadata": {
        "id": "8lFgoSRTFiRk"
      },
      "execution_count": null,
      "outputs": []
    },
    {
      "cell_type": "markdown",
      "source": [
        "###Assignment Operations"
      ],
      "metadata": {
        "id": "KqKNf_DTIaXz"
      }
    },
    {
      "cell_type": "code",
      "source": [
        "G,H,J,K = 0, 100, 2, 2"
      ],
      "metadata": {
        "id": "ohSjOgaDIfu7"
      },
      "execution_count": null,
      "outputs": []
    },
    {
      "cell_type": "code",
      "source": [
        "G += a\n",
        "G"
      ],
      "metadata": {
        "id": "UhLTHk3iJ9Or"
      },
      "execution_count": null,
      "outputs": []
    },
    {
      "cell_type": "code",
      "source": [
        "H -= d \n",
        "H"
      ],
      "metadata": {
        "id": "TQHT2s8_KD5D"
      },
      "execution_count": null,
      "outputs": []
    },
    {
      "cell_type": "code",
      "source": [
        "J *= 2\n",
        "J "
      ],
      "metadata": {
        "id": "QeyT6aX7LCrh"
      },
      "execution_count": null,
      "outputs": []
    },
    {
      "cell_type": "code",
      "source": [
        "K **= 3 \n",
        "K "
      ],
      "metadata": {
        "id": "IxexcQ5ULHwN"
      },
      "execution_count": null,
      "outputs": []
    },
    {
      "cell_type": "markdown",
      "source": [
        "###Comparators"
      ],
      "metadata": {
        "id": "v3H70zVILWwc"
      }
    },
    {
      "cell_type": "code",
      "source": [
        "res_1, res_2, res_3 = 1, 2.0, \"1\" \n",
        "true_val = 1.0 "
      ],
      "metadata": {
        "id": "do0RQ6P0LY6U"
      },
      "execution_count": null,
      "outputs": []
    },
    {
      "cell_type": "code",
      "source": [
        "## Equality\n",
        "res_1 == true_val"
      ],
      "metadata": {
        "id": "M_peGKNHLh26"
      },
      "execution_count": null,
      "outputs": []
    },
    {
      "cell_type": "code",
      "source": [
        "## Non-Equality\n",
        "res_2 != true_val "
      ],
      "metadata": {
        "id": "mQd-aDF4Lsta"
      },
      "execution_count": null,
      "outputs": []
    },
    {
      "cell_type": "code",
      "source": [
        "## Inequality\n",
        "t1 = res_1 > res_2 \n",
        "t2 = res_1 < res_2/2 \n",
        "t3 = res_1 >= res_2/2\n",
        "t4 = res_1 <= res_2 "
      ],
      "metadata": {
        "id": "2Yvyca-PLzng"
      },
      "execution_count": null,
      "outputs": []
    },
    {
      "cell_type": "markdown",
      "source": [
        "## Logical"
      ],
      "metadata": {
        "id": "MjnkCpXOMLgv"
      }
    },
    {
      "cell_type": "code",
      "source": [
        "res_1 == true_val "
      ],
      "metadata": {
        "id": "11pWiLYNMN3j"
      },
      "execution_count": null,
      "outputs": []
    },
    {
      "cell_type": "code",
      "source": [
        "res_1 is true_val "
      ],
      "metadata": {
        "id": "hBY6vAkxMVh5"
      },
      "execution_count": null,
      "outputs": []
    },
    {
      "cell_type": "code",
      "source": [
        "res_1 is not true_val "
      ],
      "metadata": {
        "id": "OKcnLydoMcrL"
      },
      "execution_count": null,
      "outputs": []
    },
    {
      "cell_type": "code",
      "source": [
        "p, q = True, False \n",
        "conj = p and q \n",
        "conj"
      ],
      "metadata": {
        "id": "NpFGO-JnMflb"
      },
      "execution_count": null,
      "outputs": []
    },
    {
      "cell_type": "code",
      "source": [
        "p, q = True, False\n",
        "disj = p or q \n",
        "disj"
      ],
      "metadata": {
        "id": "ONxv7EZSMonC"
      },
      "execution_count": null,
      "outputs": []
    },
    {
      "cell_type": "code",
      "source": [
        "p, q = True, False \n",
        "nand = not (p and q) \n",
        "nand"
      ],
      "metadata": {
        "id": "E-Icq_RuNzXt"
      },
      "execution_count": null,
      "outputs": []
    },
    {
      "cell_type": "code",
      "source": [
        "p, q = True, False \n",
        "xor = (not p and q) or (p and not q) \n",
        "xor "
      ],
      "metadata": {
        "id": "ZNqNJ7dkOSoY"
      },
      "execution_count": null,
      "outputs": []
    },
    {
      "cell_type": "markdown",
      "source": [
        "## I/O"
      ],
      "metadata": {
        "id": "pfjxwwslOqIp"
      }
    },
    {
      "cell_type": "code",
      "source": [
        "print(\"Hello World\") "
      ],
      "metadata": {
        "id": "G1VnLiWyO8tq"
      },
      "execution_count": null,
      "outputs": []
    },
    {
      "cell_type": "code",
      "source": [
        "cnt = 1 "
      ],
      "metadata": {
        "id": "9VxpK-2fPEFz"
      },
      "execution_count": null,
      "outputs": []
    },
    {
      "cell_type": "code",
      "source": [
        "string = \"Hello World\" \n",
        "print(string, \", Current run count is:\", cnt) \n",
        "cnt+= 1"
      ],
      "metadata": {
        "id": "4RYSsGEhPGdQ"
      },
      "execution_count": null,
      "outputs": []
    },
    {
      "cell_type": "code",
      "source": [
        "print(f\"{string}, Current count is: {cnt}\")"
      ],
      "metadata": {
        "id": "5huVZTSHPYz8"
      },
      "execution_count": null,
      "outputs": []
    },
    {
      "cell_type": "code",
      "source": [
        "sem_grade = 90\n",
        "name = \"ijhnosalt\" \n",
        "print(\"Hello {}, your semestral grade is: {}\". format (name, sem_grade))"
      ],
      "metadata": {
        "colab": {
          "base_uri": "https://localhost:8080/"
        },
        "id": "f_tldPkPP-cZ",
        "outputId": "f801bd50-4972-4f53-dd46-47f1aa746bab"
      },
      "execution_count": null,
      "outputs": [
        {
          "output_type": "stream",
          "name": "stdout",
          "text": [
            "Hello ijhnosalt, your semestral grade is: 90\n"
          ]
        }
      ]
    },
    {
      "cell_type": "code",
      "source": [
        "w_pg, w_mg, w_fg = 0.3, 0.3, 0.4 \n",
        "print(\"The weights of your semestral grades are:\\\n",
        "\\n\\t{:.2%} for Prelims\\\n",
        "\\n\\t{:.2%} for Midterms, and\\\n",
        "\\n\\t{:.2%} for Finals.\". format(w_pg, w_mg, w_fg))"
      ],
      "metadata": {
        "id": "7n2O2bBSQiF1"
      },
      "execution_count": null,
      "outputs": []
    },
    {
      "cell_type": "code",
      "source": [
        "x = input (\"enter a number: \")\n",
        "x"
      ],
      "metadata": {
        "id": "lkORtbQK_Sr8"
      },
      "execution_count": null,
      "outputs": []
    },
    {
      "cell_type": "code",
      "source": [
        "name = input(\"Kimi no nawa: \")\n",
        "pg = input(\"Enter prelim grade: \")\n",
        "mg = input(\"Enter midterm grade: \")\n",
        "fg = input(\"Enter final grade: \")\n",
        "sem_grade = None \n",
        "print(\"Hello {}, your semestral grade is: {}\".format(name, sem_grade))"
      ],
      "metadata": {
        "id": "C3gWYStc_jOF"
      },
      "execution_count": null,
      "outputs": []
    },
    {
      "cell_type": "markdown",
      "source": [
        "#Looping Statements\n"
      ],
      "metadata": {
        "id": "oS9nmBT-DoNA"
      }
    },
    {
      "cell_type": "markdown",
      "source": [
        "##While\n"
      ],
      "metadata": {
        "id": "J4PRLigFDsss"
      }
    },
    {
      "cell_type": "code",
      "source": [
        "##While loops \n",
        "i, j = 0, 10\n",
        "while(i<=j):\n",
        "    print(f\"{i}\\t|\\t{j}\")\n",
        "    i+=1"
      ],
      "metadata": {
        "id": "ytgX1Fx2Dupj"
      },
      "execution_count": null,
      "outputs": []
    },
    {
      "cell_type": "markdown",
      "source": [
        "##For"
      ],
      "metadata": {
        "id": "PicH5Y01FfbG"
      }
    },
    {
      "cell_type": "code",
      "source": [
        "# for(int i=0; i<10; i++){\n",
        "# printf(i)\n",
        "# }\n",
        "\n",
        "i=0\n",
        "for i in range(10):\n",
        "    print(i)"
      ],
      "metadata": {
        "id": "9P99CQzAFgiC"
      },
      "execution_count": null,
      "outputs": []
    },
    {
      "cell_type": "code",
      "source": [
        "playlist = [\"Shake it off\", \"Blank space\", \"I did something bad\"]\n",
        "print('Now Playing:\\n')\n",
        "for song in playlist:\n",
        "    print(song) "
      ],
      "metadata": {
        "id": "234_dVrdHLey"
      },
      "execution_count": null,
      "outputs": []
    },
    {
      "cell_type": "markdown",
      "source": [
        "#Flow Control"
      ],
      "metadata": {
        "id": "2dzPafO1IHC6"
      }
    },
    {
      "cell_type": "markdown",
      "source": [
        "##Condition Statements"
      ],
      "metadata": {
        "id": "6zHv5gDGIJPj"
      }
    },
    {
      "cell_type": "code",
      "source": [
        "numeral1, numeral2 = 12, 11\n",
        "if(numeral1 == numeral2):\n",
        "    print(\"Yey\")\n",
        "elif(numeral1>numeral2):\n",
        "    print(\"Hoho\")\n",
        "else:\n",
        "    print(\"Aww\")"
      ],
      "metadata": {
        "colab": {
          "base_uri": "https://localhost:8080/"
        },
        "id": "CXLzkwdBILRg",
        "outputId": "27f27fee-21f0-4952-d96f-dc74cdea2b40"
      },
      "execution_count": null,
      "outputs": [
        {
          "output_type": "stream",
          "name": "stdout",
          "text": [
            "Hoho\n"
          ]
        }
      ]
    },
    {
      "cell_type": "markdown",
      "source": [
        "#Functions"
      ],
      "metadata": {
        "id": "gdQFXs-JJFvZ"
      }
    },
    {
      "cell_type": "code",
      "source": [
        "# void DeleteUser(int userid){\n",
        "#     delete(userid);\n",
        "#}\n",
        "\n",
        "def delete_user (userid):\n",
        "    print(\"Successfully deleted user: {}\".format(userid))\n",
        "  \n",
        "def delete_all_users ():\n",
        "    print(\"Successfully deleted all users\")"
      ],
      "metadata": {
        "id": "APcz-gH1JK9h"
      },
      "execution_count": null,
      "outputs": []
    },
    {
      "cell_type": "code",
      "source": [
        "userid = 202012192\n",
        "delete_user(202012192)\n",
        "delete_all_users()"
      ],
      "metadata": {
        "colab": {
          "base_uri": "https://localhost:8080/"
        },
        "id": "uaXF3shbKYgD",
        "outputId": "8f77c3d2-e078-481b-e483-11e3df616bca"
      },
      "execution_count": null,
      "outputs": [
        {
          "output_type": "stream",
          "name": "stdout",
          "text": [
            "Successfully deleted user: 202012192\n",
            "Successfully deleted all users\n"
          ]
        }
      ]
    },
    {
      "cell_type": "code",
      "source": [
        "def add(addend1, addend2):\n",
        "    print(\"yehey\")\n",
        "    return addend1 + addend2\n",
        "\n",
        "def power_of_base2(exponent):\n",
        "    return 2**exponent\n",
        "  \n",
        "addend1 = 5\n",
        "addend2 = 10\n",
        "\n",
        "exponent = 5\n",
        "\n",
        "#add(addend1, addend2)\n",
        "power_of_base2(exponent)"
      ],
      "metadata": {
        "colab": {
          "base_uri": "https://localhost:8080/"
        },
        "id": "Jy1UFmC4KgV7",
        "outputId": "2c283e9d-0008-48da-c7fa-f78dac24c86d"
      },
      "execution_count": null,
      "outputs": [
        {
          "output_type": "execute_result",
          "data": {
            "text/plain": [
              "32"
            ]
          },
          "metadata": {},
          "execution_count": 35
        }
      ]
    },
    {
      "cell_type": "code",
      "source": [
        "add(addend1, addend2)"
      ],
      "metadata": {
        "colab": {
          "base_uri": "https://localhost:8080/"
        },
        "id": "fHlg7MOYNpWq",
        "outputId": "4f928ca8-fe20-4680-b5df-f183c2c05dc3"
      },
      "execution_count": null,
      "outputs": [
        {
          "output_type": "stream",
          "name": "stdout",
          "text": [
            "yehey\n"
          ]
        },
        {
          "output_type": "execute_result",
          "data": {
            "text/plain": [
              "15"
            ]
          },
          "metadata": {},
          "execution_count": 36
        }
      ]
    },
    {
      "cell_type": "markdown",
      "source": [
        "## Lambda Functions"
      ],
      "metadata": {
        "id": "fj-SKQYgMdLk"
      }
    },
    {
      "cell_type": "code",
      "source": [
        "x = 4"
      ],
      "metadata": {
        "id": "zLKA9TiKMgKI"
      },
      "execution_count": null,
      "outputs": []
    },
    {
      "cell_type": "code",
      "source": [
        ""
      ],
      "metadata": {
        "id": "ZXH1NFpHM7DM"
      },
      "execution_count": null,
      "outputs": []
    },
    {
      "cell_type": "markdown",
      "source": [
        "#Calculator"
      ],
      "metadata": {
        "id": "4Bg-IrZodY_8"
      }
    },
    {
      "cell_type": "code",
      "source": [
        "print()\n",
        "name = input('\\tName: ');\n",
        "course = input('\\tCourse: ');\n",
        "prelim = float(input('\\tPrelim grade: '));\n",
        "midterm = float(input('\\tMidterm grade: '));\n",
        "final = float(input('\\tFinal grade: '));\n",
        "sem_grade = (prelim*0.30) + (midterm*.30) + (final*.40);\n",
        "\n",
        "sem_grade = \"{:.2f}\".format(sem_grade)\n",
        "print();\n",
        "print(\"\\tResult\");\n",
        "print();\n",
        "print(\"\\t\",name, \", a\", course, \"student\");\n",
        "if float(sem_grade) > 70.00:\n",
        "  print(\"\\tYour grade is\", sem_grade, \"\\U0001F600\");\n",
        "elif float(sem_grade) == 70:\n",
        "  print(\"\\tYour grade is\", sem_grade, \"\\U0001F606\");\n",
        "elif float(sem_grade) < 70:\n",
        "  print(\"\\tYour grade is\", sem_grade, \"\\U0001F62D\")\n",
        "  print();"
      ],
      "metadata": {
        "colab": {
          "base_uri": "https://localhost:8080/"
        },
        "id": "EFYucCL6de0h",
        "outputId": "ba3c6047-7813-46e7-d6f6-f636afbfa7bc"
      },
      "execution_count": 11,
      "outputs": [
        {
          "output_type": "stream",
          "name": "stdout",
          "text": [
            "\n",
            "\tName: Princess\n",
            "\tCourse: Chemical Engineering\n",
            "\tPrelim grade: 100\n",
            "\tMidterm grade: 100\n",
            "\tFinal grade: 100\n",
            "\n",
            "\tResult\n",
            "\n",
            "\t Princess , a Chemical Engineering student\n",
            "\tYour grade is 100.00 😀\n"
          ]
        }
      ]
    }
  ]
}