{
  "nbformat": 4,
  "nbformat_minor": 0,
  "metadata": {
    "colab": {
      "name": "Assignment_3-Matrices",
      "provenance": [],
      "collapsed_sections": [],
      "authorship_tag": "ABX9TyM3JjJz9POqqwfe4YIofRHE",
      "include_colab_link": true
    },
    "kernelspec": {
      "name": "python3",
      "display_name": "Python 3"
    },
    "language_info": {
      "name": "python"
    }
  },
  "cells": [
    {
      "cell_type": "markdown",
      "metadata": {
        "id": "view-in-github",
        "colab_type": "text"
      },
      "source": [
        "<a href=\"https://colab.research.google.com/github/ijhnosalt/Linear-Algebra_ChE_2nd-Sem-2021-2022/blob/main/Assignment_3_Matrices.ipynb\" target=\"_parent\"><img src=\"https://colab.research.google.com/assets/colab-badge.svg\" alt=\"Open In Colab\"/></a>"
      ]
    },
    {
      "cell_type": "markdown",
      "source": [
        "#Linear Algebra for ChE\n",
        "##Assignment 3 : Matrices"
      ],
      "metadata": {
        "id": "2qvM0ktkKYRY"
      }
    },
    {
      "cell_type": "markdown",
      "source": [
        "### Objectives\n",
        "At the end of this activity, you will be able to do the following:\n",
        "1. Understand matrices and how they relate to linear equations.\n",
        "2. Perform basic matrix operations.\n",
        "3. Matrix equations and operations can be programmed and translated using Python."
      ],
      "metadata": {
        "id": "L56KOabhKxfQ"
      }
    },
    {
      "cell_type": "markdown",
      "source": [
        "#Discussion\n"
      ],
      "metadata": {
        "id": "-Z0RJfDMK7zK"
      }
    },
    {
      "cell_type": "code",
      "source": [
        "import numpy as np\n",
        "import matplotlib.pyplot as plt\n",
        "import scipy.linalg as la\n",
        "%matplotlib inline\n"
      ],
      "metadata": {
        "id": "1INhNy3hLOAh"
      },
      "execution_count": 1,
      "outputs": []
    },
    {
      "cell_type": "markdown",
      "source": [
        "##Matrices\n",
        "One of the fundamentals of modern computing is the use and notation of matrices. Matrices can also be used to represent complex equations or multiple interconnected equations, ranging from 2-dimensional to hundreds of thousands of them."
      ],
      "metadata": {
        "id": "hJngipmVLQ9g"
      }
    },
    {
      "cell_type": "markdown",
      "source": [
        "Assume you have an equation system with X and Y."
      ],
      "metadata": {
        "id": "cldkFbGZLwCI"
      }
    },
    {
      "cell_type": "markdown",
      "source": [
        "$$\n",
        "X = \\left\\{\n",
        "    \\begin{array}\\\n",
        "        a + b \\\\ \n",
        "        8a - 20y\n",
        "    \\end{array}\n",
        "\\right. \\\\\n",
        "Y = \\left\\{\n",
        "    \\begin{array}\\\n",
        "        a+b+b \\\\ \n",
        "        6a -4b -c \\\\\n",
        "        -2a + 8b +4c\n",
        "    \\end{array}\n",
        "\\right. \\\\\n",
        "Z = \\left\\{\n",
        "    \\begin{array}\\\n",
        "      d-4a+6b-8c \\\\\n",
        "      6d-a-4b+c \\\\ \n",
        "      4d-a+6b-4c\n",
        "    \\end{array}\n",
        "\\right. \n",
        "  $$\n"
      ],
      "metadata": {
        "id": "BrhYZHCIL5c6"
      }
    },
    {
      "cell_type": "markdown",
      "source": [
        "X is a two-parameter system of two equations, as we can see. Y, on the other hand, is a three-equation, three-parameter system. They can be represented as matrices in the following ways:"
      ],
      "metadata": {
        "id": "SX3kpvGCNqEn"
      }
    },
    {
      "cell_type": "markdown",
      "source": [
        "$$\n",
        "X=\\begin{bmatrix} 2 & 2 \\\\ 8 & {-20}\\end{bmatrix} \\\\\n",
        "Y=\\begin{bmatrix} 2 & 2 & 2 \\\\ 6 & -4 & -2 \\\\ -2 & 8 & 4\\end{bmatrix}\\\\\n",
        "Z=\\begin{bmatrix} 16 & -24 & 26 & -48 \\\\ 66 & 22 & 44 & 20 \\\\ 42 & -22 & 30 & -42\\end{bmatrix}\\\\\n",
        "$$\n"
      ],
      "metadata": {
        "id": "ogG0NjFWOZJZ"
      }
    },
    {
      "cell_type": "markdown",
      "source": [
        "Assuming you've already learned about matrix representation, types, and operations. From now on, we'll do them in Python."
      ],
      "metadata": {
        "id": "P1Eug9RNPP5E"
      }
    },
    {
      "cell_type": "markdown",
      "source": [
        "#Declaring Matrices\n",
        "We'll use a matrix to represent a system of linear equations, as we did in the previous laboratory activity. The entities or numbers that comprise matrices are referred to as matrix elements. The list/array structure of matrices is formed by arranging and ordering these elements in rows and columns. These elements are indexed in the same way that arrays are, based on their position in relation to their rows and columns. The following equation can be used to represent this. X, on the other hand, is a matrices composed of xi,j elements. The number of rows in the matrix is denoted by i, while the number of columns is denoted by j.\n",
        "Keep in mind that the size of a matrix is i x j.\n"
      ],
      "metadata": {
        "id": "mrWjZnu8Ptc-"
      }
    },
    {
      "cell_type": "markdown",
      "source": [
        "$$X=\\begin{bmatrix}\n",
        "a_{(0,0)}&a_{(0,1)}&\\dots&a_{(0,j-1)}\\\\\n",
        "a_{(1,0)}&a_{(1,1)}&\\dots&a_{(1,j-1)}\\\\\n",
        "\\vdots&\\vdots&\\ddots&\\vdots&\\\\\n",
        "a_{(i-1,0)}&a_{(i-1,1)}&\\dots&a_{(i-1,j-1)}\n",
        "\\end{bmatrix}\n",
        "$$\n"
      ],
      "metadata": {
        "id": "-WZDVbwtQTT1"
      }
    },
    {
      "cell_type": "code",
      "source": [
        "def describe_mat(matrix):\n",
        "    print(f'Matrix:\\n{matrix}\\n\\nShape:\\t{matrix.shape}\\nRank:\\t{matrix.ndim}\\n')\n"
      ],
      "metadata": {
        "id": "SunW1KtPQmnu"
      },
      "execution_count": 2,
      "outputs": []
    },
    {
      "cell_type": "code",
      "source": [
        "A = np.array([\n",
        "    [13, 21],\n",
        "    [31, 11]\n",
        "])\n",
        "describe_mat(A)\n"
      ],
      "metadata": {
        "colab": {
          "base_uri": "https://localhost:8080/"
        },
        "id": "U2gNFOlbQ5xw",
        "outputId": "29a35c5a-d285-408d-86b9-cf6c89f207d1"
      },
      "execution_count": 3,
      "outputs": [
        {
          "output_type": "stream",
          "name": "stdout",
          "text": [
            "Matrix:\n",
            "[[13 21]\n",
            " [31 11]]\n",
            "\n",
            "Shape:\t(2, 2)\n",
            "Rank:\t2\n",
            "\n"
          ]
        }
      ]
    },
    {
      "cell_type": "code",
      "source": [
        "G = np.array([\n",
        "    [12,16,13],\n",
        "    [32,12,44]\n",
        "])\n",
        "describe_mat(G)\n"
      ],
      "metadata": {
        "colab": {
          "base_uri": "https://localhost:8080/"
        },
        "id": "SN1O2UnxSPrF",
        "outputId": "3a9106d7-078c-4425-be7c-b551a061dad1"
      },
      "execution_count": 4,
      "outputs": [
        {
          "output_type": "stream",
          "name": "stdout",
          "text": [
            "Matrix:\n",
            "[[12 16 13]\n",
            " [32 12 44]]\n",
            "\n",
            "Shape:\t(2, 3)\n",
            "Rank:\t2\n",
            "\n"
          ]
        }
      ]
    },
    {
      "cell_type": "code",
      "source": [
        "B = np.array([\n",
        "    [28, 32],\n",
        "    [25, 14],\n",
        "    [11, 21]\n",
        "])\n",
        "describe_mat(B)\n"
      ],
      "metadata": {
        "colab": {
          "base_uri": "https://localhost:8080/"
        },
        "id": "km9EmxexSeFO",
        "outputId": "f4145df3-32ca-4ca2-fd27-acc94fd62d6a"
      },
      "execution_count": 5,
      "outputs": [
        {
          "output_type": "stream",
          "name": "stdout",
          "text": [
            "Matrix:\n",
            "[[28 32]\n",
            " [25 14]\n",
            " [11 21]]\n",
            "\n",
            "Shape:\t(3, 2)\n",
            "Rank:\t2\n",
            "\n"
          ]
        }
      ]
    },
    {
      "cell_type": "code",
      "source": [
        "H = np.array([31,12,23,44])\n",
        "describe_mat(H)\n"
      ],
      "metadata": {
        "colab": {
          "base_uri": "https://localhost:8080/"
        },
        "id": "ohESmlaASke5",
        "outputId": "0ea1e0f3-4eed-4baa-f3ba-c8e73f4d3ee9"
      },
      "execution_count": 6,
      "outputs": [
        {
          "output_type": "stream",
          "name": "stdout",
          "text": [
            "Matrix:\n",
            "[31 12 23 44]\n",
            "\n",
            "Shape:\t(4,)\n",
            "Rank:\t1\n",
            "\n"
          ]
        }
      ]
    },
    {
      "cell_type": "markdown",
      "source": [
        "#Categorizing Matrices\n",
        "Matrixes can be classified in several ways. One could be based on their element values, while the other on their shape. We'll do our best to go through them."
      ],
      "metadata": {
        "id": "tzKx36OBSrdK"
      }
    },
    {
      "cell_type": "markdown",
      "source": [
        "##According to shape\n"
      ],
      "metadata": {
        "id": "cf0GUzz1TsM5"
      }
    },
    {
      "cell_type": "markdown",
      "source": [
        "###Row and column matrices\n",
        "Row and column matrices are frequently used in vector and matrix computations. They can also be used to represent a larger vector space's row and column spaces. A single column or row represents a row or column matrix. As a result, row matrices are 1 X j and column matrices are i x 1."
      ],
      "metadata": {
        "id": "ivDqegKFTuvd"
      }
    },
    {
      "cell_type": "code",
      "source": [
        "## Declaring a Row Matrix\n",
        "\n",
        "rowmatrix1D = np.array([\n",
        "    2, 6, 4, -8\n",
        "]) ## this is a 1-D Matrix with a shape of (4), it's not really considered as a row matrix.\n",
        "row_mat_2D = np.array([\n",
        "    [2,4,6, -8]\n",
        "]) ## this is a 2-D Matrix with a shape of (1,4)\n",
        "\n",
        "describe_mat(rowmatrix1D)\n",
        "describe_mat(row_mat_2D)\n"
      ],
      "metadata": {
        "colab": {
          "base_uri": "https://localhost:8080/"
        },
        "id": "pXCjpEB1TzoY",
        "outputId": "e701a085-3876-4a00-af66-860b4543d87e"
      },
      "execution_count": 7,
      "outputs": [
        {
          "output_type": "stream",
          "name": "stdout",
          "text": [
            "Matrix:\n",
            "[ 2  6  4 -8]\n",
            "\n",
            "Shape:\t(4,)\n",
            "Rank:\t1\n",
            "\n",
            "Matrix:\n",
            "[[ 2  4  6 -8]]\n",
            "\n",
            "Shape:\t(1, 4)\n",
            "Rank:\t2\n",
            "\n"
          ]
        }
      ]
    },
    {
      "cell_type": "code",
      "source": [
        "col_mat = np.array([\n",
        "    [2],\n",
        "    [4],\n",
        "    [10]\n",
        "]) ## this is a 2-D Matrix with a shape of (3,1)\n",
        "describe_mat(col_mat)\n"
      ],
      "metadata": {
        "colab": {
          "base_uri": "https://localhost:8080/"
        },
        "id": "4FYWtltUUwRR",
        "outputId": "b33a4292-b312-46f5-f4b7-1d1d8d466f7f"
      },
      "execution_count": 8,
      "outputs": [
        {
          "output_type": "stream",
          "name": "stdout",
          "text": [
            "Matrix:\n",
            "[[ 2]\n",
            " [ 4]\n",
            " [10]]\n",
            "\n",
            "Shape:\t(3, 1)\n",
            "Rank:\t2\n",
            "\n"
          ]
        }
      ]
    },
    {
      "cell_type": "markdown",
      "source": [
        "##Square matrices\n",
        "Square matrices have the same row and column dimensions. A matrix is said to be square if i=j. We can modify our matrix descriptor function to find square matrices."
      ],
      "metadata": {
        "id": "wqVWjPTaUzRE"
      }
    },
    {
      "cell_type": "code",
      "source": [
        "def describe_mat(matrix):\n",
        "    is_square = True if matrix.shape[0] == matrix.shape[1] else False \n",
        "    print(f'Matrix:\\n{matrix}\\n\\nShape:\\t{matrix.shape}\\nRank:\\t{matrix.ndim}\\nIs Square: {is_square}\\n')\n"
      ],
      "metadata": {
        "id": "Xitm_LMgWEIo"
      },
      "execution_count": 9,
      "outputs": []
    },
    {
      "cell_type": "code",
      "source": [
        "square_mat = np.array([\n",
        "    [2,4,10],\n",
        "    [6,6,16],\n",
        "    [12,2,4]\n",
        "])\n",
        "\n",
        "non_square_mat = np.array([\n",
        "    [2,4,10],\n",
        "    [6,6,16]\n",
        "])\n",
        "describe_mat(square_mat)\n",
        "describe_mat(non_square_mat)\n"
      ],
      "metadata": {
        "colab": {
          "base_uri": "https://localhost:8080/"
        },
        "id": "On-5g-ByWGNw",
        "outputId": "867e0fe4-ae27-4068-ed72-4986c8e19899"
      },
      "execution_count": 10,
      "outputs": [
        {
          "output_type": "stream",
          "name": "stdout",
          "text": [
            "Matrix:\n",
            "[[ 2  4 10]\n",
            " [ 6  6 16]\n",
            " [12  2  4]]\n",
            "\n",
            "Shape:\t(3, 3)\n",
            "Rank:\t2\n",
            "Is Square: True\n",
            "\n",
            "Matrix:\n",
            "[[ 2  4 10]\n",
            " [ 6  6 16]]\n",
            "\n",
            "Shape:\t(2, 3)\n",
            "Rank:\t2\n",
            "Is Square: False\n",
            "\n"
          ]
        }
      ]
    },
    {
      "cell_type": "markdown",
      "source": [
        "##According to element values\n"
      ],
      "metadata": {
        "id": "pFTNm6XUWIJ3"
      }
    },
    {
      "cell_type": "markdown",
      "source": [
        "###Null Matrix\n",
        "A Null Matrix is one that contains no elements. It's always a vector or a matrices subspace."
      ],
      "metadata": {
        "id": "_LsjZ-4gWLnz"
      }
    },
    {
      "cell_type": "code",
      "source": [
        "def describe_mat(matrix):\n",
        "    if matrix.size > 0:\n",
        "        is_square = True if matrix.shape[0] == matrix.shape[1] else False \n",
        "        print(f'Matrix:\\n{matrix}\\n\\nShape:\\t{matrix.shape}\\nRank:\\t{matrix.ndim}\\nIs Square: {is_square}\\n')\n",
        "    else:\n",
        "        print('Matrix is Null')\n"
      ],
      "metadata": {
        "id": "FHWPLBdBWO53"
      },
      "execution_count": 11,
      "outputs": []
    },
    {
      "cell_type": "code",
      "source": [
        "null_mat = np.array([])\n",
        "describe_mat(null_mat)\n"
      ],
      "metadata": {
        "colab": {
          "base_uri": "https://localhost:8080/"
        },
        "id": "5dmszdxkWk3J",
        "outputId": "430f6ec9-6ad2-44ce-cd07-835e5b4b1265"
      },
      "execution_count": 12,
      "outputs": [
        {
          "output_type": "stream",
          "name": "stdout",
          "text": [
            "Matrix is Null\n"
          ]
        }
      ]
    },
    {
      "cell_type": "markdown",
      "source": [
        "##Zero Matrix\n",
        "A zero matrix can be any rectangular matrix, but all of its elements must be 0 in order to be considered."
      ],
      "metadata": {
        "id": "2U1KoSUbWpwg"
      }
    },
    {
      "cell_type": "code",
      "source": [
        "zero_mat_row = np.zeros((2,4))\n",
        "zero_mat_sqr = np.zeros((4,4))\n",
        "zero_mat_rct = np.zeros((6,4))\n",
        "\n",
        "print(f'Zero Row Matrix: \\n{zero_mat_row}')\n",
        "print(f'Zero Square Matrix: \\n{zero_mat_sqr}')\n",
        "print(f'Zero Rectangular Matrix: \\n{zero_mat_rct}')\n"
      ],
      "metadata": {
        "colab": {
          "base_uri": "https://localhost:8080/"
        },
        "id": "LNF4JaLdXaDj",
        "outputId": "a89fdde2-9150-471c-d5cd-6448c6eb53b2"
      },
      "execution_count": 13,
      "outputs": [
        {
          "output_type": "stream",
          "name": "stdout",
          "text": [
            "Zero Row Matrix: \n",
            "[[0. 0. 0. 0.]\n",
            " [0. 0. 0. 0.]]\n",
            "Zero Square Matrix: \n",
            "[[0. 0. 0. 0.]\n",
            " [0. 0. 0. 0.]\n",
            " [0. 0. 0. 0.]\n",
            " [0. 0. 0. 0.]]\n",
            "Zero Rectangular Matrix: \n",
            "[[0. 0. 0. 0.]\n",
            " [0. 0. 0. 0.]\n",
            " [0. 0. 0. 0.]\n",
            " [0. 0. 0. 0.]\n",
            " [0. 0. 0. 0.]\n",
            " [0. 0. 0. 0.]]\n"
          ]
        }
      ]
    },
    {
      "cell_type": "markdown",
      "source": [
        "##One Matrix\n",
        "A ones matrix, like a zero matrix, can be any rectangular matrix whose elements are all 1s rather than 0s."
      ],
      "metadata": {
        "id": "2Daph_vHXuwO"
      }
    },
    {
      "cell_type": "code",
      "source": [
        "ones_mat_row = np.ones((2,4))\n",
        "ones_mat_sqr = np.ones((4,4))\n",
        "ones_mat_rct = np.ones((6,4))\n",
        "\n",
        "print(f'Ones Row Matrix: \\n{ones_mat_row}')\n",
        "print(f'Ones Square Matrix: \\n{ones_mat_sqr}')\n",
        "print(f'Ones Rectangular Matrix: \\n{ones_mat_rct}')\n"
      ],
      "metadata": {
        "colab": {
          "base_uri": "https://localhost:8080/"
        },
        "id": "BlyzJVZHXrtw",
        "outputId": "1a09450e-44e3-4bb8-a3ae-6473ad0a8e08"
      },
      "execution_count": 14,
      "outputs": [
        {
          "output_type": "stream",
          "name": "stdout",
          "text": [
            "Ones Row Matrix: \n",
            "[[1. 1. 1. 1.]\n",
            " [1. 1. 1. 1.]]\n",
            "Ones Square Matrix: \n",
            "[[1. 1. 1. 1.]\n",
            " [1. 1. 1. 1.]\n",
            " [1. 1. 1. 1.]\n",
            " [1. 1. 1. 1.]]\n",
            "Ones Rectangular Matrix: \n",
            "[[1. 1. 1. 1.]\n",
            " [1. 1. 1. 1.]\n",
            " [1. 1. 1. 1.]\n",
            " [1. 1. 1. 1.]\n",
            " [1. 1. 1. 1.]\n",
            " [1. 1. 1. 1.]]\n"
          ]
        }
      ]
    },
    {
      "cell_type": "markdown",
      "source": [
        "##Diagonal Matrix\n",
        "A diagonal matrix is a square matrix that only has values along one of its diagonals."
      ],
      "metadata": {
        "id": "r3JII5VzX9SW"
      }
    },
    {
      "cell_type": "code",
      "source": [
        "np.array([\n",
        "    [4,0,0],\n",
        "    [0,6,0],\n",
        "    [0,0,10]\n",
        "])\n"
      ],
      "metadata": {
        "colab": {
          "base_uri": "https://localhost:8080/"
        },
        "id": "F7hRPIlLX-6n",
        "outputId": "0daa3b12-f33f-4be6-98fe-11a86d31adee"
      },
      "execution_count": 15,
      "outputs": [
        {
          "output_type": "execute_result",
          "data": {
            "text/plain": [
              "array([[ 4,  0,  0],\n",
              "       [ 0,  6,  0],\n",
              "       [ 0,  0, 10]])"
            ]
          },
          "metadata": {},
          "execution_count": 15
        }
      ]
    },
    {
      "cell_type": "code",
      "source": [
        "d = np.diag([4,6,10,14])\n",
        "#d.shape[0] == d.shape[1]\n",
        "d\n"
      ],
      "metadata": {
        "colab": {
          "base_uri": "https://localhost:8080/"
        },
        "id": "RTOWDSvHYDZ3",
        "outputId": "f272722e-e0c6-4763-c7cb-a5d0e1467f99"
      },
      "execution_count": 16,
      "outputs": [
        {
          "output_type": "execute_result",
          "data": {
            "text/plain": [
              "array([[ 4,  0,  0,  0],\n",
              "       [ 0,  6,  0,  0],\n",
              "       [ 0,  0, 10,  0],\n",
              "       [ 0,  0,  0, 14]])"
            ]
          },
          "metadata": {},
          "execution_count": 16
        }
      ]
    },
    {
      "cell_type": "markdown",
      "source": [
        "##Identity Matrix\n",
        "An identity matrix is a diagonal matrix with all diagonal values equal to one."
      ],
      "metadata": {
        "id": "WSkfhSQCYyPh"
      }
    },
    {
      "cell_type": "code",
      "source": [
        "np.identity(15)\n"
      ],
      "metadata": {
        "colab": {
          "base_uri": "https://localhost:8080/"
        },
        "id": "-W9FCVljYz2t",
        "outputId": "889ca1fc-1dd2-4878-8af6-6a11af9da576"
      },
      "execution_count": 17,
      "outputs": [
        {
          "output_type": "execute_result",
          "data": {
            "text/plain": [
              "array([[1., 0., 0., 0., 0., 0., 0., 0., 0., 0., 0., 0., 0., 0., 0.],\n",
              "       [0., 1., 0., 0., 0., 0., 0., 0., 0., 0., 0., 0., 0., 0., 0.],\n",
              "       [0., 0., 1., 0., 0., 0., 0., 0., 0., 0., 0., 0., 0., 0., 0.],\n",
              "       [0., 0., 0., 1., 0., 0., 0., 0., 0., 0., 0., 0., 0., 0., 0.],\n",
              "       [0., 0., 0., 0., 1., 0., 0., 0., 0., 0., 0., 0., 0., 0., 0.],\n",
              "       [0., 0., 0., 0., 0., 1., 0., 0., 0., 0., 0., 0., 0., 0., 0.],\n",
              "       [0., 0., 0., 0., 0., 0., 1., 0., 0., 0., 0., 0., 0., 0., 0.],\n",
              "       [0., 0., 0., 0., 0., 0., 0., 1., 0., 0., 0., 0., 0., 0., 0.],\n",
              "       [0., 0., 0., 0., 0., 0., 0., 0., 1., 0., 0., 0., 0., 0., 0.],\n",
              "       [0., 0., 0., 0., 0., 0., 0., 0., 0., 1., 0., 0., 0., 0., 0.],\n",
              "       [0., 0., 0., 0., 0., 0., 0., 0., 0., 0., 1., 0., 0., 0., 0.],\n",
              "       [0., 0., 0., 0., 0., 0., 0., 0., 0., 0., 0., 1., 0., 0., 0.],\n",
              "       [0., 0., 0., 0., 0., 0., 0., 0., 0., 0., 0., 0., 1., 0., 0.],\n",
              "       [0., 0., 0., 0., 0., 0., 0., 0., 0., 0., 0., 0., 0., 1., 0.],\n",
              "       [0., 0., 0., 0., 0., 0., 0., 0., 0., 0., 0., 0., 0., 0., 1.]])"
            ]
          },
          "metadata": {},
          "execution_count": 17
        }
      ]
    },
    {
      "cell_type": "code",
      "source": [
        "np.eye(6)\n"
      ],
      "metadata": {
        "colab": {
          "base_uri": "https://localhost:8080/"
        },
        "id": "gPDN_dtvZOhS",
        "outputId": "1d255697-f64b-4b57-ded0-313b68b75711"
      },
      "execution_count": 18,
      "outputs": [
        {
          "output_type": "execute_result",
          "data": {
            "text/plain": [
              "array([[1., 0., 0., 0., 0., 0.],\n",
              "       [0., 1., 0., 0., 0., 0.],\n",
              "       [0., 0., 1., 0., 0., 0.],\n",
              "       [0., 0., 0., 1., 0., 0.],\n",
              "       [0., 0., 0., 0., 1., 0.],\n",
              "       [0., 0., 0., 0., 0., 1.]])"
            ]
          },
          "metadata": {},
          "execution_count": 18
        }
      ]
    },
    {
      "cell_type": "markdown",
      "source": [
        "##Upper Triangular Matrix\n",
        "An upper triangular matrix is one that has no values below the diagonal."
      ],
      "metadata": {
        "id": "sX_4NO8DZQK5"
      }
    },
    {
      "cell_type": "code",
      "source": [
        "np.array([\n",
        "    [2,4,6,8],\n",
        "    [0,6,2,-2],\n",
        "    [0,0,10,4],\n",
        "    [0,0,0,4]\n",
        "])\n"
      ],
      "metadata": {
        "colab": {
          "base_uri": "https://localhost:8080/"
        },
        "id": "iEk8i9stZSQO",
        "outputId": "7b0d3410-1d10-4587-98b4-549cccb38ab9"
      },
      "execution_count": 19,
      "outputs": [
        {
          "output_type": "execute_result",
          "data": {
            "text/plain": [
              "array([[ 2,  4,  6,  8],\n",
              "       [ 0,  6,  2, -2],\n",
              "       [ 0,  0, 10,  4],\n",
              "       [ 0,  0,  0,  4]])"
            ]
          },
          "metadata": {},
          "execution_count": 19
        }
      ]
    },
    {
      "cell_type": "code",
      "source": [
        "F = np.array([\n",
        "              [4, -6, 8, -10, 12],\n",
        "              [4, -6, 8, -10, 12],\n",
        "              [4, -6, 8, -10, 12],\n",
        "              [4, -6, 8, -10, 12],\n",
        "              [4, -6, 8, -10, 12],\n",
        "])\n",
        "np.triu(F)\n"
      ],
      "metadata": {
        "colab": {
          "base_uri": "https://localhost:8080/"
        },
        "id": "U0Hlci-XZxT3",
        "outputId": "0bd8b0b3-a0e9-4857-e008-8b354f22fcfd"
      },
      "execution_count": 20,
      "outputs": [
        {
          "output_type": "execute_result",
          "data": {
            "text/plain": [
              "array([[  4,  -6,   8, -10,  12],\n",
              "       [  0,  -6,   8, -10,  12],\n",
              "       [  0,   0,   8, -10,  12],\n",
              "       [  0,   0,   0, -10,  12],\n",
              "       [  0,   0,   0,   0,  12]])"
            ]
          },
          "metadata": {},
          "execution_count": 20
        }
      ]
    },
    {
      "cell_type": "markdown",
      "source": [
        "##Lower Triangular Matrix\n",
        "There are no values above the diagonal in a lower triangular matrix."
      ],
      "metadata": {
        "id": "UGuIIg0UZ5aj"
      }
    },
    {
      "cell_type": "code",
      "source": [
        "np.array([\n",
        "    [2,0,0],\n",
        "    [10,6,0],\n",
        "    [14,16,10]\n",
        "])"
      ],
      "metadata": {
        "colab": {
          "base_uri": "https://localhost:8080/"
        },
        "id": "08a4Ut1d0DMM",
        "outputId": "d0af6185-beb7-447d-e9bc-b1fc694cb1fa"
      },
      "execution_count": 21,
      "outputs": [
        {
          "output_type": "execute_result",
          "data": {
            "text/plain": [
              "array([[ 2,  0,  0],\n",
              "       [10,  6,  0],\n",
              "       [14, 16, 10]])"
            ]
          },
          "metadata": {},
          "execution_count": 21
        }
      ]
    },
    {
      "cell_type": "markdown",
      "source": [
        "#Matrix Algebra"
      ],
      "metadata": {
        "id": "UTImCLa30OtT"
      }
    },
    {
      "cell_type": "markdown",
      "source": [
        "##Addition"
      ],
      "metadata": {
        "id": "FgxqB1ea0VQT"
      }
    },
    {
      "cell_type": "code",
      "source": [
        "X = np.array([\n",
        "    [2,4],\n",
        "    [4,6],\n",
        "    [8,2]\n",
        "])\n",
        "Y = np.array([\n",
        "    [4,4],\n",
        "    [0,0],\n",
        "    [2,2]\n",
        "])\n",
        "X+Y"
      ],
      "metadata": {
        "colab": {
          "base_uri": "https://localhost:8080/"
        },
        "id": "Z3Funyk00XrL",
        "outputId": "a5c06e6e-0f05-441a-b020-8899e8b4c049"
      },
      "execution_count": 22,
      "outputs": [
        {
          "output_type": "execute_result",
          "data": {
            "text/plain": [
              "array([[ 6,  8],\n",
              "       [ 4,  6],\n",
              "       [10,  4]])"
            ]
          },
          "metadata": {},
          "execution_count": 22
        }
      ]
    },
    {
      "cell_type": "code",
      "source": [
        "4+X ##Broadcasting\n",
        "# 4*np.ones(A.shape)+A"
      ],
      "metadata": {
        "colab": {
          "base_uri": "https://localhost:8080/"
        },
        "id": "EuG_eZqX0ac0",
        "outputId": "043386bc-d607-4a7c-db8f-bd9a16685ecf"
      },
      "execution_count": 23,
      "outputs": [
        {
          "output_type": "execute_result",
          "data": {
            "text/plain": [
              "array([[ 6,  8],\n",
              "       [ 8, 10],\n",
              "       [12,  6]])"
            ]
          },
          "metadata": {},
          "execution_count": 23
        }
      ]
    },
    {
      "cell_type": "markdown",
      "source": [
        "##Subtraction"
      ],
      "metadata": {
        "id": "JdGXWza80c0D"
      }
    },
    {
      "cell_type": "code",
      "source": [
        "X-Y"
      ],
      "metadata": {
        "colab": {
          "base_uri": "https://localhost:8080/"
        },
        "id": "zE-yFnSG0eW9",
        "outputId": "129562f7-29d2-47f6-f036-d3fb58c14e9f"
      },
      "execution_count": 24,
      "outputs": [
        {
          "output_type": "execute_result",
          "data": {
            "text/plain": [
              "array([[-2,  0],\n",
              "       [ 4,  6],\n",
              "       [ 6,  0]])"
            ]
          },
          "metadata": {},
          "execution_count": 24
        }
      ]
    },
    {
      "cell_type": "code",
      "source": [
        "6-Y == 6*np.ones(Y.shape)-Y"
      ],
      "metadata": {
        "colab": {
          "base_uri": "https://localhost:8080/"
        },
        "id": "L_4fBk3h0hzG",
        "outputId": "1ef4c9a9-d63f-4ae7-9e5f-a88a64f66356"
      },
      "execution_count": 25,
      "outputs": [
        {
          "output_type": "execute_result",
          "data": {
            "text/plain": [
              "array([[ True,  True],\n",
              "       [ True,  True],\n",
              "       [ True,  True]])"
            ]
          },
          "metadata": {},
          "execution_count": 25
        }
      ]
    },
    {
      "cell_type": "markdown",
      "source": [
        "##Element-wise Multiplication"
      ],
      "metadata": {
        "id": "3flgw5Dy0jfL"
      }
    },
    {
      "cell_type": "code",
      "source": [
        "X*Y\n",
        "np.multiply(X,Y)"
      ],
      "metadata": {
        "colab": {
          "base_uri": "https://localhost:8080/"
        },
        "id": "8O7W4jiy0oKC",
        "outputId": "6a11f6d1-cb24-457f-ae9b-290f8a07878e"
      },
      "execution_count": 26,
      "outputs": [
        {
          "output_type": "execute_result",
          "data": {
            "text/plain": [
              "array([[ 8, 16],\n",
              "       [ 0,  0],\n",
              "       [16,  4]])"
            ]
          },
          "metadata": {},
          "execution_count": 26
        }
      ]
    },
    {
      "cell_type": "code",
      "source": [
        "4*X"
      ],
      "metadata": {
        "id": "hahD3Ssx0pgU",
        "outputId": "6ecfdd1d-5678-4553-b9a4-5219ce0722bf",
        "colab": {
          "base_uri": "https://localhost:8080/"
        }
      },
      "execution_count": 27,
      "outputs": [
        {
          "output_type": "execute_result",
          "data": {
            "text/plain": [
              "array([[ 8, 16],\n",
              "       [16, 24],\n",
              "       [32,  8]])"
            ]
          },
          "metadata": {},
          "execution_count": 27
        }
      ]
    },
    {
      "cell_type": "code",
      "source": [
        "R = np.array([\n",
        "    [2,4],\n",
        "    [4,6],\n",
        "    [8,2]\n",
        "])\n",
        "T = np.array([\n",
        "    [4,4,4],\n",
        "    [0,0,0]\n",
        "])\n",
        "R@T"
      ],
      "metadata": {
        "id": "EppycDO00q2T",
        "outputId": "4582536b-4901-41d1-fed9-56f2ea064eb7",
        "colab": {
          "base_uri": "https://localhost:8080/"
        }
      },
      "execution_count": 28,
      "outputs": [
        {
          "output_type": "execute_result",
          "data": {
            "text/plain": [
              "array([[ 8,  8,  8],\n",
              "       [16, 16, 16],\n",
              "       [32, 32, 32]])"
            ]
          },
          "metadata": {},
          "execution_count": 28
        }
      ]
    },
    {
      "cell_type": "code",
      "source": [
        "alpha=20**-20\n",
        "X/(alpha+Y)"
      ],
      "metadata": {
        "id": "fLjVkuMz0tSy",
        "colab": {
          "base_uri": "https://localhost:8080/"
        },
        "outputId": "00352804-a492-4202-9992-6638fd8412dc"
      },
      "execution_count": 29,
      "outputs": [
        {
          "output_type": "execute_result",
          "data": {
            "text/plain": [
              "array([[5.000000e-01, 1.000000e+00],\n",
              "       [4.194304e+26, 6.291456e+26],\n",
              "       [4.000000e+00, 1.000000e+00]])"
            ]
          },
          "metadata": {},
          "execution_count": 29
        }
      ]
    },
    {
      "cell_type": "code",
      "source": [
        "np.add(X,Y)"
      ],
      "metadata": {
        "id": "3PiLAAIK0vdC",
        "colab": {
          "base_uri": "https://localhost:8080/"
        },
        "outputId": "8106394b-1f76-4cf1-c534-1bf38e14fcfa"
      },
      "execution_count": 30,
      "outputs": [
        {
          "output_type": "execute_result",
          "data": {
            "text/plain": [
              "array([[ 6,  8],\n",
              "       [ 4,  6],\n",
              "       [10,  4]])"
            ]
          },
          "metadata": {},
          "execution_count": 30
        }
      ]
    },
    {
      "cell_type": "markdown",
      "source": [
        "#Activity"
      ],
      "metadata": {
        "id": "zdKPCydf4X_H"
      }
    },
    {
      "cell_type": "markdown",
      "source": [
        "##Task 1\n",
        "Create a function named mat_desc() that througouhly describes a matrix, it should:\n",
        "\n",
        "\n",
        "\n",
        "1.   Displays the shape, size, and rank of the matrix.\n",
        "2.   Displays whether the matrix is square or non-square.\n",
        "3.   Displays whether the matrix is an empty matrix.\n",
        "4.   Displays if the matrix is an identity, ones, or zeros matrix\n",
        "\n",
        "Use 5 sample matrices in which their shapes are not lower than (3,3). In your methodology, create a flowchart discuss the functions and methods you have done. Present your results in the results section showing the description of each matrix you have declared.\n",
        "\n",
        "\n"
      ],
      "metadata": {
        "id": "llCTqpzD4a9d"
      }
    },
    {
      "cell_type": "code",
      "source": [
        "# mat_desc function\n",
        "\n",
        "def mat_desc(matrix):\n",
        "  square = False\n",
        "  matrix = np.array(matrix)\n",
        "  print(matrix)\n",
        "  print('Shape', matrix.shape)\n",
        "  print('Size', matrix.size)\n",
        "  print('Rank', np.linalg.matrix_rank(matrix))\n",
        "  if(matrix.shape[0] == matrix.shape[1]):\n",
        "    square = True\n",
        "    print('Square Matrix')\n",
        "  else: \n",
        "    print('Non-Square Matrix')\n",
        "  if(matrix.shape[0] == 0 and matrix.shape[1] == 0):\n",
        "    print('Empty Matrix')\n",
        "  else:\n",
        "    print('Matrix in not empty')\n",
        "  iden = np.identity(matrix.shape[0])\n",
        "  if(square and (iden == matrix).all()):\n",
        "    print('Identity Matrix')\n",
        "  else:\n",
        "    print('Not identity matrix')\n",
        "  one = np.ones((matrix.shape[0], matrix.shape[1]))\n",
        "  if(one == matrix).all ():\n",
        "    print('Ones matrix')\n",
        "  else:\n",
        "    print('Not a Ones Matrix')\n",
        "  zero = np.zeros((matrix.shape[0], matrix.shape[1]))\n",
        "  if((zero == matrix).all()):\n",
        "    print('Zero Matrix')\n",
        "  else:\n",
        "    print('Non-Zero Matrix')"
      ],
      "metadata": {
        "id": "TrYEeCqg6mcn"
      },
      "execution_count": 31,
      "outputs": []
    },
    {
      "cell_type": "code",
      "source": [
        "print('Matrix 1:')\n",
        "mat_desc([[1,1,1,1],[1,1,1,1],[1,1,1,1],[1,1,1,1],[1,1,1,1]])"
      ],
      "metadata": {
        "id": "BoSRb17K7ozu",
        "colab": {
          "base_uri": "https://localhost:8080/"
        },
        "outputId": "67620b24-f3b6-41f4-d47a-595cf3642fe6"
      },
      "execution_count": 32,
      "outputs": [
        {
          "output_type": "stream",
          "name": "stdout",
          "text": [
            "Matrix 1:\n",
            "[[1 1 1 1]\n",
            " [1 1 1 1]\n",
            " [1 1 1 1]\n",
            " [1 1 1 1]\n",
            " [1 1 1 1]]\n",
            "Shape (5, 4)\n",
            "Size 20\n",
            "Rank 1\n",
            "Non-Square Matrix\n",
            "Matrix in not empty\n",
            "Not identity matrix\n",
            "Ones matrix\n",
            "Non-Zero Matrix\n"
          ]
        }
      ]
    },
    {
      "cell_type": "code",
      "source": [
        "print('Matrix 2:')\n",
        "mat_desc([[2,4,6,8,10], [1,3,5,7,9], [4,16,18,2,8], [1,9,13,18,7], [6,8,11,5,10]])"
      ],
      "metadata": {
        "colab": {
          "base_uri": "https://localhost:8080/"
        },
        "id": "f04nBIPkcDNg",
        "outputId": "34e04e5b-fbce-42bd-f55e-f90e0a03a02f"
      },
      "execution_count": 33,
      "outputs": [
        {
          "output_type": "stream",
          "name": "stdout",
          "text": [
            "Matrix 2:\n",
            "[[ 2  4  6  8 10]\n",
            " [ 1  3  5  7  9]\n",
            " [ 4 16 18  2  8]\n",
            " [ 1  9 13 18  7]\n",
            " [ 6  8 11  5 10]]\n",
            "Shape (5, 5)\n",
            "Size 25\n",
            "Rank 5\n",
            "Square Matrix\n",
            "Matrix in not empty\n",
            "Not identity matrix\n",
            "Not a Ones Matrix\n",
            "Non-Zero Matrix\n"
          ]
        }
      ]
    },
    {
      "cell_type": "code",
      "source": [
        "print('Matrix 3:')\n",
        "mat_desc([[1,0,0,0,0,0], [0,1,0,0,0,0], [0,0,1,0,0,0], [0,0,0,1,0,0,], [0,0,0,0,1,0,],[0,0,0,0,0,1]])"
      ],
      "metadata": {
        "colab": {
          "base_uri": "https://localhost:8080/"
        },
        "id": "nr4x9vVHcGZb",
        "outputId": "376e45e5-d725-4dfb-fd8c-14ed6de1954e"
      },
      "execution_count": 34,
      "outputs": [
        {
          "output_type": "stream",
          "name": "stdout",
          "text": [
            "Matrix 3:\n",
            "[[1 0 0 0 0 0]\n",
            " [0 1 0 0 0 0]\n",
            " [0 0 1 0 0 0]\n",
            " [0 0 0 1 0 0]\n",
            " [0 0 0 0 1 0]\n",
            " [0 0 0 0 0 1]]\n",
            "Shape (6, 6)\n",
            "Size 36\n",
            "Rank 6\n",
            "Square Matrix\n",
            "Matrix in not empty\n",
            "Identity Matrix\n",
            "Not a Ones Matrix\n",
            "Non-Zero Matrix\n"
          ]
        }
      ]
    },
    {
      "cell_type": "code",
      "source": [
        "print('Matrix 4:')\n",
        "mat_desc([[1,1,1,1],[1,1,1,1],[1,1,1,1],[1,1,1,1], [1,1,1,1], [1,1,1,1,], [1,1,1,1]])"
      ],
      "metadata": {
        "colab": {
          "base_uri": "https://localhost:8080/"
        },
        "id": "oVVUJ4B4cIcc",
        "outputId": "17f4609f-f3ef-4285-b08f-886be1cd89d4"
      },
      "execution_count": 35,
      "outputs": [
        {
          "output_type": "stream",
          "name": "stdout",
          "text": [
            "Matrix 4:\n",
            "[[1 1 1 1]\n",
            " [1 1 1 1]\n",
            " [1 1 1 1]\n",
            " [1 1 1 1]\n",
            " [1 1 1 1]\n",
            " [1 1 1 1]\n",
            " [1 1 1 1]]\n",
            "Shape (7, 4)\n",
            "Size 28\n",
            "Rank 1\n",
            "Non-Square Matrix\n",
            "Matrix in not empty\n",
            "Not identity matrix\n",
            "Ones matrix\n",
            "Non-Zero Matrix\n"
          ]
        }
      ]
    },
    {
      "cell_type": "code",
      "source": [
        "print('Matrix 5:')\n",
        "mat_desc([[0,0,0,0], [0, 0, 0,0], [0,0,0,0], [0,0,0,0]])"
      ],
      "metadata": {
        "colab": {
          "base_uri": "https://localhost:8080/"
        },
        "id": "8AXFTzzfcJyW",
        "outputId": "21239a8f-e3f5-4f5a-b150-7a4b48f772ea"
      },
      "execution_count": 36,
      "outputs": [
        {
          "output_type": "stream",
          "name": "stdout",
          "text": [
            "Matrix 5:\n",
            "[[0 0 0 0]\n",
            " [0 0 0 0]\n",
            " [0 0 0 0]\n",
            " [0 0 0 0]]\n",
            "Shape (4, 4)\n",
            "Size 16\n",
            "Rank 0\n",
            "Square Matrix\n",
            "Matrix in not empty\n",
            "Not identity matrix\n",
            "Not a Ones Matrix\n",
            "Zero Matrix\n"
          ]
        }
      ]
    },
    {
      "cell_type": "markdown",
      "source": [
        "#Task 2\n",
        "\n",
        "Create a function named mat_operations() that takes in two matrices a input parameters it should:\n",
        "\n",
        "\n",
        "\n",
        "1.   Determines if the matrices are viable for operation and returns your own error message if they are not viable.\n",
        "2.   Returns the sum of the matrices.\n",
        "3.   Returns the differen of the matrices.\n",
        "4.   Returns the element-wise multiplication of the matrices.\n",
        "5.   Returns the element-wise division of the matrices.\n",
        "\n",
        "Use 5 sample matrices in which their shapes are not lower than (3,3). In your methodology, create a flowchart discuss the functions and methods you have done. Present your results in the results section showing the description of each matrix you have declared.\n",
        "\n",
        "\n",
        "\n"
      ],
      "metadata": {
        "id": "AqvD_n_N45Yd"
      }
    },
    {
      "cell_type": "code",
      "source": [
        "def mat_operations(matrix1, matrix2):\n",
        "    matrix1 = np.array(matrix1)\n",
        "    matrix2 = np.array(matrix2)\n",
        "    print('Matrix 1:', matrix1)\n",
        "    print('Matrix 2:', matrix2)\n",
        "    if(matrix1.shape != matrix2.shape):\n",
        "        print('Matrices dimensions are invalid and operations cannot be performed.')\n",
        "        return\n",
        "    print('Sum of the  matrices:')\n",
        "    matrixsum = matrix1 + matrix2\n",
        "    print(matrixsum)\n",
        "    print('Difference of the  matrices:')\n",
        "    matrixdifference = matrix1 - matrix2\n",
        "    print(matrixdifference)\n",
        "    print('Element-wise multiplication of the  matrices:')\n",
        "    matrixproduct = np.multiply(matrix1, matrix2)\n",
        "    print(matrixproduct)\n",
        "    print('Element-wise division of the  matrices:')\n",
        "    matrixdividend = np.divide(matrix1, matrix2)\n",
        "    print(matrixdividend)\n"
      ],
      "metadata": {
        "id": "B85EAH9jFKxd"
      },
      "execution_count": 37,
      "outputs": []
    },
    {
      "cell_type": "code",
      "source": [
        "print('sample1:')\n",
        "mat_operations([[4,6,4], [10,8,14], [8,6,1], [3,7,5,]],[[6,8,10,], [18,14,2,12],[2,4,12,8],[15,7,13,9]])"
      ],
      "metadata": {
        "colab": {
          "base_uri": "https://localhost:8080/"
        },
        "id": "vvZAQcubQ-X-",
        "outputId": "6db147af-0d7a-4981-e414-4586fc3a1b15"
      },
      "execution_count": 38,
      "outputs": [
        {
          "output_type": "stream",
          "name": "stdout",
          "text": [
            "sample1:\n",
            "Matrix 1: [[ 4  6  4]\n",
            " [10  8 14]\n",
            " [ 8  6  1]\n",
            " [ 3  7  5]]\n",
            "Matrix 2: [list([6, 8, 10]) list([18, 14, 2, 12]) list([2, 4, 12, 8])\n",
            " list([15, 7, 13, 9])]\n",
            "Matrices dimensions are invalid and operations cannot be performed.\n"
          ]
        },
        {
          "output_type": "stream",
          "name": "stderr",
          "text": [
            "/usr/local/lib/python3.7/dist-packages/ipykernel_launcher.py:3: VisibleDeprecationWarning: Creating an ndarray from ragged nested sequences (which is a list-or-tuple of lists-or-tuples-or ndarrays with different lengths or shapes) is deprecated. If you meant to do this, you must specify 'dtype=object' when creating the ndarray.\n",
            "  This is separate from the ipykernel package so we can avoid doing imports until\n"
          ]
        }
      ]
    },
    {
      "cell_type": "code",
      "source": [
        "print('sample 2:')\n",
        "mat_operations([[1, 3, 2,2], [1,1,0,2], [3,0,2,4]], [[1,4,2,3],[0,1,2,5],[2,2,2,3]])"
      ],
      "metadata": {
        "colab": {
          "base_uri": "https://localhost:8080/"
        },
        "id": "7IorLOnicigV",
        "outputId": "fe1fc742-99c1-48bd-cbbf-8b4e42187f8f"
      },
      "execution_count": 39,
      "outputs": [
        {
          "output_type": "stream",
          "name": "stdout",
          "text": [
            "sample 2:\n",
            "Matrix 1: [[1 3 2 2]\n",
            " [1 1 0 2]\n",
            " [3 0 2 4]]\n",
            "Matrix 2: [[1 4 2 3]\n",
            " [0 1 2 5]\n",
            " [2 2 2 3]]\n",
            "Sum of the  matrices:\n",
            "[[2 7 4 5]\n",
            " [1 2 2 7]\n",
            " [5 2 4 7]]\n",
            "Difference of the  matrices:\n",
            "[[ 0 -1  0 -1]\n",
            " [ 1  0 -2 -3]\n",
            " [ 1 -2  0  1]]\n",
            "Element-wise multiplication of the  matrices:\n",
            "[[ 1 12  4  6]\n",
            " [ 0  1  0 10]\n",
            " [ 6  0  4 12]]\n",
            "Element-wise division of the  matrices:\n",
            "[[1.         0.75       1.         0.66666667]\n",
            " [       inf 1.         0.         0.4       ]\n",
            " [1.5        0.         1.         1.33333333]]\n"
          ]
        },
        {
          "output_type": "stream",
          "name": "stderr",
          "text": [
            "/usr/local/lib/python3.7/dist-packages/ipykernel_launcher.py:19: RuntimeWarning: divide by zero encountered in true_divide\n"
          ]
        }
      ]
    },
    {
      "cell_type": "code",
      "source": [
        "print('sample 3:')\n",
        "mat_operations([[6, 15, 3], [9,18,9], [18,3,15], [7,15,12]], [[15,12,6],[9,12,18],[9,6,9],[12,12,15]])"
      ],
      "metadata": {
        "colab": {
          "base_uri": "https://localhost:8080/"
        },
        "id": "8MKOVof2ckD-",
        "outputId": "c315f83c-fd2a-4969-b401-61c452695808"
      },
      "execution_count": 40,
      "outputs": [
        {
          "output_type": "stream",
          "name": "stdout",
          "text": [
            "sample 3:\n",
            "Matrix 1: [[ 6 15  3]\n",
            " [ 9 18  9]\n",
            " [18  3 15]\n",
            " [ 7 15 12]]\n",
            "Matrix 2: [[15 12  6]\n",
            " [ 9 12 18]\n",
            " [ 9  6  9]\n",
            " [12 12 15]]\n",
            "Sum of the  matrices:\n",
            "[[21 27  9]\n",
            " [18 30 27]\n",
            " [27  9 24]\n",
            " [19 27 27]]\n",
            "Difference of the  matrices:\n",
            "[[-9  3 -3]\n",
            " [ 0  6 -9]\n",
            " [ 9 -3  6]\n",
            " [-5  3 -3]]\n",
            "Element-wise multiplication of the  matrices:\n",
            "[[ 90 180  18]\n",
            " [ 81 216 162]\n",
            " [162  18 135]\n",
            " [ 84 180 180]]\n",
            "Element-wise division of the  matrices:\n",
            "[[0.4        1.25       0.5       ]\n",
            " [1.         1.5        0.5       ]\n",
            " [2.         0.5        1.66666667]\n",
            " [0.58333333 1.25       0.8       ]]\n"
          ]
        }
      ]
    },
    {
      "cell_type": "code",
      "source": [
        "print('sample 4:')\n",
        "mat_operations([[3,1,2,4,1], [6,3,6,4,5], [3,2,10,4,1]], [[3,2,1,3,4],[6,2,3,4,5],[6,1,2,3,1]])"
      ],
      "metadata": {
        "colab": {
          "base_uri": "https://localhost:8080/"
        },
        "id": "0GrqpjLYcmTv",
        "outputId": "ddcc77a0-1f35-497b-f1bb-eb02b570e008"
      },
      "execution_count": 41,
      "outputs": [
        {
          "output_type": "stream",
          "name": "stdout",
          "text": [
            "sample 4:\n",
            "Matrix 1: [[ 3  1  2  4  1]\n",
            " [ 6  3  6  4  5]\n",
            " [ 3  2 10  4  1]]\n",
            "Matrix 2: [[3 2 1 3 4]\n",
            " [6 2 3 4 5]\n",
            " [6 1 2 3 1]]\n",
            "Sum of the  matrices:\n",
            "[[ 6  3  3  7  5]\n",
            " [12  5  9  8 10]\n",
            " [ 9  3 12  7  2]]\n",
            "Difference of the  matrices:\n",
            "[[ 0 -1  1  1 -3]\n",
            " [ 0  1  3  0  0]\n",
            " [-3  1  8  1  0]]\n",
            "Element-wise multiplication of the  matrices:\n",
            "[[ 9  2  2 12  4]\n",
            " [36  6 18 16 25]\n",
            " [18  2 20 12  1]]\n",
            "Element-wise division of the  matrices:\n",
            "[[1.         0.5        2.         1.33333333 0.25      ]\n",
            " [1.         1.5        2.         1.         1.        ]\n",
            " [0.5        2.         5.         1.33333333 1.        ]]\n"
          ]
        }
      ]
    },
    {
      "cell_type": "code",
      "source": [
        "print('sample 5:')\n",
        "mat_operations([[3,1,2,4,1,10], [2,3,1,4,5,5], [2,3,2,5,1,0], [11,3,5,7,10,5]], [[3,2,3,3,4,4],[6,8,12,4,5,1],[1,4,6,12,4,2], [2,13,5,6,12,6]])"
      ],
      "metadata": {
        "colab": {
          "base_uri": "https://localhost:8080/"
        },
        "id": "fvTXcalqcnhL",
        "outputId": "62712a9c-6924-4399-c0d3-9fba6240c2d3"
      },
      "execution_count": 42,
      "outputs": [
        {
          "output_type": "stream",
          "name": "stdout",
          "text": [
            "sample 5:\n",
            "Matrix 1: [[ 3  1  2  4  1 10]\n",
            " [ 2  3  1  4  5  5]\n",
            " [ 2  3  2  5  1  0]\n",
            " [11  3  5  7 10  5]]\n",
            "Matrix 2: [[ 3  2  3  3  4  4]\n",
            " [ 6  8 12  4  5  1]\n",
            " [ 1  4  6 12  4  2]\n",
            " [ 2 13  5  6 12  6]]\n",
            "Sum of the  matrices:\n",
            "[[ 6  3  5  7  5 14]\n",
            " [ 8 11 13  8 10  6]\n",
            " [ 3  7  8 17  5  2]\n",
            " [13 16 10 13 22 11]]\n",
            "Difference of the  matrices:\n",
            "[[  0  -1  -1   1  -3   6]\n",
            " [ -4  -5 -11   0   0   4]\n",
            " [  1  -1  -4  -7  -3  -2]\n",
            " [  9 -10   0   1  -2  -1]]\n",
            "Element-wise multiplication of the  matrices:\n",
            "[[  9   2   6  12   4  40]\n",
            " [ 12  24  12  16  25   5]\n",
            " [  2  12  12  60   4   0]\n",
            " [ 22  39  25  42 120  30]]\n",
            "Element-wise division of the  matrices:\n",
            "[[1.         0.5        0.66666667 1.33333333 0.25       2.5       ]\n",
            " [0.33333333 0.375      0.08333333 1.         1.         5.        ]\n",
            " [2.         0.75       0.33333333 0.41666667 0.25       0.        ]\n",
            " [5.5        0.23076923 1.         1.16666667 0.83333333 0.83333333]]\n"
          ]
        }
      ]
    }
  ]
}