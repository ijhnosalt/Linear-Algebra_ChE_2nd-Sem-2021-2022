{
  "nbformat": 4,
  "nbformat_minor": 0,
  "metadata": {
    "colab": {
      "name": "Assignment_3-Matrices",
      "provenance": [],
      "collapsed_sections": [],
      "authorship_tag": "ABX9TyM3JjJz9POqqwfe4YIofRHE",
      "include_colab_link": true
    },
    "kernelspec": {
      "name": "python3",
      "display_name": "Python 3"
    },
    "language_info": {
      "name": "python"
    }
  },
  "cells": [
    {
      "cell_type": "markdown",
      "metadata": {
        "id": "view-in-github",
        "colab_type": "text"
      },
      "source": [
        "<a href=\"https://colab.research.google.com/github/ijhnosalt/Linear-Algebra_ChE_2nd-Sem-2021-2022/blob/main/Assignment_3_Matrices.ipynb\" target=\"_parent\"><img src=\"https://colab.research.google.com/assets/colab-badge.svg\" alt=\"Open In Colab\"/></a>"
      ]
    },
    {
      "cell_type": "markdown",
      "source": [
        "#Linear Algebra for ChE\n",
        "##Assignment 3 : Matrices"
      ],
      "metadata": {
        "id": "2qvM0ktkKYRY"
      }
    },
    {
      "cell_type": "markdown",
      "source": [
        "### Objectives\n",
        "At the end of this activity, you will be able to do the following:\n",
        "1. Understand matrices and how they relate to linear equations.\n",
        "2. Perform basic matrix operations.\n",
        "3. Matrix equations and operations can be programmed and translated using Python."
      ],
      "metadata": {
        "id": "L56KOabhKxfQ"
      }
    },
    {
      "cell_type": "markdown",
      "source": [
        "#Discussion\n"
      ],
      "metadata": {
        "id": "-Z0RJfDMK7zK"
      }
    },
    {
      "cell_type": "code",
      "source": [
        "import numpy as np\n",
        "import matplotlib.pyplot as plt\n",
        "import scipy.linalg as la\n",
        "%matplotlib inline\n"
      ],
      "metadata": {
        "id": "1INhNy3hLOAh"
      },
      "execution_count": 143,
      "outputs": []
    },
    {
      "cell_type": "markdown",
      "source": [
        "##Matrices\n",
        "One of the fundamentals of modern computing is the use and notation of matrices. Matrices can also be used to represent complex equations or multiple interconnected equations, ranging from 2-dimensional to hundreds of thousands of them."
      ],
      "metadata": {
        "id": "hJngipmVLQ9g"
      }
    },
    {
      "cell_type": "markdown",
      "source": [
        "Assume you have an equation system with X and Y."
      ],
      "metadata": {
        "id": "cldkFbGZLwCI"
      }
    },
    {
      "cell_type": "markdown",
      "source": [
        "$$\n",
        "X = \\left\\{\n",
        "    \\begin{array}\\\n",
        "        a + b \\\\ \n",
        "        8a - 20y\n",
        "    \\end{array}\n",
        "\\right. \\\\\n",
        "Y = \\left\\{\n",
        "    \\begin{array}\\\n",
        "        a+b+b \\\\ \n",
        "        6a -4b -c \\\\\n",
        "        -2a + 8b +4c\n",
        "    \\end{array}\n",
        "\\right. \\\\\n",
        "Z = \\left\\{\n",
        "    \\begin{array}\\\n",
        "      d-4a+6b-8c \\\\\n",
        "      6d-a-4b+c \\\\ \n",
        "      4d-a+6b-4c\n",
        "    \\end{array}\n",
        "\\right. \n",
        "  $$\n"
      ],
      "metadata": {
        "id": "BrhYZHCIL5c6"
      }
    },
    {
      "cell_type": "markdown",
      "source": [
        "X is a two-parameter system of two equations, as we can see. Y, on the other hand, is a three-equation, three-parameter system. They can be represented as matrices in the following ways:"
      ],
      "metadata": {
        "id": "SX3kpvGCNqEn"
      }
    },
    {
      "cell_type": "markdown",
      "source": [
        "$$\n",
        "X=\\begin{bmatrix} 2 & 2 \\\\ 8 & {-20}\\end{bmatrix} \\\\\n",
        "Y=\\begin{bmatrix} 2 & 2 & 2 \\\\ 6 & -4 & -2 \\\\ -2 & 8 & 4\\end{bmatrix}\\\\\n",
        "Z=\\begin{bmatrix} 16 & -24 & 26 & -48 \\\\ 66 & 22 & 44 & 20 \\\\ 42 & -22 & 30 & -42\\end{bmatrix}\\\\\n",
        "$$\n"
      ],
      "metadata": {
        "id": "ogG0NjFWOZJZ"
      }
    },
    {
      "cell_type": "markdown",
      "source": [
        "Assuming you've already learned about matrix representation, types, and operations. From now on, we'll do them in Python."
      ],
      "metadata": {
        "id": "P1Eug9RNPP5E"
      }
    },
    {
      "cell_type": "markdown",
      "source": [
        "#Declaring Matrices\n",
        "We'll use a matrix to represent a system of linear equations, as we did in the previous laboratory activity. The entities or numbers that comprise matrices are referred to as matrix elements. The list/array structure of matrices is formed by arranging and ordering these elements in rows and columns. These elements are indexed in the same way that arrays are, based on their position in relation to their rows and columns. The following equation can be used to represent this. X, on the other hand, is a matrices composed of xi,j elements. The number of rows in the matrix is denoted by i, while the number of columns is denoted by j.\n",
        "Keep in mind that the size of a matrix is i x j.\n"
      ],
      "metadata": {
        "id": "mrWjZnu8Ptc-"
      }
    },
    {
      "cell_type": "markdown",
      "source": [
        "$$X=\\begin{bmatrix}\n",
        "a_{(0,0)}&a_{(0,1)}&\\dots&a_{(0,j-1)}\\\\\n",
        "a_{(1,0)}&a_{(1,1)}&\\dots&a_{(1,j-1)}\\\\\n",
        "\\vdots&\\vdots&\\ddots&\\vdots&\\\\\n",
        "a_{(i-1,0)}&a_{(i-1,1)}&\\dots&a_{(i-1,j-1)}\n",
        "\\end{bmatrix}\n",
        "$$\n"
      ],
      "metadata": {
        "id": "-WZDVbwtQTT1"
      }
    },
    {
      "cell_type": "code",
      "source": [
        "def describe_mat(matrix):\n",
        "    print(f'Matrix:\\n{matrix}\\n\\nShape:\\t{matrix.shape}\\nRank:\\t{matrix.ndim}\\n')\n"
      ],
      "metadata": {
        "id": "SunW1KtPQmnu"
      },
      "execution_count": 144,
      "outputs": []
    },
    {
      "cell_type": "code",
      "source": [
        "A = np.array([\n",
        "    [13, 21],\n",
        "    [31, 11]\n",
        "])\n",
        "describe_mat(A)\n"
      ],
      "metadata": {
        "colab": {
          "base_uri": "https://localhost:8080/"
        },
        "id": "U2gNFOlbQ5xw",
        "outputId": "547b99c7-627d-4a1b-c155-53491a47297f"
      },
      "execution_count": 145,
      "outputs": [
        {
          "output_type": "stream",
          "name": "stdout",
          "text": [
            "Matrix:\n",
            "[[13 21]\n",
            " [31 11]]\n",
            "\n",
            "Shape:\t(2, 2)\n",
            "Rank:\t2\n",
            "\n"
          ]
        }
      ]
    },
    {
      "cell_type": "code",
      "source": [
        "G = np.array([\n",
        "    [12,16,13],\n",
        "    [32,12,44]\n",
        "])\n",
        "describe_mat(G)\n"
      ],
      "metadata": {
        "colab": {
          "base_uri": "https://localhost:8080/"
        },
        "id": "SN1O2UnxSPrF",
        "outputId": "cb36fd32-8128-409c-fc71-7e566c8c75dd"
      },
      "execution_count": 146,
      "outputs": [
        {
          "output_type": "stream",
          "name": "stdout",
          "text": [
            "Matrix:\n",
            "[[12 16 13]\n",
            " [32 12 44]]\n",
            "\n",
            "Shape:\t(2, 3)\n",
            "Rank:\t2\n",
            "\n"
          ]
        }
      ]
    },
    {
      "cell_type": "code",
      "source": [
        "B = np.array([\n",
        "    [28, 32],\n",
        "    [25, 14],\n",
        "    [11, 21]\n",
        "])\n",
        "describe_mat(B)\n"
      ],
      "metadata": {
        "colab": {
          "base_uri": "https://localhost:8080/"
        },
        "id": "km9EmxexSeFO",
        "outputId": "288f29ee-a847-4573-aeca-690e50b3205d"
      },
      "execution_count": 147,
      "outputs": [
        {
          "output_type": "stream",
          "name": "stdout",
          "text": [
            "Matrix:\n",
            "[[28 32]\n",
            " [25 14]\n",
            " [11 21]]\n",
            "\n",
            "Shape:\t(3, 2)\n",
            "Rank:\t2\n",
            "\n"
          ]
        }
      ]
    },
    {
      "cell_type": "code",
      "source": [
        "H = np.array([31,12,23,44])\n",
        "describe_mat(H)\n"
      ],
      "metadata": {
        "colab": {
          "base_uri": "https://localhost:8080/"
        },
        "id": "ohESmlaASke5",
        "outputId": "2818d15f-0ac3-4f4a-e56f-17b89bbbaf80"
      },
      "execution_count": 148,
      "outputs": [
        {
          "output_type": "stream",
          "name": "stdout",
          "text": [
            "Matrix:\n",
            "[31 12 23 44]\n",
            "\n",
            "Shape:\t(4,)\n",
            "Rank:\t1\n",
            "\n"
          ]
        }
      ]
    },
    {
      "cell_type": "markdown",
      "source": [
        "#Categorizing Matrices\n",
        "Matrixes can be classified in several ways. One could be based on their element values, while the other on their shape. We'll do our best to go through them."
      ],
      "metadata": {
        "id": "tzKx36OBSrdK"
      }
    },
    {
      "cell_type": "markdown",
      "source": [
        "##According to shape\n"
      ],
      "metadata": {
        "id": "cf0GUzz1TsM5"
      }
    },
    {
      "cell_type": "markdown",
      "source": [
        "###Row and column matrices\n",
        "Row and column matrices are frequently used in vector and matrix computations. They can also be used to represent a larger vector space's row and column spaces. A single column or row represents a row or column matrix. As a result, row matrices are 1 X j and column matrices are i x 1."
      ],
      "metadata": {
        "id": "ivDqegKFTuvd"
      }
    },
    {
      "cell_type": "code",
      "source": [
        "## Declaring a Row Matrix\n",
        "\n",
        "rowmatrix1D = np.array([\n",
        "    2, 6, 4, -8\n",
        "]) ## this is a 1-D Matrix with a shape of (4), it's not really considered as a row matrix.\n",
        "row_mat_2D = np.array([\n",
        "    [2,4,6, -8]\n",
        "]) ## this is a 2-D Matrix with a shape of (1,4)\n",
        "\n",
        "describe_mat(rowmatrix1D)\n",
        "describe_mat(row_mat_2D)\n"
      ],
      "metadata": {
        "colab": {
          "base_uri": "https://localhost:8080/"
        },
        "id": "pXCjpEB1TzoY",
        "outputId": "71f69dc8-35c6-416e-cdae-c0f305b89c4a"
      },
      "execution_count": 149,
      "outputs": [
        {
          "output_type": "stream",
          "name": "stdout",
          "text": [
            "Matrix:\n",
            "[ 2  6  4 -8]\n",
            "\n",
            "Shape:\t(4,)\n",
            "Rank:\t1\n",
            "\n",
            "Matrix:\n",
            "[[ 2  4  6 -8]]\n",
            "\n",
            "Shape:\t(1, 4)\n",
            "Rank:\t2\n",
            "\n"
          ]
        }
      ]
    },
    {
      "cell_type": "code",
      "source": [
        "col_mat = np.array([\n",
        "    [2],\n",
        "    [4],\n",
        "    [10]\n",
        "]) ## this is a 2-D Matrix with a shape of (3,1)\n",
        "describe_mat(col_mat)\n"
      ],
      "metadata": {
        "colab": {
          "base_uri": "https://localhost:8080/"
        },
        "id": "4FYWtltUUwRR",
        "outputId": "81e188f6-44c1-4901-a3a8-7f226a394f43"
      },
      "execution_count": 150,
      "outputs": [
        {
          "output_type": "stream",
          "name": "stdout",
          "text": [
            "Matrix:\n",
            "[[ 2]\n",
            " [ 4]\n",
            " [10]]\n",
            "\n",
            "Shape:\t(3, 1)\n",
            "Rank:\t2\n",
            "\n"
          ]
        }
      ]
    },
    {
      "cell_type": "markdown",
      "source": [
        "##Square matrices\n",
        "Square matrices have the same row and column dimensions. A matrix is said to be square if i=j. We can modify our matrix descriptor function to find square matrices."
      ],
      "metadata": {
        "id": "wqVWjPTaUzRE"
      }
    },
    {
      "cell_type": "code",
      "source": [
        "def describe_mat(matrix):\n",
        "    is_square = True if matrix.shape[0] == matrix.shape[1] else False \n",
        "    print(f'Matrix:\\n{matrix}\\n\\nShape:\\t{matrix.shape}\\nRank:\\t{matrix.ndim}\\nIs Square: {is_square}\\n')\n"
      ],
      "metadata": {
        "id": "Xitm_LMgWEIo"
      },
      "execution_count": 151,
      "outputs": []
    },
    {
      "cell_type": "code",
      "source": [
        "square_mat = np.array([\n",
        "    [2,4,10],\n",
        "    [6,6,16],\n",
        "    [12,2,4]\n",
        "])\n",
        "\n",
        "non_square_mat = np.array([\n",
        "    [2,4,10],\n",
        "    [6,6,16]\n",
        "])\n",
        "describe_mat(square_mat)\n",
        "describe_mat(non_square_mat)\n"
      ],
      "metadata": {
        "colab": {
          "base_uri": "https://localhost:8080/"
        },
        "id": "On-5g-ByWGNw",
        "outputId": "be3ef9e9-eb4a-46da-8c8f-60a478d5a177"
      },
      "execution_count": 152,
      "outputs": [
        {
          "output_type": "stream",
          "name": "stdout",
          "text": [
            "Matrix:\n",
            "[[ 2  4 10]\n",
            " [ 6  6 16]\n",
            " [12  2  4]]\n",
            "\n",
            "Shape:\t(3, 3)\n",
            "Rank:\t2\n",
            "Is Square: True\n",
            "\n",
            "Matrix:\n",
            "[[ 2  4 10]\n",
            " [ 6  6 16]]\n",
            "\n",
            "Shape:\t(2, 3)\n",
            "Rank:\t2\n",
            "Is Square: False\n",
            "\n"
          ]
        }
      ]
    },
    {
      "cell_type": "markdown",
      "source": [
        "##According to element values\n"
      ],
      "metadata": {
        "id": "pFTNm6XUWIJ3"
      }
    },
    {
      "cell_type": "markdown",
      "source": [
        "###Null Matrix\n",
        "A Null Matrix is one that contains no elements. It's always a vector or a matrices subspace."
      ],
      "metadata": {
        "id": "_LsjZ-4gWLnz"
      }
    },
    {
      "cell_type": "code",
      "source": [
        "def describe_mat(matrix):\n",
        "    if matrix.size > 0:\n",
        "        is_square = True if matrix.shape[0] == matrix.shape[1] else False \n",
        "        print(f'Matrix:\\n{matrix}\\n\\nShape:\\t{matrix.shape}\\nRank:\\t{matrix.ndim}\\nIs Square: {is_square}\\n')\n",
        "    else:\n",
        "        print('Matrix is Null')\n"
      ],
      "metadata": {
        "id": "FHWPLBdBWO53"
      },
      "execution_count": 153,
      "outputs": []
    },
    {
      "cell_type": "code",
      "source": [
        "null_mat = np.array([])\n",
        "describe_mat(null_mat)\n"
      ],
      "metadata": {
        "colab": {
          "base_uri": "https://localhost:8080/"
        },
        "id": "5dmszdxkWk3J",
        "outputId": "dc23268a-e07a-426e-fb32-da64761b49af"
      },
      "execution_count": 154,
      "outputs": [
        {
          "output_type": "stream",
          "name": "stdout",
          "text": [
            "Matrix is Null\n"
          ]
        }
      ]
    },
    {
      "cell_type": "markdown",
      "source": [
        "##Zero Matrix\n",
        "A zero matrix can be any rectangular matrix, but all of its elements must be 0 in order to be considered."
      ],
      "metadata": {
        "id": "2U1KoSUbWpwg"
      }
    },
    {
      "cell_type": "code",
      "source": [
        "zero_mat_row = np.zeros((2,4))\n",
        "zero_mat_sqr = np.zeros((4,4))\n",
        "zero_mat_rct = np.zeros((6,4))\n",
        "\n",
        "print(f'Zero Row Matrix: \\n{zero_mat_row}')\n",
        "print(f'Zero Square Matrix: \\n{zero_mat_sqr}')\n",
        "print(f'Zero Rectangular Matrix: \\n{zero_mat_rct}')\n"
      ],
      "metadata": {
        "colab": {
          "base_uri": "https://localhost:8080/"
        },
        "id": "LNF4JaLdXaDj",
        "outputId": "a094217e-2bd4-4142-bc05-9de38c2b8bc6"
      },
      "execution_count": 155,
      "outputs": [
        {
          "output_type": "stream",
          "name": "stdout",
          "text": [
            "Zero Row Matrix: \n",
            "[[0. 0. 0. 0.]\n",
            " [0. 0. 0. 0.]]\n",
            "Zero Square Matrix: \n",
            "[[0. 0. 0. 0.]\n",
            " [0. 0. 0. 0.]\n",
            " [0. 0. 0. 0.]\n",
            " [0. 0. 0. 0.]]\n",
            "Zero Rectangular Matrix: \n",
            "[[0. 0. 0. 0.]\n",
            " [0. 0. 0. 0.]\n",
            " [0. 0. 0. 0.]\n",
            " [0. 0. 0. 0.]\n",
            " [0. 0. 0. 0.]\n",
            " [0. 0. 0. 0.]]\n"
          ]
        }
      ]
    },
    {
      "cell_type": "markdown",
      "source": [
        "##One Matrix\n",
        "A ones matrix, like a zero matrix, can be any rectangular matrix whose elements are all 1s rather than 0s."
      ],
      "metadata": {
        "id": "2Daph_vHXuwO"
      }
    },
    {
      "cell_type": "code",
      "source": [
        "ones_mat_row = np.ones((2,4))\n",
        "ones_mat_sqr = np.ones((4,4))\n",
        "ones_mat_rct = np.ones((6,4))\n",
        "\n",
        "print(f'Ones Row Matrix: \\n{ones_mat_row}')\n",
        "print(f'Ones Square Matrix: \\n{ones_mat_sqr}')\n",
        "print(f'Ones Rectangular Matrix: \\n{ones_mat_rct}')\n"
      ],
      "metadata": {
        "colab": {
          "base_uri": "https://localhost:8080/"
        },
        "id": "BlyzJVZHXrtw",
        "outputId": "bbe25260-3f85-4bcd-8471-99a9878e5359"
      },
      "execution_count": 156,
      "outputs": [
        {
          "output_type": "stream",
          "name": "stdout",
          "text": [
            "Ones Row Matrix: \n",
            "[[1. 1. 1. 1.]\n",
            " [1. 1. 1. 1.]]\n",
            "Ones Square Matrix: \n",
            "[[1. 1. 1. 1.]\n",
            " [1. 1. 1. 1.]\n",
            " [1. 1. 1. 1.]\n",
            " [1. 1. 1. 1.]]\n",
            "Ones Rectangular Matrix: \n",
            "[[1. 1. 1. 1.]\n",
            " [1. 1. 1. 1.]\n",
            " [1. 1. 1. 1.]\n",
            " [1. 1. 1. 1.]\n",
            " [1. 1. 1. 1.]\n",
            " [1. 1. 1. 1.]]\n"
          ]
        }
      ]
    },
    {
      "cell_type": "markdown",
      "source": [
        "##Diagonal Matrix\n",
        "A diagonal matrix is a square matrix that only has values along one of its diagonals."
      ],
      "metadata": {
        "id": "r3JII5VzX9SW"
      }
    },
    {
      "cell_type": "code",
      "source": [
        "np.array([\n",
        "    [4,0,0],\n",
        "    [0,6,0],\n",
        "    [0,0,10]\n",
        "])\n"
      ],
      "metadata": {
        "colab": {
          "base_uri": "https://localhost:8080/"
        },
        "id": "F7hRPIlLX-6n",
        "outputId": "2bd1dc12-8530-4f12-98eb-c0abe487bcda"
      },
      "execution_count": 157,
      "outputs": [
        {
          "output_type": "execute_result",
          "data": {
            "text/plain": [
              "array([[ 4,  0,  0],\n",
              "       [ 0,  6,  0],\n",
              "       [ 0,  0, 10]])"
            ]
          },
          "metadata": {},
          "execution_count": 157
        }
      ]
    },
    {
      "cell_type": "code",
      "source": [
        "d = np.diag([4,6,10,14])\n",
        "#d.shape[0] == d.shape[1]\n",
        "d\n"
      ],
      "metadata": {
        "colab": {
          "base_uri": "https://localhost:8080/"
        },
        "id": "RTOWDSvHYDZ3",
        "outputId": "583c897a-320f-4587-85c7-64a700dd7331"
      },
      "execution_count": 158,
      "outputs": [
        {
          "output_type": "execute_result",
          "data": {
            "text/plain": [
              "array([[ 4,  0,  0,  0],\n",
              "       [ 0,  6,  0,  0],\n",
              "       [ 0,  0, 10,  0],\n",
              "       [ 0,  0,  0, 14]])"
            ]
          },
          "metadata": {},
          "execution_count": 158
        }
      ]
    },
    {
      "cell_type": "markdown",
      "source": [
        "##Identity Matrix\n",
        "An identity matrix is a diagonal matrix with all diagonal values equal to one."
      ],
      "metadata": {
        "id": "WSkfhSQCYyPh"
      }
    },
    {
      "cell_type": "code",
      "source": [
        "np.identity(15)\n"
      ],
      "metadata": {
        "colab": {
          "base_uri": "https://localhost:8080/"
        },
        "id": "-W9FCVljYz2t",
        "outputId": "1c3e173d-19e6-4599-e425-150aa4bebb4b"
      },
      "execution_count": 159,
      "outputs": [
        {
          "output_type": "execute_result",
          "data": {
            "text/plain": [
              "array([[1., 0., 0., 0., 0., 0., 0., 0., 0., 0., 0., 0., 0., 0., 0.],\n",
              "       [0., 1., 0., 0., 0., 0., 0., 0., 0., 0., 0., 0., 0., 0., 0.],\n",
              "       [0., 0., 1., 0., 0., 0., 0., 0., 0., 0., 0., 0., 0., 0., 0.],\n",
              "       [0., 0., 0., 1., 0., 0., 0., 0., 0., 0., 0., 0., 0., 0., 0.],\n",
              "       [0., 0., 0., 0., 1., 0., 0., 0., 0., 0., 0., 0., 0., 0., 0.],\n",
              "       [0., 0., 0., 0., 0., 1., 0., 0., 0., 0., 0., 0., 0., 0., 0.],\n",
              "       [0., 0., 0., 0., 0., 0., 1., 0., 0., 0., 0., 0., 0., 0., 0.],\n",
              "       [0., 0., 0., 0., 0., 0., 0., 1., 0., 0., 0., 0., 0., 0., 0.],\n",
              "       [0., 0., 0., 0., 0., 0., 0., 0., 1., 0., 0., 0., 0., 0., 0.],\n",
              "       [0., 0., 0., 0., 0., 0., 0., 0., 0., 1., 0., 0., 0., 0., 0.],\n",
              "       [0., 0., 0., 0., 0., 0., 0., 0., 0., 0., 1., 0., 0., 0., 0.],\n",
              "       [0., 0., 0., 0., 0., 0., 0., 0., 0., 0., 0., 1., 0., 0., 0.],\n",
              "       [0., 0., 0., 0., 0., 0., 0., 0., 0., 0., 0., 0., 1., 0., 0.],\n",
              "       [0., 0., 0., 0., 0., 0., 0., 0., 0., 0., 0., 0., 0., 1., 0.],\n",
              "       [0., 0., 0., 0., 0., 0., 0., 0., 0., 0., 0., 0., 0., 0., 1.]])"
            ]
          },
          "metadata": {},
          "execution_count": 159
        }
      ]
    },
    {
      "cell_type": "code",
      "source": [
        "np.eye(6)\n"
      ],
      "metadata": {
        "colab": {
          "base_uri": "https://localhost:8080/"
        },
        "id": "gPDN_dtvZOhS",
        "outputId": "c1a2a243-d94c-4de0-95f9-c7bcc26cb450"
      },
      "execution_count": 160,
      "outputs": [
        {
          "output_type": "execute_result",
          "data": {
            "text/plain": [
              "array([[1., 0., 0., 0., 0., 0.],\n",
              "       [0., 1., 0., 0., 0., 0.],\n",
              "       [0., 0., 1., 0., 0., 0.],\n",
              "       [0., 0., 0., 1., 0., 0.],\n",
              "       [0., 0., 0., 0., 1., 0.],\n",
              "       [0., 0., 0., 0., 0., 1.]])"
            ]
          },
          "metadata": {},
          "execution_count": 160
        }
      ]
    },
    {
      "cell_type": "markdown",
      "source": [
        "##Upper Triangular Matrix\n",
        "An upper triangular matrix is one that has no values below the diagonal."
      ],
      "metadata": {
        "id": "sX_4NO8DZQK5"
      }
    },
    {
      "cell_type": "code",
      "source": [
        "np.array([\n",
        "    [2,4,6,8],\n",
        "    [0,6,2,-2],\n",
        "    [0,0,10,4],\n",
        "    [0,0,0,4]\n",
        "])\n"
      ],
      "metadata": {
        "colab": {
          "base_uri": "https://localhost:8080/"
        },
        "id": "iEk8i9stZSQO",
        "outputId": "1e15be98-1ed6-488d-9a25-9da0133a2304"
      },
      "execution_count": 161,
      "outputs": [
        {
          "output_type": "execute_result",
          "data": {
            "text/plain": [
              "array([[ 2,  4,  6,  8],\n",
              "       [ 0,  6,  2, -2],\n",
              "       [ 0,  0, 10,  4],\n",
              "       [ 0,  0,  0,  4]])"
            ]
          },
          "metadata": {},
          "execution_count": 161
        }
      ]
    },
    {
      "cell_type": "code",
      "source": [
        "F = np.array([\n",
        "              [4, -6, 8, -10, 12],\n",
        "              [4, -6, 8, -10, 12],\n",
        "              [4, -6, 8, -10, 12],\n",
        "              [4, -6, 8, -10, 12],\n",
        "              [4, -6, 8, -10, 12],\n",
        "])\n",
        "np.triu(F)\n"
      ],
      "metadata": {
        "colab": {
          "base_uri": "https://localhost:8080/"
        },
        "id": "U0Hlci-XZxT3",
        "outputId": "a4612d19-8ce9-43c2-c756-575d0ee0aa7d"
      },
      "execution_count": 162,
      "outputs": [
        {
          "output_type": "execute_result",
          "data": {
            "text/plain": [
              "array([[  4,  -6,   8, -10,  12],\n",
              "       [  0,  -6,   8, -10,  12],\n",
              "       [  0,   0,   8, -10,  12],\n",
              "       [  0,   0,   0, -10,  12],\n",
              "       [  0,   0,   0,   0,  12]])"
            ]
          },
          "metadata": {},
          "execution_count": 162
        }
      ]
    },
    {
      "cell_type": "markdown",
      "source": [
        "##Lower Triangular Matrix\n",
        "There are no values above the diagonal in a lower triangular matrix."
      ],
      "metadata": {
        "id": "UGuIIg0UZ5aj"
      }
    },
    {
      "cell_type": "code",
      "source": [
        "np.array([\n",
        "    [2,0,0],\n",
        "    [10,6,0],\n",
        "    [14,16,10]\n",
        "])"
      ],
      "metadata": {
        "colab": {
          "base_uri": "https://localhost:8080/"
        },
        "id": "08a4Ut1d0DMM",
        "outputId": "c3bcb02b-5e30-44c1-dee3-0302e94306ee"
      },
      "execution_count": 163,
      "outputs": [
        {
          "output_type": "execute_result",
          "data": {
            "text/plain": [
              "array([[ 2,  0,  0],\n",
              "       [10,  6,  0],\n",
              "       [14, 16, 10]])"
            ]
          },
          "metadata": {},
          "execution_count": 163
        }
      ]
    },
    {
      "cell_type": "markdown",
      "source": [
        "#Matrix Algebra"
      ],
      "metadata": {
        "id": "UTImCLa30OtT"
      }
    },
    {
      "cell_type": "markdown",
      "source": [
        "##Addition"
      ],
      "metadata": {
        "id": "FgxqB1ea0VQT"
      }
    },
    {
      "cell_type": "code",
      "source": [
        "X = np.array([\n",
        "    [2,4],\n",
        "    [4,6],\n",
        "    [8,2]\n",
        "])\n",
        "Y = np.array([\n",
        "    [4,4],\n",
        "    [0,0],\n",
        "    [2,2]\n",
        "])\n",
        "X+Y"
      ],
      "metadata": {
        "colab": {
          "base_uri": "https://localhost:8080/"
        },
        "id": "Z3Funyk00XrL",
        "outputId": "5505d1f6-c37c-4859-ce6e-4ceb6ca0006d"
      },
      "execution_count": 164,
      "outputs": [
        {
          "output_type": "execute_result",
          "data": {
            "text/plain": [
              "array([[ 6,  8],\n",
              "       [ 4,  6],\n",
              "       [10,  4]])"
            ]
          },
          "metadata": {},
          "execution_count": 164
        }
      ]
    },
    {
      "cell_type": "code",
      "source": [
        "4+X ##Broadcasting\n",
        "# 4*np.ones(A.shape)+A"
      ],
      "metadata": {
        "colab": {
          "base_uri": "https://localhost:8080/"
        },
        "id": "EuG_eZqX0ac0",
        "outputId": "14951fb4-9dcf-4e21-b9c3-55c1ffc2ec18"
      },
      "execution_count": 165,
      "outputs": [
        {
          "output_type": "execute_result",
          "data": {
            "text/plain": [
              "array([[ 6,  8],\n",
              "       [ 8, 10],\n",
              "       [12,  6]])"
            ]
          },
          "metadata": {},
          "execution_count": 165
        }
      ]
    },
    {
      "cell_type": "markdown",
      "source": [
        "##Subtraction"
      ],
      "metadata": {
        "id": "JdGXWza80c0D"
      }
    },
    {
      "cell_type": "code",
      "source": [
        "X-Y"
      ],
      "metadata": {
        "colab": {
          "base_uri": "https://localhost:8080/"
        },
        "id": "zE-yFnSG0eW9",
        "outputId": "21f86160-a666-46bc-c974-03e0246caf5c"
      },
      "execution_count": 166,
      "outputs": [
        {
          "output_type": "execute_result",
          "data": {
            "text/plain": [
              "array([[-2,  0],\n",
              "       [ 4,  6],\n",
              "       [ 6,  0]])"
            ]
          },
          "metadata": {},
          "execution_count": 166
        }
      ]
    },
    {
      "cell_type": "code",
      "source": [
        "6-Y == 6*np.ones(Y.shape)-Y"
      ],
      "metadata": {
        "colab": {
          "base_uri": "https://localhost:8080/"
        },
        "id": "L_4fBk3h0hzG",
        "outputId": "ecc93e11-6fc0-429f-b55d-7207f7dd707a"
      },
      "execution_count": 167,
      "outputs": [
        {
          "output_type": "execute_result",
          "data": {
            "text/plain": [
              "array([[ True,  True],\n",
              "       [ True,  True],\n",
              "       [ True,  True]])"
            ]
          },
          "metadata": {},
          "execution_count": 167
        }
      ]
    },
    {
      "cell_type": "markdown",
      "source": [
        "##Element-wise Multiplication"
      ],
      "metadata": {
        "id": "3flgw5Dy0jfL"
      }
    },
    {
      "cell_type": "code",
      "source": [
        "X*Y\n",
        "np.multiply(X,Y)"
      ],
      "metadata": {
        "colab": {
          "base_uri": "https://localhost:8080/"
        },
        "id": "8O7W4jiy0oKC",
        "outputId": "4efb33d0-061b-4da1-c510-bf396443c21d"
      },
      "execution_count": 168,
      "outputs": [
        {
          "output_type": "execute_result",
          "data": {
            "text/plain": [
              "array([[ 8, 16],\n",
              "       [ 0,  0],\n",
              "       [16,  4]])"
            ]
          },
          "metadata": {},
          "execution_count": 168
        }
      ]
    },
    {
      "cell_type": "code",
      "source": [
        "4*X"
      ],
      "metadata": {
        "id": "hahD3Ssx0pgU",
        "outputId": "73667278-f1e3-47d6-97ad-44a593a06e12",
        "colab": {
          "base_uri": "https://localhost:8080/"
        }
      },
      "execution_count": 169,
      "outputs": [
        {
          "output_type": "execute_result",
          "data": {
            "text/plain": [
              "array([[ 8, 16],\n",
              "       [16, 24],\n",
              "       [32,  8]])"
            ]
          },
          "metadata": {},
          "execution_count": 169
        }
      ]
    },
    {
      "cell_type": "code",
      "source": [
        "R = np.array([\n",
        "    [2,4],\n",
        "    [4,6],\n",
        "    [8,2]\n",
        "])\n",
        "T = np.array([\n",
        "    [4,4,4],\n",
        "    [0,0,0]\n",
        "])\n",
        "R@T"
      ],
      "metadata": {
        "id": "EppycDO00q2T",
        "outputId": "bc93a49a-736f-47a7-abc2-993421fb5931",
        "colab": {
          "base_uri": "https://localhost:8080/"
        }
      },
      "execution_count": 170,
      "outputs": [
        {
          "output_type": "execute_result",
          "data": {
            "text/plain": [
              "array([[ 8,  8,  8],\n",
              "       [16, 16, 16],\n",
              "       [32, 32, 32]])"
            ]
          },
          "metadata": {},
          "execution_count": 170
        }
      ]
    },
    {
      "cell_type": "code",
      "source": [
        "alpha=20**-20\n",
        "X/(alpha+Y)"
      ],
      "metadata": {
        "id": "fLjVkuMz0tSy",
        "colab": {
          "base_uri": "https://localhost:8080/"
        },
        "outputId": "250fd06f-5033-4c64-92b2-76b5821b9230"
      },
      "execution_count": 171,
      "outputs": [
        {
          "output_type": "execute_result",
          "data": {
            "text/plain": [
              "array([[5.000000e-01, 1.000000e+00],\n",
              "       [4.194304e+26, 6.291456e+26],\n",
              "       [4.000000e+00, 1.000000e+00]])"
            ]
          },
          "metadata": {},
          "execution_count": 171
        }
      ]
    },
    {
      "cell_type": "code",
      "source": [
        "np.add(X,Y)"
      ],
      "metadata": {
        "id": "3PiLAAIK0vdC",
        "colab": {
          "base_uri": "https://localhost:8080/"
        },
        "outputId": "e3018042-c473-40e0-89a0-18ba4108dcd8"
      },
      "execution_count": 172,
      "outputs": [
        {
          "output_type": "execute_result",
          "data": {
            "text/plain": [
              "array([[ 6,  8],\n",
              "       [ 4,  6],\n",
              "       [10,  4]])"
            ]
          },
          "metadata": {},
          "execution_count": 172
        }
      ]
    },
    {
      "cell_type": "markdown",
      "source": [
        "#Activity"
      ],
      "metadata": {
        "id": "zdKPCydf4X_H"
      }
    },
    {
      "cell_type": "markdown",
      "source": [
        "##Task 1\n",
        "Create a function named mat_desc() that througouhly describes a matrix, it should:\n",
        "\n",
        "\n",
        "\n",
        "1.   Displays the shape, size, and rank of the matrix.\n",
        "2.   Displays whether the matrix is square or non-square.\n",
        "3.   Displays whether the matrix is an empty matrix.\n",
        "4.   Displays if the matrix is an identity, ones, or zeros matrix\n",
        "\n",
        "Use 5 sample matrices in which their shapes are not lower than (3,3). In your methodology, create a flowchart discuss the functions and methods you have done. Present your results in the results section showing the description of each matrix you have declared.\n",
        "\n",
        "\n"
      ],
      "metadata": {
        "id": "llCTqpzD4a9d"
      }
    },
    {
      "cell_type": "code",
      "source": [
        "# mat_desc function\n",
        "\n",
        "def mat_desc(matrix):\n",
        "  square = False\n",
        "  matrix = np.array(matrix)\n",
        "  print(matrix)\n",
        "  print('Shape', matrix.shape)\n",
        "  print('Size', matrix.size)\n",
        "  print('Rank', np.linalg.matrix_rank(matrix))\n",
        "  if(matrix.shape[0] == matrix.shape[1]):\n",
        "    square = True\n",
        "    print('Square Matrix')\n",
        "  else: \n",
        "    print('Non-Square Matrix')\n",
        "  if(matrix.shape[0] == 0 and matrix.shape[1] == 0):\n",
        "    print('Empty Matrix')\n",
        "  else:\n",
        "    print('Matrix in not empty')\n",
        "  iden = np.identity(matrix.shape[0])\n",
        "  if(square and (iden == matrix).all()):\n",
        "    print('Identity Matrix')\n",
        "  else:\n",
        "    print('Not identity matrix')\n",
        "  one = np.ones((matrix.shape[0], matrix.shape[1]))\n",
        "  if(one == matrix).all ():\n",
        "    print('Ones matrix')\n",
        "  else:\n",
        "    print('Not a Ones Matrix')\n",
        "  zero = np.zeros((matrix.shape[0], matrix.shape[1]))\n",
        "  if((zero == matrix).all()):\n",
        "    print('Zero Matrix')\n",
        "  else:\n",
        "    print('Non-Zero Matrix')"
      ],
      "metadata": {
        "id": "TrYEeCqg6mcn"
      },
      "execution_count": 173,
      "outputs": []
    },
    {
      "cell_type": "code",
      "source": [
        "print('Matrix 1:')\n",
        "mat_desc([[1,1,1,1],[1,1,1,1],[1,1,1,1],[1,1,1,1],[1,1,1,1]])"
      ],
      "metadata": {
        "id": "BoSRb17K7ozu",
        "colab": {
          "base_uri": "https://localhost:8080/"
        },
        "outputId": "7621ae31-5720-4868-ef7b-b9d60b05e61f"
      },
      "execution_count": 174,
      "outputs": [
        {
          "output_type": "stream",
          "name": "stdout",
          "text": [
            "Matrix 1:\n",
            "[[1 1 1 1]\n",
            " [1 1 1 1]\n",
            " [1 1 1 1]\n",
            " [1 1 1 1]\n",
            " [1 1 1 1]]\n",
            "Shape (5, 4)\n",
            "Size 20\n",
            "Rank 1\n",
            "Non-Square Matrix\n",
            "Matrix in not empty\n",
            "Not identity matrix\n",
            "Ones matrix\n",
            "Non-Zero Matrix\n"
          ]
        }
      ]
    },
    {
      "cell_type": "code",
      "source": [
        "print('Matrix 2:')\n",
        "mat_desc([[2,4,6,8,10], [1,3,5,7,9], [4,16,18,2,8], [1,9,13,18,7], [6,8,11,5,10]])"
      ],
      "metadata": {
        "colab": {
          "base_uri": "https://localhost:8080/"
        },
        "id": "f04nBIPkcDNg",
        "outputId": "e9d02474-0896-44d9-ab56-2c5c65c7f526"
      },
      "execution_count": 175,
      "outputs": [
        {
          "output_type": "stream",
          "name": "stdout",
          "text": [
            "Matrix 2:\n",
            "[[ 2  4  6  8 10]\n",
            " [ 1  3  5  7  9]\n",
            " [ 4 16 18  2  8]\n",
            " [ 1  9 13 18  7]\n",
            " [ 6  8 11  5 10]]\n",
            "Shape (5, 5)\n",
            "Size 25\n",
            "Rank 5\n",
            "Square Matrix\n",
            "Matrix in not empty\n",
            "Not identity matrix\n",
            "Not a Ones Matrix\n",
            "Non-Zero Matrix\n"
          ]
        }
      ]
    },
    {
      "cell_type": "code",
      "source": [
        "print('Matrix 3:')\n",
        "mat_desc([[1,0,0,0,0,0], [0,1,0,0,0,0], [0,0,1,0,0,0], [0,0,0,1,0,0,], [0,0,0,0,1,0,],[0,0,0,0,0,1]])"
      ],
      "metadata": {
        "colab": {
          "base_uri": "https://localhost:8080/"
        },
        "id": "nr4x9vVHcGZb",
        "outputId": "10607cf4-030f-4b08-f5cf-590b4e568277"
      },
      "execution_count": 176,
      "outputs": [
        {
          "output_type": "stream",
          "name": "stdout",
          "text": [
            "Matrix 3:\n",
            "[[1 0 0 0 0 0]\n",
            " [0 1 0 0 0 0]\n",
            " [0 0 1 0 0 0]\n",
            " [0 0 0 1 0 0]\n",
            " [0 0 0 0 1 0]\n",
            " [0 0 0 0 0 1]]\n",
            "Shape (6, 6)\n",
            "Size 36\n",
            "Rank 6\n",
            "Square Matrix\n",
            "Matrix in not empty\n",
            "Identity Matrix\n",
            "Not a Ones Matrix\n",
            "Non-Zero Matrix\n"
          ]
        }
      ]
    },
    {
      "cell_type": "code",
      "source": [
        "print('Matrix 4:')\n",
        "mat_desc([[1,1,1,1],[1,1,1,1],[1,1,1,1],[1,1,1,1], [1,1,1,1], [1,1,1,1,], [1,1,1,1]])"
      ],
      "metadata": {
        "colab": {
          "base_uri": "https://localhost:8080/"
        },
        "id": "oVVUJ4B4cIcc",
        "outputId": "2fe78312-eee4-4ab6-ac16-2772c830be7d"
      },
      "execution_count": 177,
      "outputs": [
        {
          "output_type": "stream",
          "name": "stdout",
          "text": [
            "Matrix 4:\n",
            "[[1 1 1 1]\n",
            " [1 1 1 1]\n",
            " [1 1 1 1]\n",
            " [1 1 1 1]\n",
            " [1 1 1 1]\n",
            " [1 1 1 1]\n",
            " [1 1 1 1]]\n",
            "Shape (7, 4)\n",
            "Size 28\n",
            "Rank 1\n",
            "Non-Square Matrix\n",
            "Matrix in not empty\n",
            "Not identity matrix\n",
            "Ones matrix\n",
            "Non-Zero Matrix\n"
          ]
        }
      ]
    },
    {
      "cell_type": "code",
      "source": [
        "print('Matrix 5:')\n",
        "mat_desc([[0,0,0,0], [0, 0, 0,0], [0,0,0,0], [0,0,0,0]])"
      ],
      "metadata": {
        "colab": {
          "base_uri": "https://localhost:8080/"
        },
        "id": "8AXFTzzfcJyW",
        "outputId": "71e7793f-4995-4a78-fbbc-03e05c9ccd02"
      },
      "execution_count": 178,
      "outputs": [
        {
          "output_type": "stream",
          "name": "stdout",
          "text": [
            "Matrix 5:\n",
            "[[0 0 0 0]\n",
            " [0 0 0 0]\n",
            " [0 0 0 0]\n",
            " [0 0 0 0]]\n",
            "Shape (4, 4)\n",
            "Size 16\n",
            "Rank 0\n",
            "Square Matrix\n",
            "Matrix in not empty\n",
            "Not identity matrix\n",
            "Not a Ones Matrix\n",
            "Zero Matrix\n"
          ]
        }
      ]
    },
    {
      "cell_type": "markdown",
      "source": [
        "#Task 2\n",
        "\n",
        "Create a function named mat_operations() that takes in two matrices a input parameters it should:\n",
        "\n",
        "\n",
        "\n",
        "1.   Determines if the matrices are viable for operation and returns your own error message if they are not viable.\n",
        "2.   Returns the sum of the matrices.\n",
        "3.   Returns the differen of the matrices.\n",
        "4.   Returns the element-wise multiplication of the matrices.\n",
        "5.   Returns the element-wise division of the matrices.\n",
        "\n",
        "Use 5 sample matrices in which their shapes are not lower than (3,3). In your methodology, create a flowchart discuss the functions and methods you have done. Present your results in the results section showing the description of each matrix you have declared.\n",
        "\n",
        "\n",
        "\n"
      ],
      "metadata": {
        "id": "AqvD_n_N45Yd"
      }
    },
    {
      "cell_type": "code",
      "source": [
        "def mat_operations(matrix1, matrix2):\n",
        "    matrix1 = np.array(matrix1)\n",
        "    matrix2 = np.array(matrix2)\n",
        "    print('Matrix 1:', matrix1)\n",
        "    print('Matrix 2:', matrix2)\n",
        "    if(matrix1.shape != matrix2.shape):\n",
        "        print('Matrices dimensions are invalid and operations cannot be performed.')\n",
        "        return\n",
        "    print('Sum of the  matrices:')\n",
        "    matrixsum = matrix1 + matrix2\n",
        "    print(matrixsum)\n",
        "    print('Difference of the  matrices:')\n",
        "    matrixdifference = matrix1 - matrix2\n",
        "    print(matrixdifference)\n",
        "    print('Element-wise multiplication of the  matrices:')\n",
        "    matrixproduct = np.multiply(matrix1, matrix2)\n",
        "    print(matrixproduct)\n",
        "    print('Element-wise division of the  matrices:')\n",
        "    matrixdividend = np.divide(matrix1, matrix2)\n",
        "    print(matrixdividend)\n"
      ],
      "metadata": {
        "id": "B85EAH9jFKxd"
      },
      "execution_count": 179,
      "outputs": []
    },
    {
      "cell_type": "code",
      "source": [
        "print('sample1:')\n",
        "mat_operations([[4,6,4], [10,8,14], [8,6,1], [3,7,5,]],[[6,8,10,], [18,14,2,12],[2,4,12,8],[15,7,13,9]])"
      ],
      "metadata": {
        "colab": {
          "base_uri": "https://localhost:8080/"
        },
        "id": "vvZAQcubQ-X-",
        "outputId": "7653863f-0bfc-45f7-866f-dac34321dcfe"
      },
      "execution_count": 180,
      "outputs": [
        {
          "output_type": "stream",
          "name": "stdout",
          "text": [
            "sample1:\n",
            "Matrix 1: [[ 4  6  4]\n",
            " [10  8 14]\n",
            " [ 8  6  1]\n",
            " [ 3  7  5]]\n",
            "Matrix 2: [list([6, 8, 10]) list([18, 14, 2, 12]) list([2, 4, 12, 8])\n",
            " list([15, 7, 13, 9])]\n",
            "Matrices dimensions are invalid and operations cannot be performed.\n"
          ]
        },
        {
          "output_type": "stream",
          "name": "stderr",
          "text": [
            "/usr/local/lib/python3.7/dist-packages/ipykernel_launcher.py:3: VisibleDeprecationWarning: Creating an ndarray from ragged nested sequences (which is a list-or-tuple of lists-or-tuples-or ndarrays with different lengths or shapes) is deprecated. If you meant to do this, you must specify 'dtype=object' when creating the ndarray.\n",
            "  This is separate from the ipykernel package so we can avoid doing imports until\n"
          ]
        }
      ]
    },
    {
      "cell_type": "code",
      "source": [
        "print('sample 2:')\n",
        "mat_operations([[1, 3, 2,2], [1,1,0,2], [3,0,2,4]], [[1,4,2,3],[0,1,2,5],[2,2,2,3]])"
      ],
      "metadata": {
        "colab": {
          "base_uri": "https://localhost:8080/"
        },
        "id": "7IorLOnicigV",
        "outputId": "0abfbe6f-5e97-4ad9-8f81-1bca1ad2b4b2"
      },
      "execution_count": 181,
      "outputs": [
        {
          "output_type": "stream",
          "name": "stdout",
          "text": [
            "sample 2:\n",
            "Matrix 1: [[1 3 2 2]\n",
            " [1 1 0 2]\n",
            " [3 0 2 4]]\n",
            "Matrix 2: [[1 4 2 3]\n",
            " [0 1 2 5]\n",
            " [2 2 2 3]]\n",
            "Sum of the  matrices:\n",
            "[[2 7 4 5]\n",
            " [1 2 2 7]\n",
            " [5 2 4 7]]\n",
            "Difference of the  matrices:\n",
            "[[ 0 -1  0 -1]\n",
            " [ 1  0 -2 -3]\n",
            " [ 1 -2  0  1]]\n",
            "Element-wise multiplication of the  matrices:\n",
            "[[ 1 12  4  6]\n",
            " [ 0  1  0 10]\n",
            " [ 6  0  4 12]]\n",
            "Element-wise division of the  matrices:\n",
            "[[1.         0.75       1.         0.66666667]\n",
            " [       inf 1.         0.         0.4       ]\n",
            " [1.5        0.         1.         1.33333333]]\n"
          ]
        },
        {
          "output_type": "stream",
          "name": "stderr",
          "text": [
            "/usr/local/lib/python3.7/dist-packages/ipykernel_launcher.py:19: RuntimeWarning: divide by zero encountered in true_divide\n"
          ]
        }
      ]
    },
    {
      "cell_type": "code",
      "source": [
        "print('sample 3:')\n",
        "mat_operations([[6, 15, 3], [9,18,9], [18,3,15], [7,15,12]], [[15,12,6],[9,12,18],[9,6,9],[12,12,15]])"
      ],
      "metadata": {
        "colab": {
          "base_uri": "https://localhost:8080/"
        },
        "id": "8MKOVof2ckD-",
        "outputId": "d2fb1c94-2915-44e2-ccb4-fb32849d572e"
      },
      "execution_count": 182,
      "outputs": [
        {
          "output_type": "stream",
          "name": "stdout",
          "text": [
            "sample 3:\n",
            "Matrix 1: [[ 6 15  3]\n",
            " [ 9 18  9]\n",
            " [18  3 15]\n",
            " [ 7 15 12]]\n",
            "Matrix 2: [[15 12  6]\n",
            " [ 9 12 18]\n",
            " [ 9  6  9]\n",
            " [12 12 15]]\n",
            "Sum of the  matrices:\n",
            "[[21 27  9]\n",
            " [18 30 27]\n",
            " [27  9 24]\n",
            " [19 27 27]]\n",
            "Difference of the  matrices:\n",
            "[[-9  3 -3]\n",
            " [ 0  6 -9]\n",
            " [ 9 -3  6]\n",
            " [-5  3 -3]]\n",
            "Element-wise multiplication of the  matrices:\n",
            "[[ 90 180  18]\n",
            " [ 81 216 162]\n",
            " [162  18 135]\n",
            " [ 84 180 180]]\n",
            "Element-wise division of the  matrices:\n",
            "[[0.4        1.25       0.5       ]\n",
            " [1.         1.5        0.5       ]\n",
            " [2.         0.5        1.66666667]\n",
            " [0.58333333 1.25       0.8       ]]\n"
          ]
        }
      ]
    },
    {
      "cell_type": "code",
      "source": [
        "print('sample 4:')\n",
        "mat_operations([[3,1,2,4,1], [6,3,6,4,5], [3,2,10,4,1]], [[3,2,1,3,4],[6,2,3,4,5],[6,1,2,3,1]])"
      ],
      "metadata": {
        "colab": {
          "base_uri": "https://localhost:8080/"
        },
        "id": "0GrqpjLYcmTv",
        "outputId": "5fd7de8e-4542-4ef2-c238-3a5df50ee618"
      },
      "execution_count": 183,
      "outputs": [
        {
          "output_type": "stream",
          "name": "stdout",
          "text": [
            "sample 4:\n",
            "Matrix 1: [[ 3  1  2  4  1]\n",
            " [ 6  3  6  4  5]\n",
            " [ 3  2 10  4  1]]\n",
            "Matrix 2: [[3 2 1 3 4]\n",
            " [6 2 3 4 5]\n",
            " [6 1 2 3 1]]\n",
            "Sum of the  matrices:\n",
            "[[ 6  3  3  7  5]\n",
            " [12  5  9  8 10]\n",
            " [ 9  3 12  7  2]]\n",
            "Difference of the  matrices:\n",
            "[[ 0 -1  1  1 -3]\n",
            " [ 0  1  3  0  0]\n",
            " [-3  1  8  1  0]]\n",
            "Element-wise multiplication of the  matrices:\n",
            "[[ 9  2  2 12  4]\n",
            " [36  6 18 16 25]\n",
            " [18  2 20 12  1]]\n",
            "Element-wise division of the  matrices:\n",
            "[[1.         0.5        2.         1.33333333 0.25      ]\n",
            " [1.         1.5        2.         1.         1.        ]\n",
            " [0.5        2.         5.         1.33333333 1.        ]]\n"
          ]
        }
      ]
    },
    {
      "cell_type": "code",
      "source": [
        "print('sample 5:')\n",
        "mat_operations([[3,1,2,4,1,10], [2,3,1,4,5,5], [2,3,2,5,1,0], [11,3,5,7,10,5]], [[3,2,3,3,4,4],[6,8,12,4,5,1],[1,4,6,12,4,2], [2,13,5,6,12,6]])"
      ],
      "metadata": {
        "colab": {
          "base_uri": "https://localhost:8080/"
        },
        "id": "fvTXcalqcnhL",
        "outputId": "d83219f9-1f45-4aa4-ac1e-f56282ad7af3"
      },
      "execution_count": 184,
      "outputs": [
        {
          "output_type": "stream",
          "name": "stdout",
          "text": [
            "sample 5:\n",
            "Matrix 1: [[ 3  1  2  4  1 10]\n",
            " [ 2  3  1  4  5  5]\n",
            " [ 2  3  2  5  1  0]\n",
            " [11  3  5  7 10  5]]\n",
            "Matrix 2: [[ 3  2  3  3  4  4]\n",
            " [ 6  8 12  4  5  1]\n",
            " [ 1  4  6 12  4  2]\n",
            " [ 2 13  5  6 12  6]]\n",
            "Sum of the  matrices:\n",
            "[[ 6  3  5  7  5 14]\n",
            " [ 8 11 13  8 10  6]\n",
            " [ 3  7  8 17  5  2]\n",
            " [13 16 10 13 22 11]]\n",
            "Difference of the  matrices:\n",
            "[[  0  -1  -1   1  -3   6]\n",
            " [ -4  -5 -11   0   0   4]\n",
            " [  1  -1  -4  -7  -3  -2]\n",
            " [  9 -10   0   1  -2  -1]]\n",
            "Element-wise multiplication of the  matrices:\n",
            "[[  9   2   6  12   4  40]\n",
            " [ 12  24  12  16  25   5]\n",
            " [  2  12  12  60   4   0]\n",
            " [ 22  39  25  42 120  30]]\n",
            "Element-wise division of the  matrices:\n",
            "[[1.         0.5        0.66666667 1.33333333 0.25       2.5       ]\n",
            " [0.33333333 0.375      0.08333333 1.         1.         5.        ]\n",
            " [2.         0.75       0.33333333 0.41666667 0.25       0.        ]\n",
            " [5.5        0.23076923 1.         1.16666667 0.83333333 0.83333333]]\n"
          ]
        }
      ]
    }
  ]
}