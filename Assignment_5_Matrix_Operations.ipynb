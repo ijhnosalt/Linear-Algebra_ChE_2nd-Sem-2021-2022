{
  "nbformat": 4,
  "nbformat_minor": 0,
  "metadata": {
    "colab": {
      "name": "Assignment_5-Matrix Operations",
      "provenance": [],
      "collapsed_sections": [],
      "authorship_tag": "ABX9TyNTwJSM3AIgmKlabZ6YLS6d",
      "include_colab_link": true
    },
    "kernelspec": {
      "name": "python3",
      "display_name": "Python 3"
    },
    "language_info": {
      "name": "python"
    }
  },
  "cells": [
    {
      "cell_type": "markdown",
      "metadata": {
        "id": "view-in-github",
        "colab_type": "text"
      },
      "source": [
        "<a href=\"https://colab.research.google.com/github/ijhnosalt/Linear-Algebra_ChE_2nd-Sem-2021-2022/blob/main/Assignment_5_Matrix_Operations.ipynb\" target=\"_parent\"><img src=\"https://colab.research.google.com/assets/colab-badge.svg\" alt=\"Open In Colab\"/></a>"
      ]
    },
    {
      "cell_type": "markdown",
      "source": [
        "#Linear Algebra for ChE\n",
        "\n",
        "##Objectives\n",
        "1. Understand the fundamental matrix operations.\n",
        "2. Use the operations to solve the problem.\n",
        "3. Apply matrix algebra in engineering solutions. "
      ],
      "metadata": {
        "id": "7DLfUV6XAVWP"
      }
    },
    {
      "cell_type": "code",
      "source": [
        "import numpy as np\n",
        "import matplotlib.pyplot as plt\n",
        "%matplotlib inline"
      ],
      "metadata": {
        "id": "0V8WtIEMAZ4V"
      },
      "execution_count": 46,
      "outputs": []
    },
    {
      "cell_type": "markdown",
      "source": [
        "#Transposition\n",
        "Transposition is a fundamental operation in matrix algebra. A matrix is transposed by flipping the values of its elements across its diagonals. The rows and columns of the original matrix will be switched as a result of this. As a result, the transpose of matrix A is denoted as $A^T$. As an example:\n",
        "\n",
        ":$$\n",
        "M=\\begin{bmatrix} 14 & 6 & 2 & \\\\ 0 & -4 & 16 & \\\\ 2 & 10 & 18 & \\end{bmatrix}\n",
        "$$\n",
        "\n",
        "\n",
        ":$$\n",
        "M^T=\\begin{bmatrix} 14 & 0 & 2 & \\\\ 6 & -4 & 10 & \\\\ 2 & 16 & 18 & \\end{bmatrix}\n",
        "$$"
      ],
      "metadata": {
        "id": "_J3u1T_lAbHj"
      }
    },
    {
      "cell_type": "code",
      "source": [
        "A = np.array([\n",
        "    [14, 6, 2],\n",
        "    [0, -4, 16],\n",
        "    [2, 10, 18]\n",
        "])\n",
        "A"
      ],
      "metadata": {
        "colab": {
          "base_uri": "https://localhost:8080/"
        },
        "id": "GtgfdgPkAfGW",
        "outputId": "c1c17555-3a44-4b39-f767-78425b903f7e"
      },
      "execution_count": 47,
      "outputs": [
        {
          "output_type": "execute_result",
          "data": {
            "text/plain": [
              "array([[14,  6,  2],\n",
              "       [ 0, -4, 16],\n",
              "       [ 2, 10, 18]])"
            ]
          },
          "metadata": {},
          "execution_count": 47
        }
      ]
    },
    {
      "cell_type": "code",
      "source": [
        "AT1 = np.transpose(A)\n",
        "AT1"
      ],
      "metadata": {
        "colab": {
          "base_uri": "https://localhost:8080/"
        },
        "id": "sQg-nWL3AhBl",
        "outputId": "b9538d1c-6e08-495e-e7d2-46d651f6432f"
      },
      "execution_count": 48,
      "outputs": [
        {
          "output_type": "execute_result",
          "data": {
            "text/plain": [
              "array([[14,  0,  2],\n",
              "       [ 6, -4, 10],\n",
              "       [ 2, 16, 18]])"
            ]
          },
          "metadata": {},
          "execution_count": 48
        }
      ]
    },
    {
      "cell_type": "code",
      "source": [
        "AT2 = A.T\n",
        "AT2"
      ],
      "metadata": {
        "colab": {
          "base_uri": "https://localhost:8080/"
        },
        "id": "X7Bqn0ZhAi6G",
        "outputId": "6b97f050-3d9c-4ac6-f9ae-4788ba2214d2"
      },
      "execution_count": 49,
      "outputs": [
        {
          "output_type": "execute_result",
          "data": {
            "text/plain": [
              "array([[14,  0,  2],\n",
              "       [ 6, -4, 10],\n",
              "       [ 2, 16, 18]])"
            ]
          },
          "metadata": {},
          "execution_count": 49
        }
      ]
    },
    {
      "cell_type": "code",
      "source": [
        "np.array_equiv(AT1, AT2)"
      ],
      "metadata": {
        "colab": {
          "base_uri": "https://localhost:8080/"
        },
        "id": "JG77ml43AkR9",
        "outputId": "cc8cb703-97bc-49f9-95ae-75d1fc947eaf"
      },
      "execution_count": 50,
      "outputs": [
        {
          "output_type": "execute_result",
          "data": {
            "text/plain": [
              "True"
            ]
          },
          "metadata": {},
          "execution_count": 50
        }
      ]
    },
    {
      "cell_type": "code",
      "source": [
        "B = np.array([\n",
        "    [2, 14, 8, 18],\n",
        "    [10, 4, 0, -10],\n",
        "    [14, -8, 6, 18]\n",
        "])\n",
        "B.shape"
      ],
      "metadata": {
        "colab": {
          "base_uri": "https://localhost:8080/"
        },
        "id": "nmOWQDGgAl0G",
        "outputId": "511a01cd-1180-4ba6-e6ec-f4e5895e6fb4"
      },
      "execution_count": 51,
      "outputs": [
        {
          "output_type": "execute_result",
          "data": {
            "text/plain": [
              "(3, 4)"
            ]
          },
          "metadata": {},
          "execution_count": 51
        }
      ]
    },
    {
      "cell_type": "code",
      "source": [
        "np.transpose(B).shape"
      ],
      "metadata": {
        "colab": {
          "base_uri": "https://localhost:8080/"
        },
        "id": "peVc_7lXAnA-",
        "outputId": "d232757f-78d0-4c34-a065-602f836ffdcf"
      },
      "execution_count": 52,
      "outputs": [
        {
          "output_type": "execute_result",
          "data": {
            "text/plain": [
              "(4, 3)"
            ]
          },
          "metadata": {},
          "execution_count": 52
        }
      ]
    },
    {
      "cell_type": "code",
      "source": [
        "B.T.shape"
      ],
      "metadata": {
        "colab": {
          "base_uri": "https://localhost:8080/"
        },
        "id": "tuoXnazoAoXm",
        "outputId": "6b5430f1-ae46-44ce-d4cb-0cf562628993"
      },
      "execution_count": 53,
      "outputs": [
        {
          "output_type": "execute_result",
          "data": {
            "text/plain": [
              "(4, 3)"
            ]
          },
          "metadata": {},
          "execution_count": 53
        }
      ]
    },
    {
      "cell_type": "markdown",
      "source": [
        "To test transposition, try making your own matrix (you can use non-squares)."
      ],
      "metadata": {
        "id": "TXcRKF3nAriU"
      }
    },
    {
      "cell_type": "code",
      "source": [
        "I= np.array ([\n",
        "    [2, 13, 21],\n",
        "    [4, -19, 17],\n",
        "    [2, 6, 15],\n",
        "    [22, 3, 12]\n",
        "])\n",
        "print('I matrix: \\n',I, '\\n')\n",
        "print('Shape: ',I.shape)"
      ],
      "metadata": {
        "colab": {
          "base_uri": "https://localhost:8080/"
        },
        "id": "FGXCHDh7AtF9",
        "outputId": "bbeab47e-1643-403d-87cc-d61399d02329"
      },
      "execution_count": 54,
      "outputs": [
        {
          "output_type": "stream",
          "name": "stdout",
          "text": [
            "I matrix: \n",
            " [[  2  13  21]\n",
            " [  4 -19  17]\n",
            " [  2   6  15]\n",
            " [ 22   3  12]] \n",
            "\n",
            "Shape:  (4, 3)\n"
          ]
        }
      ]
    },
    {
      "cell_type": "code",
      "source": [
        "print('Transpose Shape: ',np.transpose(I).shape)"
      ],
      "metadata": {
        "colab": {
          "base_uri": "https://localhost:8080/"
        },
        "id": "pECaDaIxAuqt",
        "outputId": "e3c01ac9-f189-4cd6-f24c-dcbdb6a1043f"
      },
      "execution_count": 55,
      "outputs": [
        {
          "output_type": "stream",
          "name": "stdout",
          "text": [
            "Transpose Shape:  (3, 4)\n"
          ]
        }
      ]
    },
    {
      "cell_type": "code",
      "source": [
        "print('Transpose Shape: ',I.T.shape)"
      ],
      "metadata": {
        "colab": {
          "base_uri": "https://localhost:8080/"
        },
        "id": "uLE1EoHFAv_m",
        "outputId": "2eff0563-aca6-415b-bbce-7293a594131f"
      },
      "execution_count": 56,
      "outputs": [
        {
          "output_type": "stream",
          "name": "stdout",
          "text": [
            "Transpose Shape:  (3, 4)\n"
          ]
        }
      ]
    },
    {
      "cell_type": "markdown",
      "source": [
        "##Dot Product / Inner product"
      ],
      "metadata": {
        "id": "qpt2nrWJAyZN"
      }
    },
    {
      "cell_type": "markdown",
      "source": [
        "If you remember the dot product from the previous laboratory activity, we will try to implement the same operation with matrices. In matrix dot product, we will get the sum of vector products by row-column pairs. So if we have two matrices $X$ and $Y$:\n",
        "\n",
        "$$X = \\begin{bmatrix}x_{(0,0)}&x_{(0,1)}\\\\ x_{(1,0)}&x_{(1,1)}\\end{bmatrix}, Y = \\begin{bmatrix}y_{(0,0)}&y_{(0,1)}\\\\ y_{(1,0)}&y_{(1,1)}\\end{bmatrix}$$\n",
        "\n",
        "The dot product is then calculated as:\n",
        "$$X \\cdot Y= \\begin{bmatrix} x_{(0,0)}*y_{(0,0)} + x_{(0,1)}*y_{(1,0)} & x_{(0,0)}*y_{(0,1)} + x_{(0,1)}*y_{(1,1)} \\\\  x_{(1,0)}*y_{(0,0)} + x_{(1,1)}*y_{(1,0)} & x_{(1,0)}*y_{(0,1)} + x_{(1,1)}*y_{(1,1)}\n",
        "\\end{bmatrix}$$\n",
        "\n",
        "As a result, if we assign values to $X$ and $Y$:\n",
        "$$X = \\begin{bmatrix}1&2\\\\ 0&1\\end{bmatrix}, Y = \\begin{bmatrix}-1&0\\\\ 2&2\\end{bmatrix}$$"
      ],
      "metadata": {
        "id": "dX7BKmKfA04t"
      }
    },
    {
      "cell_type": "markdown",
      "source": [
        "$$X \\cdot Y= \\begin{bmatrix} 1*-1 + 2*2 & 1*0 + 2*2 \\\\  0*-1 + 1*2 & 0*0 + 1*2 \\end{bmatrix} = \\begin{bmatrix} 3 & 4 \\\\2 & 2 \\end{bmatrix}$$\n",
        "This could be achieved programmatically using `np.dot()`, `np.matmul()` or the `@` operator."
      ],
      "metadata": {
        "id": "A9WbplvpA5GE"
      }
    },
    {
      "cell_type": "code",
      "source": [
        "A = np.array([\n",
        "    [4,3],\n",
        "    [5,2]\n",
        "])\n",
        "M = np.array([\n",
        "    [4,3],\n",
        "    [2,3]\n",
        "])"
      ],
      "metadata": {
        "id": "KjTj_ylLA6UQ"
      },
      "execution_count": 57,
      "outputs": []
    },
    {
      "cell_type": "code",
      "source": [
        "P= np.array ([  \n",
        "    [2,14,16,18,10,12,0],\n",
        "    [4,10,12,14,16,18,2]\n",
        "])"
      ],
      "metadata": {
        "id": "DbhOwZ_vA8VP"
      },
      "execution_count": 58,
      "outputs": []
    },
    {
      "cell_type": "code",
      "source": [
        "np.array_equiv(A,M)"
      ],
      "metadata": {
        "colab": {
          "base_uri": "https://localhost:8080/"
        },
        "id": "Y_rGSO8qA9fe",
        "outputId": "58c837d0-8be3-4e8e-dbce-476f6b85fdd9"
      },
      "execution_count": 59,
      "outputs": [
        {
          "output_type": "execute_result",
          "data": {
            "text/plain": [
              "False"
            ]
          },
          "metadata": {},
          "execution_count": 59
        }
      ]
    },
    {
      "cell_type": "code",
      "source": [
        "np.dot(A,M)"
      ],
      "metadata": {
        "colab": {
          "base_uri": "https://localhost:8080/"
        },
        "id": "SIWSY5TTA-xX",
        "outputId": "31fb53c5-9688-4955-fca0-f5de2f2a362b"
      },
      "execution_count": 60,
      "outputs": [
        {
          "output_type": "execute_result",
          "data": {
            "text/plain": [
              "array([[22, 21],\n",
              "       [24, 21]])"
            ]
          },
          "metadata": {},
          "execution_count": 60
        }
      ]
    },
    {
      "cell_type": "code",
      "source": [
        "A.dot(M)"
      ],
      "metadata": {
        "colab": {
          "base_uri": "https://localhost:8080/"
        },
        "id": "juXf6iOgA_3r",
        "outputId": "60a4bd8b-7eb9-4410-b4c2-ec384605ac77"
      },
      "execution_count": 61,
      "outputs": [
        {
          "output_type": "execute_result",
          "data": {
            "text/plain": [
              "array([[22, 21],\n",
              "       [24, 21]])"
            ]
          },
          "metadata": {},
          "execution_count": 61
        }
      ]
    },
    {
      "cell_type": "code",
      "source": [
        "A @ M"
      ],
      "metadata": {
        "colab": {
          "base_uri": "https://localhost:8080/"
        },
        "id": "1bDINTSGBA7m",
        "outputId": "94bf96df-5c19-48d6-a9e4-2c2a6ff4a8fa"
      },
      "execution_count": 62,
      "outputs": [
        {
          "output_type": "execute_result",
          "data": {
            "text/plain": [
              "array([[22, 21],\n",
              "       [24, 21]])"
            ]
          },
          "metadata": {},
          "execution_count": 62
        }
      ]
    },
    {
      "cell_type": "code",
      "source": [
        "np.matmul(A,M)"
      ],
      "metadata": {
        "colab": {
          "base_uri": "https://localhost:8080/"
        },
        "id": "9QZOjmj3BB38",
        "outputId": "c95ba706-51fd-4626-98f6-1153f80b0125"
      },
      "execution_count": 63,
      "outputs": [
        {
          "output_type": "execute_result",
          "data": {
            "text/plain": [
              "array([[22, 21],\n",
              "       [24, 21]])"
            ]
          },
          "metadata": {},
          "execution_count": 63
        }
      ]
    },
    {
      "cell_type": "markdown",
      "source": [
        "When compared to vector dot products, matrix dot products have additional rules. There are fewer constraints because vector dot products are only one dimension. Because we are now dealing with Rank 2 vectors, we must follow the following rules:\n",
        "\n",
        "### Rule 1: The inner dimensions of the two matrices in question must be the same. \n",
        "\n",
        "So given a matrix $A$ with a shape of $(a,b)$ where $a$ and $b$ are any integers. If we want to do a dot product between $A$ and another matrix $B$, then matrix $B$ should have a shape of $(b,c)$ where $b$ and $c$ are any integers. So for given the following matrices:\n",
        "\n",
        "$$A = \\begin{bmatrix}2&4\\\\5&-2\\\\0&1\\end{bmatrix}, B = \\begin{bmatrix}1&1\\\\3&3\\\\-1&-2\\end{bmatrix}, C = \\begin{bmatrix}0&1&1\\\\1&1&2\\end{bmatrix}$$\n",
        "\n",
        "So in this case $A$ has a shape of $(3,2)$, $B$ has a shape of $(3,2)$ and $C$ has a shape of $(2,3)$. So the only matrix pairs that is eligible to perform dot product is matrices $A \\cdot C$, or $B \\cdot C$.  "
      ],
      "metadata": {
        "id": "ICA1g3HgBC3t"
      }
    },
    {
      "cell_type": "code",
      "source": [
        "A = np.array([\n",
        "    [4, 3],\n",
        "    [2, 2],\n",
        "    [3, 4]\n",
        "])\n",
        "M = np.array([\n",
        "    [4,2],\n",
        "    [3,3],\n",
        "    [4,-1]\n",
        "])\n",
        "P = np.array([\n",
        "    [2,10,16],\n",
        "    [4,12,16]\n",
        "])\n",
        "print(A.shape)\n",
        "print(M.shape)\n",
        "print(P.shape)"
      ],
      "metadata": {
        "colab": {
          "base_uri": "https://localhost:8080/"
        },
        "id": "soZb4PSJBKwG",
        "outputId": "1c3b9e57-c76c-41de-d9da-adb62f5b6fa6"
      },
      "execution_count": 64,
      "outputs": [
        {
          "output_type": "stream",
          "name": "stdout",
          "text": [
            "(3, 2)\n",
            "(3, 2)\n",
            "(2, 3)\n"
          ]
        }
      ]
    },
    {
      "cell_type": "code",
      "source": [
        "A @ P"
      ],
      "metadata": {
        "colab": {
          "base_uri": "https://localhost:8080/"
        },
        "id": "dxkIOXeXBLPo",
        "outputId": "f10874f9-83b9-43c8-b358-df67a6a80e50"
      },
      "execution_count": 65,
      "outputs": [
        {
          "output_type": "execute_result",
          "data": {
            "text/plain": [
              "array([[ 20,  76, 112],\n",
              "       [ 12,  44,  64],\n",
              "       [ 22,  78, 112]])"
            ]
          },
          "metadata": {},
          "execution_count": 65
        }
      ]
    },
    {
      "cell_type": "code",
      "source": [
        "M @ P"
      ],
      "metadata": {
        "colab": {
          "base_uri": "https://localhost:8080/"
        },
        "id": "wCSehmPMBMTO",
        "outputId": "349d4f65-0112-4afc-c872-28be1bd05a76"
      },
      "execution_count": 66,
      "outputs": [
        {
          "output_type": "execute_result",
          "data": {
            "text/plain": [
              "array([[16, 64, 96],\n",
              "       [18, 66, 96],\n",
              "       [ 4, 28, 48]])"
            ]
          },
          "metadata": {},
          "execution_count": 66
        }
      ]
    },
    {
      "cell_type": "markdown",
      "source": [
        "If you look closely, you will notice that the shape of the dot product has changed and it is no longer the same as any of the matrices we used. A dot product's shape is actually derived from the shapes of the matrices used. So recall matrix $A$ with a shape of $(a,b)$ and matrix $B$ with a shape of $(b,c)$, $A \\cdot B$ should have a shape $(a,c)$."
      ],
      "metadata": {
        "id": "_bvkTeELBNqM"
      }
    },
    {
      "cell_type": "code",
      "source": [
        "A @ M.T"
      ],
      "metadata": {
        "colab": {
          "base_uri": "https://localhost:8080/"
        },
        "id": "58BmyF3dBPyd",
        "outputId": "14238cf9-80b0-4be4-cda6-939f1f4b3fba"
      },
      "execution_count": 67,
      "outputs": [
        {
          "output_type": "execute_result",
          "data": {
            "text/plain": [
              "array([[22, 21, 13],\n",
              "       [12, 12,  6],\n",
              "       [20, 21,  8]])"
            ]
          },
          "metadata": {},
          "execution_count": 67
        }
      ]
    },
    {
      "cell_type": "code",
      "source": [
        "A = np.array([\n",
        "    [2,4,6,8]\n",
        "])\n",
        "P = np.array([\n",
        "    [2,1,8,-2]\n",
        "])\n",
        "print(A.shape)\n",
        "print(P.shape)"
      ],
      "metadata": {
        "colab": {
          "base_uri": "https://localhost:8080/"
        },
        "id": "OmJBmZRPBRMu",
        "outputId": "bc56d0fe-12df-4262-9498-52d697f8d7c1"
      },
      "execution_count": 68,
      "outputs": [
        {
          "output_type": "stream",
          "name": "stdout",
          "text": [
            "(1, 4)\n",
            "(1, 4)\n"
          ]
        }
      ]
    },
    {
      "cell_type": "code",
      "source": [
        "P.T @ A"
      ],
      "metadata": {
        "colab": {
          "base_uri": "https://localhost:8080/"
        },
        "id": "2dVMznMHBSXu",
        "outputId": "8f62db33-853b-4678-f881-4d870359ad22"
      },
      "execution_count": 69,
      "outputs": [
        {
          "output_type": "execute_result",
          "data": {
            "text/plain": [
              "array([[  4,   8,  12,  16],\n",
              "       [  2,   4,   6,   8],\n",
              "       [ 16,  32,  48,  64],\n",
              "       [ -4,  -8, -12, -16]])"
            ]
          },
          "metadata": {},
          "execution_count": 69
        }
      ]
    },
    {
      "cell_type": "markdown",
      "source": [
        "And you can see that when you try to multiply A and B, it returns a `ValueError` due to a mismatch in matrix shape."
      ],
      "metadata": {
        "id": "0c6o7zoIBbu4"
      }
    },
    {
      "cell_type": "markdown",
      "source": [
        "### Rule 2: Dot Product has special properties\n",
        "\n",
        "Dot products are common in matrix algebra, which means they have several distinct properties that should be considered when formulating solutions:\n",
        " 1. $A \\cdot B \\neq B \\cdot A$\n",
        " 2. $A \\cdot (B \\cdot C) = (A \\cdot B) \\cdot C$\n",
        " 3. $A\\cdot(B+C) = A\\cdot B + A\\cdot C$\n",
        " 4. $(B+C)\\cdot A = B\\cdot A + C\\cdot A$\n",
        " 5. $A\\cdot I = A$\n",
        " 6. $A\\cdot \\emptyset = \\emptyset$ "
      ],
      "metadata": {
        "id": "n0noOTxeBdlO"
      }
    },
    {
      "cell_type": "code",
      "source": [
        "A = np.array([\n",
        "    [14, 10, 6],\n",
        "    [6, 8, 14],\n",
        "    [10, 14, 2]\n",
        "])\n",
        "B = np.array([\n",
        "    [16, 6, 16],\n",
        "    [10, 12, 18],\n",
        "    [14, 4, 10]\n",
        "])\n",
        "C = np.array([\n",
        "    [2, 10, 4],\n",
        "    [4, 12, 16],\n",
        "    [12, 6, 14]\n",
        "])"
      ],
      "metadata": {
        "id": "LCwvY53RBfRN"
      },
      "execution_count": 70,
      "outputs": []
    },
    {
      "cell_type": "code",
      "source": [
        "A.dot(np.zeros(A.shape))"
      ],
      "metadata": {
        "colab": {
          "base_uri": "https://localhost:8080/"
        },
        "id": "7V_4L8lfBhKR",
        "outputId": "69046f80-25e4-4544-c3d2-d3a9b0f29933"
      },
      "execution_count": 71,
      "outputs": [
        {
          "output_type": "execute_result",
          "data": {
            "text/plain": [
              "array([[0., 0., 0.],\n",
              "       [0., 0., 0.],\n",
              "       [0., 0., 0.]])"
            ]
          },
          "metadata": {},
          "execution_count": 71
        }
      ]
    },
    {
      "cell_type": "code",
      "source": [
        "z_mat = np.zeros(A.shape)\n",
        "z_mat"
      ],
      "metadata": {
        "colab": {
          "base_uri": "https://localhost:8080/"
        },
        "id": "42XwKZLABiRt",
        "outputId": "550aed88-05b2-4434-c7fe-7fc530959a31"
      },
      "execution_count": 72,
      "outputs": [
        {
          "output_type": "execute_result",
          "data": {
            "text/plain": [
              "array([[0., 0., 0.],\n",
              "       [0., 0., 0.],\n",
              "       [0., 0., 0.]])"
            ]
          },
          "metadata": {},
          "execution_count": 72
        }
      ]
    },
    {
      "cell_type": "code",
      "source": [
        "a_dot_z = A.dot(np.zeros(A.shape))\n",
        "a_dot_z"
      ],
      "metadata": {
        "colab": {
          "base_uri": "https://localhost:8080/"
        },
        "id": "N6MGejSvBjuW",
        "outputId": "30ac2dc4-21e6-4739-c90f-806fcf9f0f24"
      },
      "execution_count": 73,
      "outputs": [
        {
          "output_type": "execute_result",
          "data": {
            "text/plain": [
              "array([[0., 0., 0.],\n",
              "       [0., 0., 0.],\n",
              "       [0., 0., 0.]])"
            ]
          },
          "metadata": {},
          "execution_count": 73
        }
      ]
    },
    {
      "cell_type": "code",
      "source": [
        "np.array_equal(a_dot_z,z_mat)"
      ],
      "metadata": {
        "colab": {
          "base_uri": "https://localhost:8080/"
        },
        "id": "Gn_MdHmhBlJY",
        "outputId": "e8b54b86-f014-49c4-f168-ffbc74cc4c41"
      },
      "execution_count": 74,
      "outputs": [
        {
          "output_type": "execute_result",
          "data": {
            "text/plain": [
              "True"
            ]
          },
          "metadata": {},
          "execution_count": 74
        }
      ]
    },
    {
      "cell_type": "code",
      "source": [
        "null_mat = np.empty(A.shape, dtype=float)\n",
        "null = np.array(null_mat,dtype=float)\n",
        "print(null)\n",
        "np.allclose(a_dot_z,null)"
      ],
      "metadata": {
        "colab": {
          "base_uri": "https://localhost:8080/"
        },
        "id": "JDhxcGCTBmH2",
        "outputId": "7454e1d1-e58c-4a0d-ce52-08aa3ee5707f"
      },
      "execution_count": 75,
      "outputs": [
        {
          "output_type": "stream",
          "name": "stdout",
          "text": [
            "[[1.e-323 5.e-323 2.e-323]\n",
            " [2.e-323 6.e-323 8.e-323]\n",
            " [6.e-323 3.e-323 7.e-323]]\n"
          ]
        },
        {
          "output_type": "execute_result",
          "data": {
            "text/plain": [
              "True"
            ]
          },
          "metadata": {},
          "execution_count": 75
        }
      ]
    },
    {
      "cell_type": "markdown",
      "source": [
        "## Determinant"
      ],
      "metadata": {
        "id": "lQVzEAPkBnjk"
      }
    },
    {
      "cell_type": "markdown",
      "source": [
        "A determinant is a scalar value that can be calculated from a square matrix. In matrix algebra, the determinant is a fundamental and important value. Although it will not be obvious in this laboratory how it can be used practically, it will be extensively used in subsequent lessons.\n",
        "\n",
        "The determinant of some matrix $A$ is denoted as $det(A)$ or $|A|$. So let's say $A$ is represented as:\n",
        "$$A = \\begin{bmatrix}a_{(0,0)}&a_{(0,1)}\\\\a_{(1,0)}&a_{(1,1)}\\end{bmatrix}$$\n",
        "We can compute for the determinant as:\n",
        "$$|A| = a_{(0,0)}*a_{(1,1)} - a_{(1,0)}*a_{(0,1)}$$\n",
        "So if we have $A$ as:\n",
        "$$A = \\begin{bmatrix}14&6\\\\2&18\\end{bmatrix}, |A| = 3$$\n",
        "\n",
        "But you might wonder how about square matrices beyond the shape $(2,2)$? We can approach this problem by using several methods such as co-factor expansion and the minors method. This can be taught in the lecture of the laboratory but we can achieve the strenuous computation of high-dimensional matrices programmatically using Python. We can achieve this by using `np.linalg.det()`."
      ],
      "metadata": {
        "id": "EDjhnpGKBpbH"
      }
    },
    {
      "cell_type": "code",
      "source": [
        "A = np.array([\n",
        "    [14, 6],\n",
        "    [2, 18]\n",
        "])\n",
        "np.linalg.det(A)"
      ],
      "metadata": {
        "colab": {
          "base_uri": "https://localhost:8080/"
        },
        "id": "2Wpg6_K6Br3B",
        "outputId": "8adab39b-660f-4fba-ac57-d5dc8efe88ed"
      },
      "execution_count": 76,
      "outputs": [
        {
          "output_type": "execute_result",
          "data": {
            "text/plain": [
              "239.99999999999997"
            ]
          },
          "metadata": {},
          "execution_count": 76
        }
      ]
    },
    {
      "cell_type": "code",
      "source": [
        "J = np.array([\n",
        "    [14, 6, 10],\n",
        "    [2, 18, 16],\n",
        "    [10, 14, 2]\n",
        "])\n",
        "np.linalg.det(J)"
      ],
      "metadata": {
        "colab": {
          "base_uri": "https://localhost:8080/"
        },
        "id": "q2kQVnafBtql",
        "outputId": "b8034691-53cd-4ca6-9a0f-f9b7ea7622b1"
      },
      "execution_count": 77,
      "outputs": [
        {
          "output_type": "execute_result",
          "data": {
            "text/plain": [
              "-3216.000000000001"
            ]
          },
          "metadata": {},
          "execution_count": 77
        }
      ]
    },
    {
      "cell_type": "code",
      "source": [
        "## Now other mathematics classes would require you to solve this by hand, \n",
        "## and that is great for practicing your memorization and coordination skills \n",
        "## but in this class we aim for simplicity and speed so we'll use programming\n",
        "## but it's completely fine if you want to try to solve this one by hand.\n",
        "B = np.array([\n",
        "    [2, 6, 10, 12],\n",
        "    [0, 6, 2, 6],\n",
        "    [6, 2, 16, 4],\n",
        "    [10, 4, 12, 16]\n",
        "])\n",
        "np.linalg.det(B)"
      ],
      "metadata": {
        "colab": {
          "base_uri": "https://localhost:8080/"
        },
        "id": "z3vopsGeBu6l",
        "outputId": "18429aa5-a7fa-4417-cb01-47562f4e3f33"
      },
      "execution_count": 78,
      "outputs": [
        {
          "output_type": "execute_result",
          "data": {
            "text/plain": [
              "-3760.0000000000014"
            ]
          },
          "metadata": {},
          "execution_count": 78
        }
      ]
    },
    {
      "cell_type": "markdown",
      "source": [
        "## Inverse"
      ],
      "metadata": {
        "id": "BDpZq8v8BxxO"
      }
    },
    {
      "cell_type": "markdown",
      "source": [
        "Another fundamental operation in matrix algebra is the inverse of a matrix. Determining the inverse of a matrix allows us to determine its solvability and properties as a system of linear equations — we'll go over this in more detail in the nect module. Another application of the inverse matrix is to solve the problem of matrix divisibility. Although element-wise division is possible, dividing the entire concept of matrices is not. Inverse matrices provide a related operation that may be similar to \"dividing\" matrices.\n",
        "\n",
        "To find the inverse of a matrix, we must go through several steps. Assume we have a matrix $M$:\n",
        "$$M = \\begin{bmatrix}1&7\\\\-3&5\\end{bmatrix}$$\n",
        "First, we need to get the determinant of $M$.\n",
        "$$|M| = (1)(5)-(-3)(7) = 26$$\n",
        "Next, we need to reform the matrix into the inverse form:\n",
        "$$M^{-1} = \\frac{1}{|M|} \\begin{bmatrix} m_{(1,1)} & -m_{(0,1)} \\\\ -m_{(1,0)} & m_{(0,0)}\\end{bmatrix}$$\n",
        "So that will be:\n",
        "$$M^{-1} = \\frac{1}{26} \\begin{bmatrix} 5 & -7 \\\\ 3 & 1\\end{bmatrix} = \\begin{bmatrix} \\frac{5}{26} & \\frac{-7}{26} \\\\ \\frac{3}{26} & \\frac{1}{26}\\end{bmatrix}$$\n",
        "For higher-dimension matrices you might need to use co-factors, minors, adjugates, and other reduction techinques. To solve this programmatially we can use `np.linalg.inv()`."
      ],
      "metadata": {
        "id": "-htHfdNcBzOd"
      }
    },
    {
      "cell_type": "code",
      "source": [
        "T = np.array([\n",
        "    [20, -10],\n",
        "    [16, 12]\n",
        "])\n",
        "\n",
        "np.array(T @ np.linalg.inv(T), dtype=int)"
      ],
      "metadata": {
        "colab": {
          "base_uri": "https://localhost:8080/"
        },
        "id": "GVKuWoJqB1Bm",
        "outputId": "1f377bdd-f13a-4bfc-eac8-a9e321b2813e"
      },
      "execution_count": 79,
      "outputs": [
        {
          "output_type": "execute_result",
          "data": {
            "text/plain": [
              "array([[1, 0],\n",
              "       [0, 1]])"
            ]
          },
          "metadata": {},
          "execution_count": 79
        }
      ]
    },
    {
      "cell_type": "code",
      "source": [
        "T = np.array([\n",
        "    [20, -10],\n",
        "    [16, 12]\n",
        "])\n",
        "J= np.linalg.inv(T)\n",
        "J"
      ],
      "metadata": {
        "colab": {
          "base_uri": "https://localhost:8080/"
        },
        "id": "d1qRqd4MB3MI",
        "outputId": "d1c799f5-c101-4568-f5d7-451f27c5ec3d"
      },
      "execution_count": 80,
      "outputs": [
        {
          "output_type": "execute_result",
          "data": {
            "text/plain": [
              "array([[ 0.03 ,  0.025],\n",
              "       [-0.04 ,  0.05 ]])"
            ]
          },
          "metadata": {},
          "execution_count": 80
        }
      ]
    },
    {
      "cell_type": "code",
      "source": [
        "J @ T"
      ],
      "metadata": {
        "colab": {
          "base_uri": "https://localhost:8080/"
        },
        "id": "ilcSDQaeB4NH",
        "outputId": "63b2cf2a-ae8f-4b62-d4b4-1fe53b43a6c3"
      },
      "execution_count": 81,
      "outputs": [
        {
          "output_type": "execute_result",
          "data": {
            "text/plain": [
              "array([[ 1.00000000e+00,  8.32667268e-17],\n",
              "       [-1.11022302e-16,  1.00000000e+00]])"
            ]
          },
          "metadata": {},
          "execution_count": 81
        }
      ]
    },
    {
      "cell_type": "code",
      "source": [
        "## And now let's test your skills in solving a matrix with high dimensions:\n",
        "N = np.array([\n",
        "    [16, 5, 23, 2, 1, 4, 4],\n",
        "    [1, 49, 1, 3, 6, 1, 3],\n",
        "    [16, 27, 3, 2, 1, 1, 2],\n",
        "    [2, 3, 0, 4, 3, 6, 3],\n",
        "    [3, 2, 1, 4, 7, 23, 6],\n",
        "    [47, -9, 6, 20, 30, 8, -15],\n",
        "    [-2, -3, 1, 1, 1, 10, 6],\n",
        "])\n",
        "N_inv = np.linalg.inv(N)\n",
        "np.array(N @ N_inv,dtype=int)"
      ],
      "metadata": {
        "colab": {
          "base_uri": "https://localhost:8080/"
        },
        "id": "IIakvEhWB5UV",
        "outputId": "203f1b33-77cc-46bc-e137-a9e84df75fc3"
      },
      "execution_count": 82,
      "outputs": [
        {
          "output_type": "execute_result",
          "data": {
            "text/plain": [
              "array([[0, 0, 0, 0, 0, 0, 0],\n",
              "       [0, 1, 0, 0, 0, 0, 0],\n",
              "       [0, 0, 1, 0, 0, 0, 0],\n",
              "       [0, 0, 0, 1, 0, 0, 0],\n",
              "       [0, 0, 0, 0, 0, 0, 0],\n",
              "       [0, 0, 0, 0, 0, 0, 0],\n",
              "       [0, 0, 0, 0, 0, 0, 1]])"
            ]
          },
          "metadata": {},
          "execution_count": 82
        }
      ]
    },
    {
      "cell_type": "markdown",
      "source": [
        "To determine whether the matrices you've solved are truly the inverse, we use the dot product property for matrices $M$:\n",
        "$$M\\cdot M^{-1} = I$$"
      ],
      "metadata": {
        "id": "_vV_DYulB6et"
      }
    },
    {
      "cell_type": "code",
      "source": [
        "squad = np.array([\n",
        "    [2.25, 3.25, 1.25],\n",
        "    [4.2, 2.30, 1.50],\n",
        "    [1.15, 2.60, 2.50]\n",
        "])\n",
        "weights = np.array([\n",
        "    [0.2, 0.2, 0.6]\n",
        "])\n",
        "p_grade = squad @ weights.T\n",
        "p_grade"
      ],
      "metadata": {
        "colab": {
          "base_uri": "https://localhost:8080/"
        },
        "id": "JuyPUVh5B8F9",
        "outputId": "3d9b7095-3f8a-4cac-c22b-65abece5e17a"
      },
      "execution_count": 83,
      "outputs": [
        {
          "output_type": "execute_result",
          "data": {
            "text/plain": [
              "array([[1.85],\n",
              "       [2.2 ],\n",
              "       [2.25]])"
            ]
          },
          "metadata": {},
          "execution_count": 83
        }
      ]
    },
    {
      "cell_type": "markdown",
      "source": [
        "##ACTIVITY"
      ],
      "metadata": {
        "id": "AoPqAksqB9p-"
      }
    },
    {
      "cell_type": "markdown",
      "source": [
        "###Task 1\n",
        "Prove and implement the remaining 6 matrix multiplication properties. You may create your own matrices in which their shapes should not be lower than (3, 3). In your methodology, create individual flowcharts for each property and discuss the property you would then present your proofs or validity of your implementation in the results section by comparing your result to present functions from Numpy."
      ],
      "metadata": {
        "id": "70YFJP5nB-zN"
      }
    },
    {
      "cell_type": "code",
      "source": [
        "X = np.array([\n",
        "    [14, 18, 27],\n",
        "    [2, 14, -2],\n",
        "    [14, 26, 22]          \n",
        "])\n",
        "\n",
        "Y = np.array([\n",
        "    [25, 52, 43],\n",
        "    [6, 82, 16],\n",
        "    [48, -2, -1]          \n",
        "])\n",
        "\n",
        "Z = np.array([\n",
        "    [42, 45, -28],\n",
        "    [28, -12, 18],\n",
        "    [48, 2, 74]          \n",
        "])"
      ],
      "metadata": {
        "id": "3gMW22FwCCM2"
      },
      "execution_count": 84,
      "outputs": []
    },
    {
      "cell_type": "code",
      "source": [
        "print (\"First property: X*Y does not equate to Y*X\")\n",
        "print()\n",
        "print(\"Matrix X: \\n{}\".format(X))\n",
        "print()\n",
        "print(\"Matrix Y: \\n{}\".format(Y))\n",
        "print()\n",
        "\n",
        "a=X@Y\n",
        "print(\"X@Y\\n\\n{}\".format(a))\n",
        "print()\n",
        "b=Y@X\n",
        "print(\"Y@X\\n\\n{}\".format(b))\n",
        "print()\n",
        "\n",
        "t = np.array_equiv(a,b)\n",
        "print(\"X@Y equates to Y@X? \\n\")\n",
        "print(t)"
      ],
      "metadata": {
        "colab": {
          "base_uri": "https://localhost:8080/"
        },
        "id": "Tk-8BHKPoh5f",
        "outputId": "1427580f-c338-4a7f-dc20-f2184675332b"
      },
      "execution_count": 85,
      "outputs": [
        {
          "output_type": "stream",
          "name": "stdout",
          "text": [
            "First property: X*Y does not equate to Y*X\n",
            "\n",
            "Matrix X: \n",
            "[[14 18 27]\n",
            " [ 2 14 -2]\n",
            " [14 26 22]]\n",
            "\n",
            "Matrix Y: \n",
            "[[25 52 43]\n",
            " [ 6 82 16]\n",
            " [48 -2 -1]]\n",
            "\n",
            "X@Y\n",
            "\n",
            "[[1754 2150  863]\n",
            " [  38 1256  312]\n",
            " [1562 2816  996]]\n",
            "\n",
            "Y@X\n",
            "\n",
            "[[1056 2296 1517]\n",
            " [ 472 1672  350]\n",
            " [ 654  810 1278]]\n",
            "\n",
            "X@Y equates to Y@X? \n",
            "\n",
            "False\n"
          ]
        }
      ]
    },
    {
      "cell_type": "code",
      "source": [
        "print (\"Second Property: X@(Y@Z) = (X@Y)@Z\")\n",
        "print()\n",
        "print(\"Matrix X: \\n{}\".format(X))\n",
        "print()\n",
        "print(\"Matrix Y: \\n{}\".format(Y))\n",
        "print()\n",
        "print(\"Matrix Z: \\n{}\".format(Z))\n",
        "print()\n",
        "\n",
        "a=X@(Y@Z)\n",
        "print(\"X@(Y@Z)\\n\\n{}\".format(a))\n",
        "print()\n",
        "b=(X@Y)@Z\n",
        "print(\"(X@Y)@Z\\n\\n{}\".format(b))\n",
        "print()\n",
        "\n",
        "t = np.array_equiv(a,b)\n",
        "print(\"X@(Y@Z) = (X@Y)@Z? \\n\")\n",
        "print(t)"
      ],
      "metadata": {
        "colab": {
          "base_uri": "https://localhost:8080/"
        },
        "id": "hhSxhCHNrDb7",
        "outputId": "a260424b-c8a4-4f14-c632-ed4c56a1e530"
      },
      "execution_count": 86,
      "outputs": [
        {
          "output_type": "stream",
          "name": "stdout",
          "text": [
            "Second Property: X@(Y@Z) = (X@Y)@Z\n",
            "\n",
            "Matrix X: \n",
            "[[14 18 27]\n",
            " [ 2 14 -2]\n",
            " [14 26 22]]\n",
            "\n",
            "Matrix Y: \n",
            "[[25 52 43]\n",
            " [ 6 82 16]\n",
            " [48 -2 -1]]\n",
            "\n",
            "Matrix Z: \n",
            "[[ 42  45 -28]\n",
            " [ 28 -12  18]\n",
            " [ 48   2  74]]\n",
            "\n",
            "X@(Y@Z)\n",
            "\n",
            "[[175292  54856  53450]\n",
            " [ 51740 -12738  44632]\n",
            " [192260  38490  80656]]\n",
            "\n",
            "(X@Y)@Z\n",
            "\n",
            "[[175292  54856  53450]\n",
            " [ 51740 -12738  44632]\n",
            " [192260  38490  80656]]\n",
            "\n",
            "X@(Y@Z) = (X@Y)@Z? \n",
            "\n",
            "True\n"
          ]
        }
      ]
    },
    {
      "cell_type": "code",
      "source": [
        "print (\"Third Property: X@(Y+Z) = X@Y + X@Z\")\n",
        "print()\n",
        "print(\"Matrix X: \\n{}\".format(X))\n",
        "print()\n",
        "print(\"Matrix Y: \\n{}\".format(Y))\n",
        "print()\n",
        "print(\"Matrix Z: \\n{}\".format(Z))\n",
        "print()\n",
        "\n",
        "a=X@(Y+Z)\n",
        "print(\"X@(Y@Z)\\n\\n{}\".format(a))\n",
        "print()\n",
        "b=X@Y + X@Z\n",
        "print(\"X@Y + X@Z\\n\\n{}\".format(b))\n",
        "print()\n",
        "\n",
        "t = np.array_equiv(a,b)\n",
        "print(\"X@(Y+Z) = X@Y + X@Z? \\n\")\n",
        "print(t)"
      ],
      "metadata": {
        "colab": {
          "base_uri": "https://localhost:8080/"
        },
        "id": "dEqWkmFotUlk",
        "outputId": "6c6e1cd5-7680-4ce3-bd3c-7b190c9bc5b3"
      },
      "execution_count": 87,
      "outputs": [
        {
          "output_type": "stream",
          "name": "stdout",
          "text": [
            "Third Property: X@(Y+Z) = X@Y + X@Z\n",
            "\n",
            "Matrix X: \n",
            "[[14 18 27]\n",
            " [ 2 14 -2]\n",
            " [14 26 22]]\n",
            "\n",
            "Matrix Y: \n",
            "[[25 52 43]\n",
            " [ 6 82 16]\n",
            " [48 -2 -1]]\n",
            "\n",
            "Matrix Z: \n",
            "[[ 42  45 -28]\n",
            " [ 28 -12  18]\n",
            " [ 48   2  74]]\n",
            "\n",
            "X@(Y@Z)\n",
            "\n",
            "[[4142 2618 2793]\n",
            " [ 418 1174  360]\n",
            " [3934 3178 2700]]\n",
            "\n",
            "X@Y + X@Z\n",
            "\n",
            "[[4142 2618 2793]\n",
            " [ 418 1174  360]\n",
            " [3934 3178 2700]]\n",
            "\n",
            "X@(Y+Z) = X@Y + X@Z? \n",
            "\n",
            "True\n"
          ]
        }
      ]
    },
    {
      "cell_type": "code",
      "source": [
        "print (\"Fourth Property: (Y+Z)@X = Y@X + Z@X\")\n",
        "print()\n",
        "print(\"Matrix X: \\n{}\".format(X))\n",
        "print()\n",
        "print(\"Matrix Y: \\n{}\".format(Y))\n",
        "print()\n",
        "print(\"Matrix Z: \\n{}\".format(Z))\n",
        "print()\n",
        "\n",
        "a=(Y+Z)@X\n",
        "print(\"(Y+Z)@X\\n\\n{}\".format(a))\n",
        "print()\n",
        "b=Y@X + Z@X\n",
        "print(\"Y@X + Z@X\\n\\n{}\".format(b))\n",
        "print()\n",
        "\n",
        "t = np.array_equiv(a,b)\n",
        "print(\"(Y+Z)@X = Y@X + Z@X? \\n\")\n",
        "print(t)"
      ],
      "metadata": {
        "colab": {
          "base_uri": "https://localhost:8080/"
        },
        "id": "j9SeAAs0uTJY",
        "outputId": "52d4e399-85aa-4b0f-bdad-060e28e8066d"
      },
      "execution_count": 88,
      "outputs": [
        {
          "output_type": "stream",
          "name": "stdout",
          "text": [
            "Fourth Property: (Y+Z)@X = Y@X + Z@X\n",
            "\n",
            "Matrix X: \n",
            "[[14 18 27]\n",
            " [ 2 14 -2]\n",
            " [14 26 22]]\n",
            "\n",
            "Matrix Y: \n",
            "[[25 52 43]\n",
            " [ 6 82 16]\n",
            " [48 -2 -1]]\n",
            "\n",
            "Matrix Z: \n",
            "[[ 42  45 -28]\n",
            " [ 28 -12  18]\n",
            " [ 48   2  74]]\n",
            "\n",
            "(Y+Z)@X\n",
            "\n",
            "[[1342 2954 1945]\n",
            " [1092 2476 1526]\n",
            " [2366 3626 4198]]\n",
            "\n",
            "Y@X + Z@X\n",
            "\n",
            "[[1342 2954 1945]\n",
            " [1092 2476 1526]\n",
            " [2366 3626 4198]]\n",
            "\n",
            "(Y+Z)@X = Y@X + Z@X? \n",
            "\n",
            "True\n"
          ]
        }
      ]
    },
    {
      "cell_type": "code",
      "source": [
        "print (\"Fifth Property: X@I = X\")\n",
        "print()\n",
        "I = np.array([\n",
        "              [1,0,0],\n",
        "              [0,1,0],\n",
        "              [0,0,1]\n",
        "])\n",
        "print(\"I: \\n{}\".format(I))\n",
        "print()\n",
        "print(\"Matrix X: \\n{}\".format(X))\n",
        "print()\n",
        "\n",
        "a=X@I\n",
        "print(\"X@I\\n\\n{}\".format(a))\n",
        "print()\n",
        "b=X\n",
        "\n",
        "t = np.array_equiv(a,b)\n",
        "print(\"X@I = X? \\n\")\n",
        "print(t)"
      ],
      "metadata": {
        "colab": {
          "base_uri": "https://localhost:8080/"
        },
        "id": "SSHmQ3F_uruz",
        "outputId": "4d369532-dd2a-4eb4-dd1f-9c70660b700c"
      },
      "execution_count": 89,
      "outputs": [
        {
          "output_type": "stream",
          "name": "stdout",
          "text": [
            "Fifth Property: X@I = X\n",
            "\n",
            "I: \n",
            "[[1 0 0]\n",
            " [0 1 0]\n",
            " [0 0 1]]\n",
            "\n",
            "Matrix X: \n",
            "[[14 18 27]\n",
            " [ 2 14 -2]\n",
            " [14 26 22]]\n",
            "\n",
            "X@I\n",
            "\n",
            "[[14 18 27]\n",
            " [ 2 14 -2]\n",
            " [14 26 22]]\n",
            "\n",
            "X@I = X? \n",
            "\n",
            "True\n"
          ]
        }
      ]
    },
    {
      "cell_type": "code",
      "source": [
        "print (\"Sixth Property: X@0 = 0\")\n",
        "print()\n",
        "K = np.array([\n",
        "              [0,0,0],\n",
        "              [0,0,0],\n",
        "              [0,0,0]\n",
        "])\n",
        "print(\"K: \\n{}\".format(K))\n",
        "print()\n",
        "print(\"Matrix X: \\n{}\".format(X))\n",
        "print()\n",
        "\n",
        "a=X@K\n",
        "print(\"X@K\\n\\n{}\".format(a))\n",
        "print()\n",
        "b=X\n",
        "\n",
        "t = np.array_equiv(a,b)\n",
        "print(\"X@K has any values other than an array of zeroes? \\n\")\n",
        "print(t)"
      ],
      "metadata": {
        "colab": {
          "base_uri": "https://localhost:8080/"
        },
        "id": "A6wRbZcivecE",
        "outputId": "0d7f7db4-c94c-4d9f-c990-30765d1c8585"
      },
      "execution_count": 90,
      "outputs": [
        {
          "output_type": "stream",
          "name": "stdout",
          "text": [
            "Sixth Property: X@0 = 0\n",
            "\n",
            "K: \n",
            "[[0 0 0]\n",
            " [0 0 0]\n",
            " [0 0 0]]\n",
            "\n",
            "Matrix X: \n",
            "[[14 18 27]\n",
            " [ 2 14 -2]\n",
            " [14 26 22]]\n",
            "\n",
            "X@K\n",
            "\n",
            "[[0 0 0]\n",
            " [0 0 0]\n",
            " [0 0 0]]\n",
            "\n",
            "X@K has any values other than an array of zeroes? \n",
            "\n",
            "False\n"
          ]
        }
      ]
    }
  ]
}