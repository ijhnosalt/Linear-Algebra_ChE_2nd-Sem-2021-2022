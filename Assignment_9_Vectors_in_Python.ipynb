{
  "nbformat": 4,
  "nbformat_minor": 0,
  "metadata": {
    "colab": {
      "name": "Assignment 9 - Vectors in Python",
      "provenance": [],
      "collapsed_sections": [],
      "authorship_tag": "ABX9TyNQC5qcoUYt/ZFwzc/DMlki",
      "include_colab_link": true
    },
    "kernelspec": {
      "name": "python3",
      "display_name": "Python 3"
    },
    "language_info": {
      "name": "python"
    }
  },
  "cells": [
    {
      "cell_type": "markdown",
      "metadata": {
        "id": "view-in-github",
        "colab_type": "text"
      },
      "source": [
        "<a href=\"https://colab.research.google.com/github/ijhnosalt/Linear-Algebra_ChE_2nd-Sem-2021-2022/blob/main/Assignment_9_Vectors_in_Python.ipynb\" target=\"_parent\"><img src=\"https://colab.research.google.com/assets/colab-badge.svg\" alt=\"Open In Colab\"/></a>"
      ]
    },
    {
      "cell_type": "markdown",
      "source": [
        "# Lab 2 - Plotting Vector using NumPy and MatPlotLib"
      ],
      "metadata": {
        "id": "LPzFBhEtjIz9"
      }
    },
    {
      "cell_type": "markdown",
      "source": [
        "In this laboratory, we will cover the fundamentals of numerical and scientific programming by working with vectors in NumPy and MatPlotLib."
      ],
      "metadata": {
        "id": "Tt-doRuSjLb6"
      }
    },
    {
      "cell_type": "markdown",
      "source": [
        "### Objectives\n",
        "After completing this activity, you will be able to:\n",
        "1. Learn about Python's libraries for numerical and scientific programming.\n",
        "2. Python programming can be used to visualize vectors.\n",
        "3. Use code to perform simple vector operations."
      ],
      "metadata": {
        "id": "LL4Wq-d2jObk"
      }
    },
    {
      "cell_type": "markdown",
      "source": [
        "## Discussion"
      ],
      "metadata": {
        "id": "qROxpqltjQby"
      }
    },
    {
      "cell_type": "markdown",
      "source": [
        "### NumPy"
      ],
      "metadata": {
        "id": "Z6q_03ARjTg6"
      }
    },
    {
      "cell_type": "markdown",
      "source": [
        "NumPy, also known as Numerical Python, is primarily used to perform matrix and vector operations. It has the ability to declare, compute, and represent matrices. The basic code for most Python scientific programming libraries is NumPy."
      ],
      "metadata": {
        "id": "rVdKg1QkjV4y"
      }
    },
    {
      "cell_type": "markdown",
      "source": [
        "Scalars \\\\\n",
        "Represent magnitude or a single value\n",
        "\n",
        "Vectors \\\\\n",
        "Represent magnitude with directors"
      ],
      "metadata": {
        "id": "E4L9y7ZHjXz5"
      }
    },
    {
      "cell_type": "markdown",
      "source": [
        "#### Representing Vectors"
      ],
      "metadata": {
        "id": "v4Mod35ijZ2R"
      }
    },
    {
      "cell_type": "markdown",
      "source": [
        "We can now hard-code vectors in Python now that you know how to represent them using their component and matrix forms. Assume you have the following vectors:"
      ],
      "metadata": {
        "id": "8CNrEReljbst"
      }
    },
    {
      "cell_type": "markdown",
      "source": [
        "$$ A = 8\\hat{x} + 6\\hat{y} \\\\\n",
        "B = 4\\hat{x} - 10\\hat{y}\\\\\n",
        "C = 8ax + 6ay - 4az \\\\\n",
        "D = 4\\hat{i} - 4\\hat{j} + 6\\hat{k}$$"
      ],
      "metadata": {
        "id": "s_DCCsHgjdgU"
      }
    },
    {
      "cell_type": "markdown",
      "source": [
        "In which it's matrix equivalent is:"
      ],
      "metadata": {
        "id": "ZZGBtw_ZjfMB"
      }
    },
    {
      "cell_type": "markdown",
      "source": [
        "$$ A = \\begin{bmatrix} 8 \\\\ 6\\end{bmatrix} , B = \\begin{bmatrix} 4 \\\\ -10\\end{bmatrix} , C = \\begin{bmatrix} 8 \\\\ 6 \\\\  -4 \\end{bmatrix}, D = \\begin{bmatrix} 4 \\\\ -4 \\\\ 6\\end{bmatrix}\n",
        "$$\n",
        "$$ A = \\begin{bmatrix} 8 & 6\\end{bmatrix} , B = \\begin{bmatrix} 4 & -10\\end{bmatrix} , C = \\begin{bmatrix} 8 & 6 & -4\\end{bmatrix} , D = \\begin{bmatrix} 4 & -4 & 6\\end{bmatrix} \n",
        "$$"
      ],
      "metadata": {
        "id": "i8tKcZiLjhM6"
      }
    },
    {
      "cell_type": "markdown",
      "source": [
        "We can then start doing numpy code with this by:"
      ],
      "metadata": {
        "id": "FdiZjy43jirK"
      }
    },
    {
      "cell_type": "code",
      "source": [
        "## Importing necessary libraries\n",
        "import numpy as np ## 'np' here is short-hand name of the library (numpy) or a nickname."
      ],
      "metadata": {
        "id": "z-h6_vzvjknq"
      },
      "execution_count": 1,
      "outputs": []
    },
    {
      "cell_type": "code",
      "source": [
        "A = np.array([8, 6])\n",
        "B = np.array([4, -10])\n",
        "C = np.array([\n",
        "              [8],\n",
        "              [6],\n",
        "              [-4]\n",
        "])\n",
        "D = np.array ([[4],\n",
        "              [-4],\n",
        "              [6]])\n",
        "print('Vector A is ', A)\n",
        "print('Vector B is ', B)\n",
        "print('Vector C is ', C)\n",
        "print('Vector D is ', D)"
      ],
      "metadata": {
        "colab": {
          "base_uri": "https://localhost:8080/"
        },
        "id": "lhw2Cul0jmUT",
        "outputId": "adb622d8-d287-4f68-a3ba-e69a66453191"
      },
      "execution_count": 2,
      "outputs": [
        {
          "output_type": "stream",
          "name": "stdout",
          "text": [
            "Vector A is  [8 6]\n",
            "Vector B is  [  4 -10]\n",
            "Vector C is  [[ 8]\n",
            " [ 6]\n",
            " [-4]]\n",
            "Vector D is  [[ 4]\n",
            " [-4]\n",
            " [ 6]]\n"
          ]
        }
      ]
    },
    {
      "cell_type": "markdown",
      "source": [
        "#### Describing vectors in NumPy"
      ],
      "metadata": {
        "id": "D05BCzJkjpkM"
      }
    },
    {
      "cell_type": "markdown",
      "source": [
        "It is critical to describe vectors if we want to perform basic to advanced operations on them. Knowing the shape, size, and dimensions of vectors are the fundamental ways to describe them.\n",
        "\n"
      ],
      "metadata": {
        "id": "wE1vNfVkjrnC"
      }
    },
    {
      "cell_type": "code",
      "source": [
        "### Checking shapes\n",
        "### Shapes tells us how many elements are there on each row and column\n",
        "\n",
        "A.shape\n",
        "H = np.array([2, 1, 4, 10, -0.4, 1])\n",
        "H.shape\n",
        "C.shape"
      ],
      "metadata": {
        "colab": {
          "base_uri": "https://localhost:8080/"
        },
        "id": "71gPF1thju5z",
        "outputId": "d1d399b6-88fa-4247-a35c-9ac289ed93f0"
      },
      "execution_count": 3,
      "outputs": [
        {
          "output_type": "execute_result",
          "data": {
            "text/plain": [
              "(3, 1)"
            ]
          },
          "metadata": {},
          "execution_count": 3
        }
      ]
    },
    {
      "cell_type": "code",
      "source": [
        "### Checking size\n",
        "### Array/Vector sizes tells us many total number of elements are there in the vector\n",
        "\n",
        "D.size"
      ],
      "metadata": {
        "colab": {
          "base_uri": "https://localhost:8080/"
        },
        "id": "yKcZwgZLjwgq",
        "outputId": "eadde0e2-729e-4572-e674-c702cba7e6d5"
      },
      "execution_count": 4,
      "outputs": [
        {
          "output_type": "execute_result",
          "data": {
            "text/plain": [
              "3"
            ]
          },
          "metadata": {},
          "execution_count": 4
        }
      ]
    },
    {
      "cell_type": "code",
      "source": [
        "### Checking dimensions\n",
        "### The dimensions or rank of a vector tells us how many dimensions are there for the vector.\n",
        "\n",
        "D.ndim"
      ],
      "metadata": {
        "colab": {
          "base_uri": "https://localhost:8080/"
        },
        "id": "qbd5jqS-jxsN",
        "outputId": "c04e82e8-0775-4429-e0dd-6dd63dd56344"
      },
      "execution_count": 5,
      "outputs": [
        {
          "output_type": "execute_result",
          "data": {
            "text/plain": [
              "2"
            ]
          },
          "metadata": {},
          "execution_count": 5
        }
      ]
    },
    {
      "cell_type": "markdown",
      "source": [
        "Great! Now let's try to explore in performing operations with these vectors."
      ],
      "metadata": {
        "id": "jQ_Yp8KmjzMG"
      }
    },
    {
      "cell_type": "markdown",
      "source": [
        "#### Addition"
      ],
      "metadata": {
        "id": "CPd7WEb3j0nC"
      }
    },
    {
      "cell_type": "markdown",
      "source": [
        "The addition rule is straightforward; we simply add the elements of the matrices based on their index. So, in this case, if we add vectors $A$ and $B$, we get the following vector:"
      ],
      "metadata": {
        "id": "KkcYdBFzj2Bz"
      }
    },
    {
      "cell_type": "markdown",
      "source": [
        "$$R = 12\\hat{x}-4\\hat{y} \\\\ \\\\or \\\\ \\\\ R = \\begin{bmatrix} 12 \\\\ -4\\end{bmatrix} $$"
      ],
      "metadata": {
        "id": "MCFnIRY8j3vr"
      }
    },
    {
      "cell_type": "markdown",
      "source": [
        "So let's try to do that in NumPy in several number of ways:"
      ],
      "metadata": {
        "id": "XwIPo9Czj5qj"
      }
    },
    {
      "cell_type": "code",
      "source": [
        "R = np.add(A, B) ## this is the functional method usisng the numpy library\n",
        "P = np.add(C, D)\n"
      ],
      "metadata": {
        "id": "v9tOUIVvj8kc"
      },
      "execution_count": 6,
      "outputs": []
    },
    {
      "cell_type": "code",
      "source": [
        "R = A + B   ## this is the explicit method, since Python does a value-reference so it can \n",
        "            ## know that these variables would need to do array operations.\n",
        "R"
      ],
      "metadata": {
        "colab": {
          "base_uri": "https://localhost:8080/"
        },
        "id": "9OsVdN8lj-L0",
        "outputId": "5a54d0b6-cd93-4574-e0d6-14c4c815f285"
      },
      "execution_count": 7,
      "outputs": [
        {
          "output_type": "execute_result",
          "data": {
            "text/plain": [
              "array([12, -4])"
            ]
          },
          "metadata": {},
          "execution_count": 7
        }
      ]
    },
    {
      "cell_type": "code",
      "source": [
        "pos1 = np.array([0,0,0])\n",
        "pos2 = np.array([0,2,6])\n",
        "pos3 = np.array([2,10,-4])\n",
        "pos4 = np.array([10,-6,6])\n",
        "#R = pos1 + pos2 + pos3 + pos4\n",
        "#R = np.multiply(pos3, pos4)\n",
        "R = pos3 / pos4\n",
        "R"
      ],
      "metadata": {
        "colab": {
          "base_uri": "https://localhost:8080/"
        },
        "id": "oZFf5ZcHj_Vz",
        "outputId": "69ad8ef2-eb81-4e3c-bf35-d241f3e0e709"
      },
      "execution_count": 8,
      "outputs": [
        {
          "output_type": "execute_result",
          "data": {
            "text/plain": [
              "array([ 0.2       , -1.66666667, -0.66666667])"
            ]
          },
          "metadata": {},
          "execution_count": 8
        }
      ]
    },
    {
      "cell_type": "markdown",
      "source": [
        "##### Try for yourself!"
      ],
      "metadata": {
        "id": "xeq5Eg5_kSXb"
      }
    },
    {
      "cell_type": "markdown",
      "source": [
        "Try to implement subtraction, multiplication, and division with vectors $A$ and $B$!"
      ],
      "metadata": {
        "id": "oqLplInwkSvG"
      }
    },
    {
      "cell_type": "code",
      "source": [
        "### Try out you code here! \n",
        "\n"
      ],
      "metadata": {
        "id": "mWCpxWGFkVea"
      },
      "execution_count": 9,
      "outputs": []
    },
    {
      "cell_type": "markdown",
      "source": [
        "### Scaling"
      ],
      "metadata": {
        "id": "t2-A7WQYkXAe"
      }
    },
    {
      "cell_type": "markdown",
      "source": [
        "Scaling, also known as scalar multiplication, takes a scalar value and multiplies it with a vector. Consider the following example:"
      ],
      "metadata": {
        "id": "HjZbJQmDkaPr"
      }
    },
    {
      "cell_type": "markdown",
      "source": [
        "$$S = 10 \\cdot A$$"
      ],
      "metadata": {
        "id": "FI5YlRrskcOP"
      }
    },
    {
      "cell_type": "markdown",
      "source": [
        "We can do this in numpy through:"
      ],
      "metadata": {
        "id": "XUKnd5SPkeR3"
      }
    },
    {
      "cell_type": "code",
      "source": [
        "#S = 10 * A\n",
        "S = np.multiply(10,A)\n",
        "S"
      ],
      "metadata": {
        "colab": {
          "base_uri": "https://localhost:8080/"
        },
        "id": "lT1gUvtrkgSL",
        "outputId": "29613372-7226-4eab-896e-dac0232f3bec"
      },
      "execution_count": 10,
      "outputs": [
        {
          "output_type": "execute_result",
          "data": {
            "text/plain": [
              "array([80, 60])"
            ]
          },
          "metadata": {},
          "execution_count": 10
        }
      ]
    },
    {
      "cell_type": "markdown",
      "source": [
        "### MatPlotLib"
      ],
      "metadata": {
        "id": "Fz0mrhZRkjNl"
      }
    },
    {
      "cell_type": "markdown",
      "source": [
        "MatPlotLib, also known as the MATLab Plotting Library, is Python's implementation of MATLab's plotting feature. MatPlotLib has a wide range of applications, from grabbing values to visualizing data in multiple dimensions."
      ],
      "metadata": {
        "id": "bMXpA4fTkkpK"
      }
    },
    {
      "cell_type": "markdown",
      "source": [
        "#### Visualizing Data"
      ],
      "metadata": {
        "id": "4Ne2sQkVkmCb"
      }
    },
    {
      "cell_type": "markdown",
      "source": [
        "It may be necessary to visualize these vectors in addition to solving them. For that, we'll use MatPlotLib. First, we'll need to import it.\n"
      ],
      "metadata": {
        "id": "11oRO8cQkni7"
      }
    },
    {
      "cell_type": "code",
      "source": [
        "import matplotlib.pyplot as plt\n",
        "import matplotlib\n",
        "%matplotlib inline"
      ],
      "metadata": {
        "id": "1ewH0HGOkpEd"
      },
      "execution_count": 11,
      "outputs": []
    },
    {
      "cell_type": "code",
      "source": [
        "A = [2, -2]\n",
        "B = [10, -2]\n",
        "plt.scatter(A[0], A[1], label='A', c='pink')\n",
        "plt.scatter(B[0], B[1], label='B', c='green')\n",
        "plt.grid()\n",
        "plt.legend()\n",
        "plt.show()"
      ],
      "metadata": {
        "colab": {
          "base_uri": "https://localhost:8080/",
          "height": 265
        },
        "id": "iM0JuJm4kqMM",
        "outputId": "4ad3d1a9-a7a4-4017-cab8-2d2dfa89a1f1"
      },
      "execution_count": 12,
      "outputs": [
        {
          "output_type": "display_data",
          "data": {
            "text/plain": [
              "<Figure size 432x288 with 1 Axes>"
            ],
            "image/png": "[encoded data removed]"
          },
          "metadata": {
            "needs_background": "light"
          }
        }
      ]
    },
    {
      "cell_type": "code",
      "source": [
        "A = np.array([1, -1])\n",
        "B = np.array([1, 5])\n",
        "Magnitude = np.sqrt(np.sum(R**2))\n",
        "plt.title(\"Resultant Vector\\nMagnitude:{}\" .format(Magnitude))\n",
        "plt.xlim(-5, 5)\n",
        "plt.ylim(-5, 5)\n",
        "plt.quiver(0, 0, A[0], A[1], angles='xy', scale_units='xy', scale=1, color='red')\n",
        "plt.quiver(A[0], A[1], B[0], B[1], angles='xy', scale_units='xy', scale=1, color='green')\n",
        "R = A + B\n",
        "plt.quiver(0, 0, R[0], R[1], angles='xy', scale_units='xy', scale=1, color='black')\n",
        "plt.grid()\n",
        "plt.show()\n",
        "print(R)\n",
        "Magnitude = np.sqrt(np.sum(R**2))\n",
        "print(Magnitude)\n",
        "Slope = R[1]/R[0]\n",
        "print(Slope)\n",
        "Angle = (np.arctan(Slope))*(180/np.pi)\n",
        "print(Angle)"
      ],
      "metadata": {
        "colab": {
          "base_uri": "https://localhost:8080/",
          "height": 369
        },
        "id": "C1UkjmOdks6N",
        "outputId": "28aa7684-8356-4caf-9cdd-5e5afc71aa3a"
      },
      "execution_count": 13,
      "outputs": [
        {
          "output_type": "display_data",
          "data": {
            "text/plain": [
              "<Figure size 432x288 with 1 Axes>"
            ],
            "image/png": "[encoded data removed]"
          },
          "metadata": {
            "needs_background": "light"
          }
        },
        {
          "output_type": "stream",
          "name": "stdout",
          "text": [
            "[2 4]\n",
            "4.47213595499958\n",
            "2.0\n",
            "63.43494882292201\n"
          ]
        }
      ]
    },
    {
      "cell_type": "code",
      "source": [
        "n = A.shape[0]\n",
        "plt.xlim(-10, 10)\n",
        "plt.ylim(-10, 10)\n",
        "plt.quiver(0,0, A[0], A[1], angles='xy', scale_units='xy',scale=1)\n",
        "plt.quiver(A[0],A[1], B[0], B[1], angles='xy', scale_units='xy',scale=1)\n",
        "plt.quiver(0,0, R[0], R[1], angles='xy', scale_units='xy',scale=1)\n",
        "plt.show()"
      ],
      "metadata": {
        "colab": {
          "base_uri": "https://localhost:8080/",
          "height": 269
        },
        "id": "vEI4j0uKkuQy",
        "outputId": "2ecae1d2-211d-4890-9af5-0e5dedeb1897"
      },
      "execution_count": 14,
      "outputs": [
        {
          "output_type": "display_data",
          "data": {
            "text/plain": [
              "<Figure size 432x288 with 1 Axes>"
            ],
            "image/png": "[encoded data removed]"
          },
          "metadata": {
            "needs_background": "light"
          }
        }
      ]
    },
    {
      "cell_type": "markdown",
      "source": [
        "Try plotting Three Vectors and show the Resultant Vector as a result.\n",
        "Use Head to Tail Method."
      ],
      "metadata": {
        "id": "0n4WIv-ckwHM"
      }
    },
    {
      "cell_type": "code",
      "source": [
        "####Three vectors\n",
        "Alex = np.array([6, 7])\n",
        "Ij = np.array([4, 8])\n",
        "Kistel = Alex + Ij\n",
        "Mer = np.array([-4, 23])\n",
        "Jamie = Mer + Alex + Ij\n",
        "magnitude = np.sqrt(np.sum(Mer**2))\n",
        "plt.title(\"Resultant Vector\\nMagnitude: {} \\n Resultant: {}\".format(magnitude, Mer))\n",
        "plt.xlim(-10, 40)\n",
        "plt.ylim(-10, 40)\n",
        "plt.quiver(0, 0, Alex[0], Alex[1], angles='xy', scale_units='xy', scale=1, color='Pink')\n",
        "plt.quiver(Alex[0], Alex[1], Ij[0], Ij[1], angles='xy', scale_units='xy', scale=1, color='Green')\n",
        "plt.quiver(Kistel[0], Kistel[1], Jamie[0], Jamie[1], angles='xy', scale_units='xy', scale=1, color='Blue')\n",
        "plt.quiver(0, 0, Mer[0], Mer[1], angles='xy', scale_units='xy', scale=1, color='red')\n",
        "plt.grid()\n",
        "plt.show()\n",
        "Slope = R[1]/R[0]\n",
        "print(Slope)\n",
        "Angle = (np.arctan(Slope))*(180/np.pi)\n",
        "print(Angle)"
      ],
      "metadata": {
        "colab": {
          "base_uri": "https://localhost:8080/",
          "height": 347
        },
        "id": "s_hXNkdgIzPr",
        "outputId": "6a555806-dde2-4186-c039-2b7138d1b9b1"
      },
      "execution_count": 15,
      "outputs": [
        {
          "output_type": "display_data",
          "data": {
            "text/plain": [
              "<Figure size 432x288 with 1 Axes>"
            ],
            "image/png": "[encoded data removed]"
          },
          "metadata": {
            "needs_background": "light"
          }
        },
        {
          "output_type": "stream",
          "name": "stdout",
          "text": [
            "2.0\n",
            "63.43494882292201\n"
          ]
        }
      ]
    }
  ]
}